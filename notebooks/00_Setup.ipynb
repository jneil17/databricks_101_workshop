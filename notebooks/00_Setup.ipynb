{
 "cells": [
  {
   "cell_type": "markdown",
   "metadata": {
    "application/vnd.databricks.v1+cell": {
     "cellMetadata": {},
     "inputWidgets": {},
     "nuid": "110c5e34-d458-414a-b2ce-96145622d16a",
     "showTitle": false,
     "tableResultSettingsMap": {},
     "title": ""
    }
   },
   "source": [
    "# 🏁 Formula 1 Workshop: Data Setup\n",
    "\n",
    "*This notebook downloads Formula 1 datasets and loads them into a Databricks volume.*\n",
    "\n",
    "---"
   ]
  },
  {
   "cell_type": "markdown",
   "metadata": {
    "application/vnd.databricks.v1+cell": {
     "cellMetadata": {},
     "inputWidgets": {},
     "nuid": "3b5e6f89-5b89-4f42-9472-c6459c2483b9",
     "showTitle": false,
     "tableResultSettingsMap": {},
     "title": ""
    }
   },
   "source": [
    "## Step 1: Connect to Compute\n",
    "Connect to serverless compute in the compute drop-down at your top right."
   ]
  },
  {
   "cell_type": "code",
   "execution_count": 0,
   "metadata": {
    "application/vnd.databricks.v1+cell": {
     "cellMetadata": {
      "byteLimit": 2048000,
      "rowLimit": 10000
     },
     "inputWidgets": {},
     "nuid": "348d281b-c692-4777-a2d4-48c1e8dc86d7",
     "showTitle": false,
     "tableResultSettingsMap": {},
     "title": ""
    },
    "vscode": {
     "languageId": "python"
    }
   },
   "outputs": [],
   "source": [
    "# Download Formula 1 CSV Files directly to Volume\n",
    "import urllib.request\n",
    "import os\n",
    "\n",
    "# Create the volume if it doesn't exist\n",
    "spark.sql(\"CREATE VOLUME IF NOT EXISTS main.default.formula1\")\n",
    "print(\"✓ Volume created/verified\")\n",
    "\n",
    "# Define the files to download\n",
    "files_to_download = {\n",
    "    'Formula1_2025Season_QualifyingResults.csv': 'https://raw.githubusercontent.com/toUpperCase78/formula1-datasets/master/Formula1_2025Season_QualifyingResults.csv',\n",
    "    'Formula1_2025Season_RaceResults.csv': 'https://raw.githubusercontent.com/toUpperCase78/formula1-datasets/master/Formula1_2025Season_RaceResults.csv',\n",
    "    'Formula1_2025Season_SprintQualifyingResults.csv': 'https://raw.githubusercontent.com/toUpperCase78/formula1-datasets/master/Formula1_2025Season_SprintQualifyingResults.csv',\n",
    "    'Formula1_2025Season_SprintResults.csv': 'https://raw.githubusercontent.com/toUpperCase78/formula1-datasets/master/Formula1_2025Season_SprintResults.csv'\n",
    "}\n",
    "\n",
    "# Download each file to the volume\n",
    "volume_path = '/Volumes/main/default/formula1/'\n",
    "\n",
    "for filename, url in files_to_download.items():\n",
    "    try:\n",
    "        print(f\"Downloading {filename}...\")\n",
    "        file_path = volume_path + filename\n",
    "        urllib.request.urlretrieve(url, file_path)\n",
    "        print(f\"✓ Successfully downloaded {filename}\")\n",
    "    except Exception as e:\n",
    "        print(f\"✗ Error downloading {filename}: {str(e)}\")\n",
    "\n",
    "print(\"\\n\" + \"=\"*50)\n",
    "print(\"Download complete! Listing files in volume:\")\n",
    "print(\"=\"*50)\n",
    "\n",
    "# List files in the volume\n",
    "try:\n",
    "    files = dbutils.fs.ls(volume_path)\n",
    "    for file in files:\n",
    "        if file.name.endswith('.csv'):\n",
    "            print(f\"✓ {file.name} ({file.size} bytes)\")\n",
    "except Exception as e:\n",
    "    print(f\"Error listing files: {e}\")\n",
    "\n",
    "print(\"\\nFormula 1 data files are now ready in the volume!\")"
   ]
  },
  {
   "cell_type": "markdown",
   "metadata": {
    "application/vnd.databricks.v1+cell": {
     "cellMetadata": {},
     "inputWidgets": {},
     "nuid": "e3d27c0d-7785-4ea8-ba98-770060e3a281",
     "showTitle": false,
     "tableResultSettingsMap": {},
     "title": ""
    }
   },
   "source": [
    "## What's Next?\n",
    "\n",
    "Now that you've set up the Formula 1 data in your Databricks workspace:\n",
    "\n",
    "1. The data is available in the volume at `/Volumes/main/default/formula1/`\n",
    "2. You can use these files in the workshop notebooks\n",
    "3. Continue to the next notebook to start exploring the Databricks platform"
   ]
  }
 ],
 "metadata": {
  "application/vnd.databricks.v1+notebook": {
   "computePreferences": null,
   "dashboards": [],
   "environmentMetadata": {
    "base_environment": "",
    "environment_version": "4"
   },
   "inputWidgetPreferences": null,
   "language": "python",
   "notebookMetadata": {
    "pythonIndentUnit": 2
   },
   "notebookName": "00_Setup",
   "widgets": {}
  },
  "language_info": {
   "name": "python"
  }
 },
 "nbformat": 4,
 "nbformat_minor": 0
}
