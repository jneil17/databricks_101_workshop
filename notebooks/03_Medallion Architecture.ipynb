{
 "cells": [
  {
   "cell_type": "markdown",
   "metadata": {
    "application/vnd.databricks.v1+cell": {
     "cellMetadata": {},
     "inputWidgets": {},
     "nuid": "23ed3efb-702c-4926-90df-72b4261606d2",
     "showTitle": false,
     "tableResultSettingsMap": {},
     "title": ""
    }
   },
   "source": [
    "# 📊 Building the Medallion Architecture\n",
    "*Create a complete F1 analytics pipeline using the data lake design pattern*\n",
    "\n",
    "---\n",
    "\n",
    "## 🎯 What We'll Build\n",
    "\n",
    "In this notebook, we'll build a complete data pipeline following the medallion architecture pattern:\n",
    "\n",
    "1. **Bronze Layer**: Raw data ingestion from Volume\n",
    "2. **Silver Layer**: Clean and transform the data\n",
    "3. **Gold Layer**: Create analytics-ready tables\n",
    "\n",
    "We'll use the F1 dataset that we prepared in the setup notebook to analyze Formula 1 racing history.\n",
    "\n",
    "**Let's get started!** 🚀"
   ]
  },
  {
   "cell_type": "markdown",
   "metadata": {
    "application/vnd.databricks.v1+cell": {
     "cellMetadata": {},
     "inputWidgets": {},
     "nuid": "1cf747e2-8677-4f03-82f2-bba5d3232c02",
     "showTitle": false,
     "tableResultSettingsMap": {},
     "title": ""
    }
   },
   "source": [
    "## 📋 Prerequisites\n",
    "\n",
    "Before running this notebook, make sure you've completed:\n",
    "1. The `00_Setup_Data.ipynb` notebook to download F1 data into the Volume\n",
    "2. Attached this notebook to a cluster with Spark 3.3+\n",
    "\n",
    "Let's first verify that our data is available in the Volume:"
   ]
  },
  {
   "cell_type": "markdown",
   "metadata": {
    "application/vnd.databricks.v1+cell": {
     "cellMetadata": {},
     "inputWidgets": {},
     "nuid": "f45591c2-df61-4602-803d-94e69da08853",
     "showTitle": false,
     "tableResultSettingsMap": {},
     "title": ""
    }
   },
   "source": [
    "## 1️⃣ Bronze Layer: Raw Data Ingestion\n",
    "\n",
    "The Bronze layer represents the raw data ingested from source systems with minimal transformation.\n",
    "We'll create tables from the CSV files in our Volume using the COPY INTO command.\n",
    "\n",
    "Let's start by creating tables for races, drivers, and results:"
   ]
  },
  {
   "cell_type": "code",
   "execution_count": 0,
   "metadata": {
    "application/vnd.databricks.v1+cell": {
     "cellMetadata": {
      "byteLimit": 2048000,
      "implicitDf": true,
      "rowLimit": 10000
     },
     "inputWidgets": {},
     "nuid": "43f92e6a-0fe6-4ba0-a000-9b796b7a6dd1",
     "showTitle": true,
     "tableResultSettingsMap": {},
     "title": "Create Bronze Tables for F1 2025 Season"
    }
   },
   "outputs": [],
   "source": [
    "%sql\n",
    "-- Bronze Layer: Create tables for F1 2025 season data with correct column names\n",
    "\n",
    "-- Create bronze_race_results table matching CSV structure\n",
    "CREATE TABLE IF NOT EXISTS main.default.bronze_race_results (\n",
    "  Track STRING,\n",
    "  Position STRING,\n",
    "  No INT,\n",
    "  Driver STRING,\n",
    "  Team STRING,\n",
    "  Starting_Grid INT,\n",
    "  Laps INT,\n",
    "  Time_Retired STRING,\n",
    "  Points INT,\n",
    "  Set_Fastest_Lap STRING,\n",
    "  Fastest_Lap_Time STRING,\n",
    "  _rescued_data STRING\n",
    ") USING DELTA\n",
    "TBLPROPERTIES (\n",
    "  'delta.columnMapping.mode' = 'name'\n",
    ");"
   ]
  },
  {
   "cell_type": "code",
   "execution_count": 0,
   "metadata": {
    "application/vnd.databricks.v1+cell": {
     "cellMetadata": {
      "byteLimit": 2048000,
      "implicitDf": true,
      "rowLimit": 10000
     },
     "inputWidgets": {},
     "nuid": "76a177e2-fe89-48cf-8325-9d13916aa2a2",
     "showTitle": false,
     "tableResultSettingsMap": {},
     "title": ""
    }
   },
   "outputs": [],
   "source": [
    "%sql\n",
    "DESCRIBE VOLUME main.default.formula1"
   ]
  },
  {
   "cell_type": "code",
   "execution_count": 0,
   "metadata": {
    "application/vnd.databricks.v1+cell": {
     "cellMetadata": {
      "byteLimit": 2048000,
      "implicitDf": true,
      "rowLimit": 10000
     },
     "inputWidgets": {},
     "nuid": "675cbb1b-1de5-4e5d-81f9-e1c3684b8e56",
     "showTitle": true,
     "tableResultSettingsMap": {},
     "title": "Load Race Results into Bronze"
    }
   },
   "outputs": [],
   "source": [
    "%sql\n",
    "-- Insert data into the existing bronze_race_results table\n",
    "INSERT INTO main.default.bronze_race_results\n",
    "SELECT \n",
    "  Position as position,\n",
    "  Driver as driver,\n",
    "  Team as team,\n",
    "  CAST(Points AS STRING) as points,\n",
    "  `Fastest Lap Time` as fastest_lap,\n",
    "  Track as race,\n",
    "  CAST(current_date() AS STRING) as date\n",
    "FROM read_files(\n",
    "  '/Volumes/main/default/formula1/Formula1_2025Season_RaceResults.csv',\n",
    "  format => 'csv',\n",
    "  header => true\n",
    ");\n",
    "\n",
    "-- Check the loaded data\n",
    "SELECT COUNT(*) as total_records FROM main.default.bronze_race_results;\n",
    "SELECT race, position, driver, team, points FROM main.default.bronze_race_results LIMIT 10;"
   ]
  },
  {
   "cell_type": "code",
   "execution_count": 0,
   "metadata": {
    "application/vnd.databricks.v1+cell": {
     "cellMetadata": {
      "byteLimit": 2048000,
      "implicitDf": true,
      "rowLimit": 10000
     },
     "inputWidgets": {},
     "nuid": "70dc6be4-1013-4cb8-bb38-5404530f2338",
     "showTitle": true,
     "tableResultSettingsMap": {},
     "title": "Load Qualifying Results into Bronze"
    }
   },
   "outputs": [],
   "source": [
    "%sql\n",
    "-- Check qualifying results CSV structure first\n",
    "SELECT * FROM read_files(\n",
    "  '/Volumes/main/default/formula1/Formula1_2025Season_QualifyingResults.csv',\n",
    "  format => 'csv',\n",
    "  header => true\n",
    ") LIMIT 3;\n",
    "\n",
    "-- Create and load qualifying results table\n",
    "CREATE TABLE IF NOT EXISTS main.default.bronze_qualifying_results (\n",
    "  race STRING,\n",
    "  position STRING,\n",
    "  driver STRING,\n",
    "  team STRING,\n",
    "  q1_time STRING,\n",
    "  q2_time STRING,\n",
    "  q3_time STRING,\n",
    "  date STRING\n",
    ") USING DELTA;\n",
    "\n",
    "-- Insert qualifying data\n",
    "INSERT INTO main.default.bronze_qualifying_results\n",
    "SELECT \n",
    "  Track as race,\n",
    "  Position as position,\n",
    "  Driver as driver,\n",
    "  Team as team,\n",
    "  Q1 as q1_time,\n",
    "  Q2 as q2_time,\n",
    "  Q3 as q3_time,\n",
    "  CAST(current_date() AS STRING) as date\n",
    "FROM read_files(\n",
    "  '/Volumes/main/default/formula1/Formula1_2025Season_QualifyingResults.csv',\n",
    "  format => 'csv',\n",
    "  header => true\n",
    ");\n",
    "\n",
    "-- Check the data\n",
    "SELECT COUNT(*) as total_records FROM main.default.bronze_qualifying_results;\n",
    "SELECT * FROM main.default.bronze_qualifying_results LIMIT 5;"
   ]
  },
  {
   "cell_type": "code",
   "execution_count": 0,
   "metadata": {
    "application/vnd.databricks.v1+cell": {
     "cellMetadata": {
      "byteLimit": 2048000,
      "implicitDf": true,
      "rowLimit": 10000
     },
     "inputWidgets": {},
     "nuid": "db68ec3c-c14e-4e2f-a582-4f1ce31ef21f",
     "showTitle": true,
     "tableResultSettingsMap": {},
     "title": "Load Sprint Data into Bronze"
    }
   },
   "outputs": [],
   "source": [
    "%sql\n",
    "-- Check sprint results CSV structure\n",
    "SELECT * FROM read_files(\n",
    "  '/Volumes/main/default/formula1/Formula1_2025Season_SprintResults.csv',\n",
    "  format => 'csv',\n",
    "  header => true\n",
    ") LIMIT 3;\n",
    "\n",
    "-- Check sprint qualifying CSV structure\n",
    "SELECT * FROM read_files(\n",
    "  '/Volumes/main/default/formula1/Formula1_2025Season_SprintQualifyingResults.csv',\n",
    "  format => 'csv',\n",
    "  header => true\n",
    ") LIMIT 3;"
   ]
  },
  {
   "cell_type": "code",
   "execution_count": 0,
   "metadata": {
    "application/vnd.databricks.v1+cell": {
     "cellMetadata": {
      "byteLimit": 2048000,
      "implicitDf": true,
      "rowLimit": 10000
     },
     "inputWidgets": {},
     "nuid": "cfa8b358-aba5-4827-aeb6-244d709da3ac",
     "showTitle": true,
     "tableResultSettingsMap": {},
     "title": "Load Sprint Qualifying Data"
    }
   },
   "outputs": [],
   "source": [
    "%sql\n",
    "-- Insert sprint qualifying data into existing table\n",
    "INSERT INTO main.default.bronze_sprint_qualifying\n",
    "SELECT \n",
    "  CAST(Position AS STRING) as position,\n",
    "  Driver as driver,\n",
    "  Team as team,\n",
    "  Q1 as sq1_time,\n",
    "  Q2 as sq2_time,\n",
    "  Q3 as sq3_time,\n",
    "  Track as race,\n",
    "  CAST(current_date() AS STRING) as date\n",
    "FROM read_files(\n",
    "  '/Volumes/main/default/formula1/Formula1_2025Season_SprintQualifyingResults.csv',\n",
    "  format => 'csv',\n",
    "  header => true\n",
    ");\n",
    "\n",
    "SELECT COUNT(*) as records FROM main.default.bronze_sprint_qualifying;\n",
    "SELECT * FROM main.default.bronze_sprint_qualifying LIMIT 5;"
   ]
  },
  {
   "cell_type": "code",
   "execution_count": 0,
   "metadata": {
    "application/vnd.databricks.v1+cell": {
     "cellMetadata": {
      "byteLimit": 2048000,
      "implicitDf": true,
      "rowLimit": 10000
     },
     "inputWidgets": {},
     "nuid": "3fac7d60-ff1e-427d-bcba-9f5222b1ab2c",
     "showTitle": true,
     "tableResultSettingsMap": {},
     "title": "Load Sprint Results Data"
    }
   },
   "outputs": [],
   "source": [
    "%sql\n",
    "-- Check the actual sprint results structure\n",
    "SELECT * FROM read_files(\n",
    "  '/Volumes/main/default/formula1/Formula1_2025Season_SprintResults.csv',\n",
    "  format => 'csv',\n",
    "  header => true\n",
    ") LIMIT 3;"
   ]
  },
  {
   "cell_type": "code",
   "execution_count": 0,
   "metadata": {
    "application/vnd.databricks.v1+cell": {
     "cellMetadata": {
      "byteLimit": 2048000,
      "implicitDf": true,
      "rowLimit": 10000
     },
     "inputWidgets": {},
     "nuid": "ed4c3784-c9cc-4339-84cd-0b3226a58b97",
     "showTitle": true,
     "tableResultSettingsMap": {},
     "title": "Load Sprint Results Data"
    }
   },
   "outputs": [],
   "source": [
    "%sql\n",
    "-- Insert sprint results data into existing table\n",
    "INSERT INTO main.default.bronze_sprint_results\n",
    "SELECT \n",
    "  Position as position,\n",
    "  Driver as driver,\n",
    "  Team as team,\n",
    "  CAST(Points AS STRING) as points,\n",
    "  `Time/Retired` as fastest_lap,  -- Using time/retired as fastest_lap placeholder\n",
    "  Track as race,\n",
    "  CAST(current_date() AS STRING) as date\n",
    "FROM read_files(\n",
    "  '/Volumes/main/default/formula1/Formula1_2025Season_SprintResults.csv',\n",
    "  format => 'csv',\n",
    "  header => true\n",
    ");\n",
    "\n",
    "SELECT COUNT(*) as records FROM main.default.bronze_sprint_results;\n",
    "SELECT * FROM main.default.bronze_sprint_results LIMIT 5;"
   ]
  },
  {
   "cell_type": "code",
   "execution_count": 0,
   "metadata": {
    "application/vnd.databricks.v1+cell": {
     "cellMetadata": {
      "byteLimit": 2048000,
      "implicitDf": true,
      "rowLimit": 10000
     },
     "inputWidgets": {},
     "nuid": "0699fc49-bd97-4a58-bfeb-16f56ffdbe16",
     "showTitle": true,
     "tableResultSettingsMap": {},
     "title": "Create Silver Layer - Race Results"
    }
   },
   "outputs": [],
   "source": [
    "%sql\n",
    "-- Silver Layer: Clean and transform race results\n",
    "CREATE TABLE IF NOT EXISTS main.default.silver_race_results\n",
    "USING DELTA\n",
    "AS\n",
    "SELECT \n",
    "  race,\n",
    "  CAST(position AS INT) as finish_position,\n",
    "  driver,\n",
    "  team,\n",
    "  CAST(points AS INT) as points_earned,\n",
    "  fastest_lap as fastest_lap_time,\n",
    "  date as race_date,\n",
    "  -- Add derived columns\n",
    "  CASE \n",
    "    WHEN CAST(position AS INT) = 1 THEN 'Winner'\n",
    "    WHEN CAST(position AS INT) <= 3 THEN 'Podium'\n",
    "    WHEN CAST(position AS INT) <= 10 THEN 'Points'\n",
    "    ELSE 'No Points'\n",
    "  END as result_category,\n",
    "  current_timestamp() as processed_at\n",
    "FROM main.default.bronze_race_results\n",
    "WHERE position IS NOT NULL \n",
    "  AND position != 'DNF' \n",
    "  AND position != 'DNS'\n",
    "  AND TRY_CAST(position AS INT) IS NOT NULL;\n",
    "\n",
    "SELECT COUNT(*) as total_records FROM main.default.silver_race_results;\n",
    "SELECT * FROM main.default.silver_race_results ORDER BY finish_position LIMIT 10;"
   ]
  },
  {
   "cell_type": "code",
   "execution_count": 0,
   "metadata": {
    "application/vnd.databricks.v1+cell": {
     "cellMetadata": {
      "byteLimit": 2048000,
      "implicitDf": true,
      "rowLimit": 10000
     },
     "inputWidgets": {},
     "nuid": "4d7261df-8c9a-4f84-97c4-9b56ca524b56",
     "showTitle": true,
     "tableResultSettingsMap": {},
     "title": "Create Silver Layer - Qualifying Results"
    }
   },
   "outputs": [],
   "source": [
    "%sql\n",
    "-- Silver Layer: Clean and transform qualifying results\n",
    "CREATE TABLE IF NOT EXISTS main.default.silver_qualifying_results\n",
    "USING DELTA\n",
    "AS\n",
    "SELECT \n",
    "  race,\n",
    "  CAST(position AS INT) as qualifying_position,\n",
    "  driver,\n",
    "  team,\n",
    "  q1_time,\n",
    "  q2_time,\n",
    "  q3_time,\n",
    "  date as qualifying_date,\n",
    "  -- Add derived columns\n",
    "  CASE \n",
    "    WHEN CAST(position AS INT) = 1 THEN 'Pole Position'\n",
    "    WHEN CAST(position AS INT) <= 3 THEN 'Front Row'\n",
    "    WHEN CAST(position AS INT) <= 10 THEN 'Q3'\n",
    "    WHEN CAST(position AS INT) <= 15 THEN 'Q2'\n",
    "    ELSE 'Q1 Only'\n",
    "  END as qualifying_category,\n",
    "  current_timestamp() as processed_at\n",
    "FROM main.default.bronze_qualifying_results\n",
    "WHERE position IS NOT NULL \n",
    "  AND TRY_CAST(position AS INT) IS NOT NULL;\n",
    "\n",
    "SELECT COUNT(*) as total_records FROM main.default.silver_qualifying_results;\n",
    "SELECT * FROM main.default.silver_qualifying_results ORDER BY qualifying_position LIMIT 10;"
   ]
  },
  {
   "cell_type": "code",
   "execution_count": 0,
   "metadata": {
    "application/vnd.databricks.v1+cell": {
     "cellMetadata": {
      "byteLimit": 2048000,
      "implicitDf": true,
      "rowLimit": 10000
     },
     "inputWidgets": {},
     "nuid": "ab08a1e9-6d5d-4bb8-9139-e44483dd82f7",
     "showTitle": true,
     "tableResultSettingsMap": {},
     "title": "Check Bronze Qualifying Data"
    }
   },
   "outputs": [],
   "source": [
    "%sql\n",
    "-- Check what's in the bronze qualifying table\n",
    "SELECT COUNT(*) as total_records FROM main.default.bronze_qualifying_results;\n",
    "SELECT * FROM main.default.bronze_qualifying_results LIMIT 5;\n",
    "\n",
    "-- If empty, let's load it properly\n",
    "INSERT INTO main.default.bronze_qualifying_results\n",
    "SELECT \n",
    "  CAST(Position AS STRING) as position,\n",
    "  Driver as driver,\n",
    "  Team as team,\n",
    "  Q1 as q1_time,\n",
    "  Q2 as q2_time,\n",
    "  Q3 as q3_time,\n",
    "  Track as race,\n",
    "  CAST(current_date() AS STRING) as date\n",
    "FROM read_files(\n",
    "  '/Volumes/main/default/formula1/Formula1_2025Season_QualifyingResults.csv',\n",
    "  format => 'csv',\n",
    "  header => true\n",
    ")\n",
    "WHERE NOT EXISTS (\n",
    "  SELECT 1 FROM main.default.bronze_qualifying_results \n",
    "  WHERE driver = Driver AND race = Track\n",
    ");"
   ]
  },
  {
   "cell_type": "code",
   "execution_count": 0,
   "metadata": {
    "application/vnd.databricks.v1+cell": {
     "cellMetadata": {
      "byteLimit": 2048000,
      "implicitDf": true,
      "rowLimit": 10000
     },
     "inputWidgets": {},
     "nuid": "8473dd90-d33e-4fdf-b341-459a3017e80c",
     "showTitle": true,
     "tableResultSettingsMap": {},
     "title": "Create Gold Layer - Driver Championship"
    }
   },
   "outputs": [],
   "source": [
    "%sql\n",
    "-- Gold Layer: Driver Championship Standings\n",
    "CREATE TABLE IF NOT EXISTS main.default.gold_driver_championship\n",
    "USING DELTA\n",
    "AS\n",
    "SELECT \n",
    "  driver,\n",
    "  team,\n",
    "  COUNT(*) as races_entered,\n",
    "  SUM(points_earned) as total_points,\n",
    "  SUM(CASE WHEN finish_position = 1 THEN 1 ELSE 0 END) as wins,\n",
    "  SUM(CASE WHEN finish_position <= 3 THEN 1 ELSE 0 END) as podiums,\n",
    "  SUM(CASE WHEN finish_position <= 10 THEN 1 ELSE 0 END) as points_finishes,\n",
    "  ROUND(AVG(CAST(finish_position AS DOUBLE)), 2) as avg_finish_position,\n",
    "  ROUND(SUM(points_earned) * 1.0 / COUNT(*), 2) as points_per_race,\n",
    "  current_timestamp() as processed_at\n",
    "FROM main.default.silver_race_results\n",
    "GROUP BY driver, team\n",
    "ORDER BY total_points DESC;\n",
    "\n",
    "SELECT * FROM main.default.gold_driver_championship LIMIT 10;"
   ]
  },
  {
   "cell_type": "code",
   "execution_count": 0,
   "metadata": {
    "application/vnd.databricks.v1+cell": {
     "cellMetadata": {
      "byteLimit": 2048000,
      "implicitDf": true,
      "rowLimit": 10000
     },
     "inputWidgets": {},
     "nuid": "e640c5bd-22bc-4bff-8935-39d1e450e967",
     "showTitle": true,
     "tableResultSettingsMap": {},
     "title": "Create Gold Layer - Team Championship"
    }
   },
   "outputs": [],
   "source": [
    "%sql\n",
    "-- Gold Layer: Constructor/Team Championship Standings\n",
    "CREATE TABLE IF NOT EXISTS main.default.gold_team_championship\n",
    "USING DELTA\n",
    "AS\n",
    "SELECT \n",
    "  team,\n",
    "  COUNT(DISTINCT driver) as drivers_count,\n",
    "  COUNT(*) as total_entries,\n",
    "  SUM(points_earned) as total_points,\n",
    "  SUM(CASE WHEN finish_position = 1 THEN 1 ELSE 0 END) as wins,\n",
    "  SUM(CASE WHEN finish_position <= 3 THEN 1 ELSE 0 END) as podiums,\n",
    "  ROUND(AVG(CAST(finish_position AS DOUBLE)), 2) as avg_finish_position,\n",
    "  ROUND(SUM(points_earned) * 1.0 / COUNT(*), 2) as points_per_entry,\n",
    "  current_timestamp() as processed_at\n",
    "FROM main.default.silver_race_results\n",
    "GROUP BY team\n",
    "ORDER BY total_points DESC;\n",
    "\n",
    "SELECT * FROM main.default.gold_team_championship LIMIT 10;"
   ]
  },
  {
   "cell_type": "code",
   "execution_count": 0,
   "metadata": {
    "application/vnd.databricks.v1+cell": {
     "cellMetadata": {
      "byteLimit": 2048000,
      "implicitDf": true,
      "rowLimit": 10000
     },
     "inputWidgets": {},
     "nuid": "d7f15717-bb13-48f6-9f3e-c780e90bfcb2",
     "showTitle": true,
     "tableResultSettingsMap": {},
     "title": "Medallion Architecture Summary"
    }
   },
   "outputs": [],
   "source": [
    "%sql\n",
    "-- Summary of our Medallion Architecture implementation\n",
    "-- Bronze Layer Tables (Raw Data)\n",
    "SELECT 'Bronze Layer' as layer, 'bronze_race_results' as table_name, COUNT(*) as record_count FROM main.default.bronze_race_results\n",
    "UNION ALL\n",
    "SELECT 'Bronze Layer' as layer, 'bronze_qualifying_results' as table_name, COUNT(*) as record_count FROM main.default.bronze_qualifying_results\n",
    "UNION ALL\n",
    "SELECT 'Bronze Layer' as layer, 'bronze_sprint_results' as table_name, COUNT(*) as record_count FROM main.default.bronze_sprint_results\n",
    "UNION ALL\n",
    "SELECT 'Bronze Layer' as layer, 'bronze_sprint_qualifying' as table_name, COUNT(*) as record_count FROM main.default.bronze_sprint_qualifying\n",
    "UNION ALL\n",
    "-- Silver Layer Tables (Cleaned Data)\n",
    "SELECT 'Silver Layer' as layer, 'silver_race_results' as table_name, COUNT(*) as record_count FROM main.default.silver_race_results\n",
    "UNION ALL\n",
    "SELECT 'Silver Layer' as layer, 'silver_qualifying_results' as table_name, COUNT(*) as record_count FROM main.default.silver_qualifying_results\n",
    "UNION ALL\n",
    "-- Gold Layer Tables (Analytics Ready)\n",
    "SELECT 'Gold Layer' as layer, 'gold_driver_championship' as table_name, COUNT(*) as record_count FROM main.default.gold_driver_championship\n",
    "UNION ALL\n",
    "SELECT 'Gold Layer' as layer, 'gold_team_championship' as table_name, COUNT(*) as record_count FROM main.default.gold_team_championship\n",
    "ORDER BY layer, table_name;"
   ]
  },
  {
   "cell_type": "code",
   "execution_count": 0,
   "metadata": {
    "application/vnd.databricks.v1+cell": {
     "cellMetadata": {
      "byteLimit": 2048000,
      "implicitDf": true,
      "rowLimit": 10000
     },
     "inputWidgets": {},
     "nuid": "b5fcade1-0bc1-46b8-85c9-dc248203b669",
     "showTitle": true,
     "tableResultSettingsMap": {},
     "title": "List files in formula1 volume"
    }
   },
   "outputs": [],
   "source": [
    "%sql\n",
    "# Simple Medallion Architecture Summary\n",
    "\n",
    "# Check all our tables\n",
    "print(\"=== BRONZE LAYER (Raw Data) ===\")\n",
    "print(f\"Race Results: {spark.sql('SELECT COUNT(*) FROM main.default.bronze_race_results').collect()[0][0]} records\")\n",
    "print(f\"Qualifying Results: {spark.sql('SELECT COUNT(*) FROM main.default.bronze_qualifying_results').collect()[0][0]} records\")\n",
    "print(f\"Sprint Results: {spark.sql('SELECT COUNT(*) FROM main.default.bronze_sprint_results').collect()[0][0]} records\")\n",
    "print(f\"Sprint Qualifying: {spark.sql('SELECT COUNT(*) FROM main.default.bronze_sprint_qualifying').collect()[0][0]} records\")\n",
    "\n",
    "print(\"\\n=== SILVER LAYER (Clean Data) ===\")\n",
    "print(f\"Clean Race Results: {spark.sql('SELECT COUNT(*) FROM main.default.silver_race_results').collect()[0][0]} records\")\n",
    "print(f\"Clean Qualifying Results: {spark.sql('SELECT COUNT(*) FROM main.default.silver_qualifying_results').collect()[0][0]} records\")\n",
    "\n",
    "print(\"\\n=== GOLD LAYER (Analytics Ready) ===\")\n",
    "print(f\"Driver Championship: {spark.sql('SELECT COUNT(*) FROM main.default.gold_driver_championship').collect()[0][0]} drivers\")\n",
    "print(f\"Team Championship: {spark.sql('SELECT COUNT(*) FROM main.default.gold_team_championship').collect()[0][0]} teams\")\n",
    "\n",
    "print(\"\\n✅ Simple Medallion Architecture Complete!\")"
   ]
  },
  {
   "cell_type": "code",
   "execution_count": 0,
   "metadata": {
    "application/vnd.databricks.v1+cell": {
     "cellMetadata": {
      "byteLimit": 2048000,
      "rowLimit": 10000
     },
     "inputWidgets": {},
     "nuid": "1007e34d-c4f5-471b-b56a-180a21a3bbd8",
     "showTitle": true,
     "tableResultSettingsMap": {},
     "title": "Quick F1 2025 Analytics"
    }
   },
   "outputs": [],
   "source": [
    "# Quick analytics from our Gold layer\n",
    "print(\"=== F1 2025 SEASON HIGHLIGHTS ===\")\n",
    "\n",
    "# Top 5 drivers\n",
    "print(\"\\n🏆 TOP 5 DRIVERS:\")\n",
    "top_drivers = spark.sql(\"\"\"\n",
    "    SELECT driver, total_points, wins, podiums \n",
    "    FROM main.default.gold_driver_championship \n",
    "    ORDER BY total_points DESC \n",
    "    LIMIT 5\n",
    "\"\"\").collect()\n",
    "\n",
    "for i, row in enumerate(top_drivers, 1):\n",
    "    print(f\"{i}. {row.driver}: {row.total_points} pts ({row.wins} wins, {row.podiums} podiums)\")\n",
    "\n",
    "# Top 3 teams\n",
    "print(\"\\n🏁 TOP 3 TEAMS:\")\n",
    "top_teams = spark.sql(\"\"\"\n",
    "    SELECT team, total_points, wins, podiums \n",
    "    FROM main.default.gold_team_championship \n",
    "    ORDER BY total_points DESC \n",
    "    LIMIT 3\n",
    "\"\"\").collect()\n",
    "\n",
    "for i, row in enumerate(top_teams, 1):\n",
    "    print(f\"{i}. {row.team}: {row.total_points} pts ({row.wins} wins, {row.podiums} podiums)\")\n",
    "\n",
    "print(\"\\n📊 Data pipeline ready for dashboards and further analysis!\")"
   ]
  },
  {
   "cell_type": "code",
   "execution_count": 0,
   "metadata": {
    "application/vnd.databricks.v1+cell": {
     "cellMetadata": {
      "byteLimit": 2048000,
      "rowLimit": 10000
     },
     "inputWidgets": {},
     "nuid": "673eb18f-f032-4486-851f-ec877144c365",
     "showTitle": false,
     "tableResultSettingsMap": {},
     "title": ""
    },
    "vscode": {
     "languageId": "sql"
    }
   },
   "outputs": [],
   "source": [
    "# Quick analytics from our Gold layer\n",
    "print(\"=== F1 2025 SEASON HIGHLIGHTS ===\")\n",
    "\n",
    "# Top 5 drivers\n",
    "print(\"\\n🏆 TOP 5 DRIVERS:\")\n",
    "top_drivers = spark.sql(\"\"\"\n",
    "    SELECT driver, total_points, wins, podiums \n",
    "    FROM main.default.gold_driver_championship \n",
    "    ORDER BY total_points DESC \n",
    "    LIMIT 5\n",
    "\"\"\").collect()\n",
    "\n",
    "for i, row in enumerate(top_drivers, 1):\n",
    "    print(f\"{i}. {row.driver}: {row.total_points} pts ({row.wins} wins, {row.podiums} podiums)\")\n",
    "\n",
    "# Top 3 teams\n",
    "print(\"\\n🏁 TOP 3 TEAMS:\")\n",
    "top_teams = spark.sql(\"\"\"\n",
    "    SELECT team, total_points, wins, podiums \n",
    "    FROM main.default.gold_team_championship \n",
    "    ORDER BY total_points DESC \n",
    "    LIMIT 3\n",
    "\"\"\").collect()\n",
    "\n",
    "for i, row in enumerate(top_teams, 1):\n",
    "    print(f\"{i}. {row.team}: {row.total_points} pts ({row.wins} wins, {row.podiums} podiums)\")\n",
    "\n",
    "print(\"\\n📊 Data pipeline ready for dashboards and further analysis!\")"
   ]
  }
 ],
 "metadata": {
  "application/vnd.databricks.v1+notebook": {
   "computePreferences": null,
   "dashboards": [],
   "environmentMetadata": null,
   "inputWidgetPreferences": null,
   "language": "python",
   "notebookMetadata": {
    "mostRecentlyExecutedCommandWithImplicitDF": {
     "commandId": 6499770188755150,
     "dataframes": [
      "_sqldf"
     ]
    },
    "pythonIndentUnit": 4
   },
   "notebookName": "03_Medallion Architecture",
   "widgets": {}
  },
  "language_info": {
   "name": "python"
  }
 },
 "nbformat": 4,
 "nbformat_minor": 0
}
