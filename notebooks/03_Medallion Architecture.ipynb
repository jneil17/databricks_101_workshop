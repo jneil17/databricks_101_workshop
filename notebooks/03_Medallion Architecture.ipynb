{
 "cells": [
  {
   "cell_type": "markdown",
   "metadata": {
    "application/vnd.databricks.v1+cell": {
     "cellMetadata": {
      "byteLimit": 2048000,
      "rowLimit": 10000
     },
     "inputWidgets": {},
     "nuid": "23ed3efb-702c-4926-90df-72b4261606d2",
     "showTitle": false,
     "tableResultSettingsMap": {},
     "title": ""
    }
   },
   "source": [
    "# 📊 Building the Medallion Architecture\n",
    "*Create a complete F1 analytics pipeline using the data lake design pattern*\n",
    "\n",
    "---\n",
    "\n",
    "## 🎯 What We'll Build\n",
    "\n",
    "In this notebook, we'll build a complete data pipeline following the medallion architecture pattern:\n",
    "\n",
    "1. **Bronze Layer**: Raw data ingestion from Volume\n",
    "2. **Silver Layer**: Clean and transform the data\n",
    "3. **Gold Layer**: Create analytics-ready tables\n",
    "\n",
    "We'll use the F1 dataset that we prepared in the setup notebook to analyze Formula 1 racing history.\n",
    "\n",
    "**Let's get started!** 🚀 "
   ]
  },
  {
   "cell_type": "markdown",
   "metadata": {
    "application/vnd.databricks.v1+cell": {
     "cellMetadata": {
      "byteLimit": 2048000,
      "rowLimit": 10000
     },
     "inputWidgets": {},
     "nuid": "1cf747e2-8677-4f03-82f2-bba5d3232c02",
     "showTitle": false,
     "tableResultSettingsMap": {},
     "title": ""
    }
   },
   "source": [
    "## 📋 Prerequisites\n",
    "\n",
    "Before running this notebook, make sure you've completed:\n",
    "1. The `00_Setup_Data.ipynb` notebook to download F1 data into the Volume\n",
    "2. Attached this notebook to a serverless cluster \n",
    "\n",
    "Let's first verify that our data is available in the Volume:"
   ]
  },
  {
   "cell_type": "markdown",
   "metadata": {
    "application/vnd.databricks.v1+cell": {
     "cellMetadata": {
      "byteLimit": 2048000,
      "rowLimit": 10000
     },
     "inputWidgets": {},
     "nuid": "f45591c2-df61-4602-803d-94e69da08853",
     "showTitle": false,
     "tableResultSettingsMap": {},
     "title": ""
    }
   },
   "source": [
    "## 1️⃣ Bronze Layer: Raw Data Ingestion\n",
    "\n",
    "The Bronze layer represents the raw data ingested from source systems with minimal transformation.\n",
    "We'll create tables from the CSV files in our Volume using the COPY INTO command.\n",
    "\n",
    "Let's start by creating tables for races, drivers, and results:"
   ]
  },
  {
   "cell_type": "code",
   "execution_count": 0,
   "metadata": {
    "application/vnd.databricks.v1+cell": {
     "cellMetadata": {
      "byteLimit": 2048000,
      "implicitDf": true,
      "rowLimit": 10000
     },
     "inputWidgets": {},
     "nuid": "43f92e6a-0fe6-4ba0-a000-9b796b7a6dd1",
     "showTitle": true,
     "tableResultSettingsMap": {},
     "title": "Create Bronze Tables for F1 2025 Season"
    }
   },
   "outputs": [],
   "source": [
    "%sql\n",
    "-- Bronze Layer: Create tables for F1 2025 season data with correct column names\n",
    "\n",
    "-- Create bronze_race_results table matching CSV structure\n",
    "CREATE OR REPLACE TABLE main.default.f1_bronze_race_results (\n",
    "  track STRING,\n",
    "  position STRING,\n",
    "  no INT,\n",
    "  driver STRING,\n",
    "  team STRING,\n",
    "  starting_grid INT,\n",
    "  laps INT,\n",
    "  time_retired STRING,\n",
    "  points INT,\n",
    "  set_fastest_lap STRING,\n",
    "  fastest_lap_time STRING\n",
    ") USING DELTA\n",
    "TBLPROPERTIES (\n",
    "  'delta.columnMapping.mode' = 'name'\n",
    ");"
   ]
  },
  {
   "cell_type": "code",
   "execution_count": 0,
   "metadata": {
    "application/vnd.databricks.v1+cell": {
     "cellMetadata": {
      "byteLimit": 2048000,
      "implicitDf": true,
      "rowLimit": 10000
     },
     "inputWidgets": {},
     "nuid": "76a177e2-fe89-48cf-8325-9d13916aa2a2",
     "showTitle": false,
     "tableResultSettingsMap": {},
     "title": ""
    }
   },
   "outputs": [],
   "source": [
    "%sql\n",
    "DESCRIBE VOLUME main.default.formula1"
   ]
  },
  {
   "cell_type": "code",
   "execution_count": 0,
   "metadata": {
    "application/vnd.databricks.v1+cell": {
     "cellMetadata": {
      "byteLimit": 2048000,
      "implicitDf": true,
      "rowLimit": 10000
     },
     "inputWidgets": {},
     "nuid": "675cbb1b-1de5-4e5d-81f9-e1c3684b8e56",
     "showTitle": true,
     "tableResultSettingsMap": {},
     "title": "Load Race Results into Bronze"
    }
   },
   "outputs": [],
   "source": [
    "%sql\n",
    "INSERT INTO main.default.f1_bronze_race_results\n",
    "SELECT \n",
    "  Track as track,\n",
    "  Position as position,\n",
    "  CAST(No AS INT) as no,\n",
    "  Driver as driver,\n",
    "  Team as team,\n",
    "  CAST(`Starting Grid` AS INT) as starting_grid,\n",
    "  CAST(Laps AS INT) as laps,\n",
    "  `Time/Retired` as time_retired,\n",
    "  CAST(Points AS INT) as points,\n",
    "  `Set Fastest Lap` as set_fastest_lap,\n",
    "  `Fastest Lap Time` as fastest_lap_time\n",
    "FROM read_files(\n",
    "  '/Volumes/main/default/formula1/Formula1_2025Season_RaceResults.csv',\n",
    "  format => 'csv',\n",
    "  header => true\n",
    ");\n",
    "\n",
    "-- Check the loaded data\n",
    "SELECT COUNT(*) as total_records FROM main.default.f1_bronze_race_results;\n",
    "SELECT track, position, no, driver, team, points FROM main.default.f1_bronze_race_results LIMIT 10;"
   ]
  },
  {
   "cell_type": "code",
   "execution_count": 0,
   "metadata": {
    "application/vnd.databricks.v1+cell": {
     "cellMetadata": {
      "byteLimit": 2048000,
      "implicitDf": true,
      "rowLimit": 10000
     },
     "inputWidgets": {},
     "nuid": "0699fc49-bd97-4a58-bfeb-16f56ffdbe16",
     "showTitle": true,
     "tableResultSettingsMap": {},
     "title": "Create Silver Layer - Race Results"
    }
   },
   "outputs": [],
   "source": [
    "%sql\n",
    "CREATE TABLE IF NOT EXISTS main.default.f1_silver_race_results\n",
    "USING DELTA\n",
    "AS\n",
    "SELECT \n",
    "  track as race,\n",
    "  CAST(position AS INT) as finish_position,\n",
    "  driver,\n",
    "  team,\n",
    "  CAST(points AS INT) as points_earned,\n",
    "  fastest_lap_time,\n",
    "  current_date() as race_date,\n",
    "  -- Add derived columns\n",
    "  CASE \n",
    "    WHEN CAST(position AS INT) = 1 THEN 'Winner'\n",
    "    WHEN CAST(position AS INT) <= 3 THEN 'Podium'\n",
    "    WHEN CAST(position AS INT) <= 10 THEN 'Points'\n",
    "    ELSE 'No Points'\n",
    "  END as result_category,\n",
    "  current_timestamp() as processed_at\n",
    "FROM main.default.f1_bronze_race_results\n",
    "WHERE position IS NOT NULL \n",
    "  AND position != 'DNF' \n",
    "  AND position != 'DNS'\n",
    "  AND TRY_CAST(position AS INT) IS NOT NULL;\n",
    "\n",
    "SELECT COUNT(*) as total_records FROM main.default.f1_silver_race_results;\n",
    "SELECT * FROM main.default.f1_silver_race_results ORDER BY finish_position LIMIT 10;"
   ]
  },
  {
   "cell_type": "code",
   "execution_count": 0,
   "metadata": {
    "application/vnd.databricks.v1+cell": {
     "cellMetadata": {
      "byteLimit": 2048000,
      "implicitDf": true,
      "rowLimit": 10000
     },
     "inputWidgets": {},
     "nuid": "8473dd90-d33e-4fdf-b341-459a3017e80c",
     "showTitle": true,
     "tableResultSettingsMap": {},
     "title": "Create Gold Layer - Driver Championship"
    }
   },
   "outputs": [],
   "source": [
    "%sql\n",
    "-- Gold Layer: Driver Championship Standings\n",
    "CREATE TABLE IF NOT EXISTS main.default.f1_gold_driver_championship\n",
    "USING DELTA\n",
    "AS\n",
    "SELECT \n",
    "  driver,\n",
    "  team,\n",
    "  COUNT(*) as races_entered,\n",
    "  SUM(points_earned) as total_points,\n",
    "  SUM(CASE WHEN finish_position = 1 THEN 1 ELSE 0 END) as wins,\n",
    "  SUM(CASE WHEN finish_position <= 3 THEN 1 ELSE 0 END) as podiums,\n",
    "  SUM(CASE WHEN finish_position <= 10 THEN 1 ELSE 0 END) as points_finishes,\n",
    "  ROUND(AVG(CAST(finish_position AS DOUBLE)), 2) as avg_finish_position,\n",
    "  ROUND(SUM(points_earned) * 1.0 / COUNT(*), 2) as points_per_race,\n",
    "  current_timestamp() as processed_at\n",
    "FROM main.default.f1_silver_race_results\n",
    "GROUP BY driver, team\n",
    "ORDER BY total_points DESC;\n",
    "\n",
    "SELECT * FROM main.default.f1_gold_driver_championship LIMIT 10;"
   ]
  },
  {
   "cell_type": "code",
   "execution_count": 0,
   "metadata": {
    "application/vnd.databricks.v1+cell": {
     "cellMetadata": {
      "byteLimit": 2048000,
      "implicitDf": true,
      "rowLimit": 10000
     },
     "inputWidgets": {},
     "nuid": "e640c5bd-22bc-4bff-8935-39d1e450e967",
     "showTitle": true,
     "tableResultSettingsMap": {},
     "title": "Create Gold Layer - Team Championship"
    }
   },
   "outputs": [],
   "source": [
    "%sql\n",
    "-- Gold Layer: Constructor/Team Championship Standings\n",
    "CREATE TABLE IF NOT EXISTS main.default.f1_gold_team_championship\n",
    "USING DELTA\n",
    "AS\n",
    "SELECT \n",
    "  team,\n",
    "  COUNT(DISTINCT driver) as drivers_count,\n",
    "  COUNT(*) as total_entries,\n",
    "  SUM(points_earned) as total_points,\n",
    "  SUM(CASE WHEN finish_position = 1 THEN 1 ELSE 0 END) as wins,\n",
    "  SUM(CASE WHEN finish_position <= 3 THEN 1 ELSE 0 END) as podiums,\n",
    "  ROUND(AVG(CAST(finish_position AS DOUBLE)), 2) as avg_finish_position,\n",
    "  ROUND(SUM(points_earned) * 1.0 / COUNT(*), 2) as points_per_entry,\n",
    "  current_timestamp() as processed_at\n",
    "FROM main.default.f1_silver_race_results\n",
    "GROUP BY team\n",
    "ORDER BY total_points DESC;\n",
    "\n",
    "SELECT * FROM main.default.f1_gold_team_championship LIMIT 10;"
   ]
  },
  {
   "cell_type": "code",
   "execution_count": 0,
   "metadata": {
    "application/vnd.databricks.v1+cell": {
     "cellMetadata": {
      "byteLimit": 2048000,
      "implicitDf": true,
      "rowLimit": 10000
     },
     "inputWidgets": {},
     "nuid": "d7f15717-bb13-48f6-9f3e-c780e90bfcb2",
     "showTitle": true,
     "tableResultSettingsMap": {},
     "title": "Medallion Architecture Summary"
    }
   },
   "outputs": [],
   "source": [
    "%sql\n",
    "-- Summary of our Medallion Architecture implementation\n",
    "-- Bronze Layer Tables (Raw Data)\n",
    "SELECT 'Bronze Layer' as layer, 'f1_bronze_race_results' as table_name, COUNT(*) as record_count FROM main.default.f1_bronze_race_results\n",
    "UNION ALL\n",
    "-- Silver Layer Tables (Cleaned Data)\n",
    "SELECT 'Silver Layer' as layer, 'f1_silver_race_results' as table_name, COUNT(*) as record_count FROM main.default.f1_silver_race_results\n",
    "UNION ALL\n",
    "-- Gold Layer Tables (Analytics Ready)\n",
    "SELECT 'Gold Layer' as layer, 'f1_gold_driver_championship' as table_name, COUNT(*) as record_count FROM main.default.f1_gold_driver_championship\n",
    "UNION ALL\n",
    "SELECT 'Gold Layer' as layer, 'f1_gold_team_championship' as table_name, COUNT(*) as record_count FROM main.default.f1_gold_team_championship\n",
    "ORDER BY layer, table_name;"
   ]
  }
 ],
 "metadata": {
  "application/vnd.databricks.v1+notebook": {
   "computePreferences": {
    "hardware": {
     "accelerator": null,
     "gpuPoolId": null,
     "memory": null
    }
   },
   "dashboards": [],
   "environmentMetadata": null,
   "inputWidgetPreferences": null,
   "language": "python",
   "notebookMetadata": {
    "mostRecentlyExecutedCommandWithImplicitDF": {
     "commandId": 7158679028994948,
     "dataframes": [
      "_sqldf"
     ]
    },
    "pythonIndentUnit": 4
   },
   "notebookName": "03_Medallion Architecture",
   "widgets": {}
  },
  "language_info": {
   "name": "python"
  }
 },
 "nbformat": 4,
 "nbformat_minor": 0
}
