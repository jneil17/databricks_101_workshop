{
 "cells": [
  {
   "cell_type": "markdown",
   "metadata": {
    "application/vnd.databricks.v1+cell": {
     "cellMetadata": {},
     "inputWidgets": {},
     "nuid": "304b620a-98a2-4687-9c28-9607c2990aed",
     "showTitle": false,
     "tableResultSettingsMap": {},
     "title": ""
    }
   },
   "source": [
    "# Genie Rooms: F1 Driver & Team Analytics\n",
    "\n",
    "Quickly analyze Formula 1 championship data using natural language! Genie Rooms let you ask questions like \"Who is leading the league?\" or \"Which team is performing best?\"—no SQL required.\n",
    "\n",
    "You'll use the [main.default.f1_gold_driver_championship](#table) table for all insights."
   ]
  },
  {
   "cell_type": "markdown",
   "metadata": {
    "application/vnd.databricks.v1+cell": {
     "cellMetadata": {},
     "inputWidgets": {},
     "nuid": "efa87e11-357c-4527-a7fa-2f64348d7cf9",
     "showTitle": false,
     "tableResultSettingsMap": {},
     "title": ""
    }
   },
   "source": [
    "## F1 Championship Table Schema\n",
    "\n",
    "| Column               | Data Type         | Description |\n",
    "|----------------------|------------------|-------------|\n",
    "| `driver`             | string           | Driver name |\n",
    "| `team`               | string           | Team name   |\n",
    "| `races_entered`      | bigint           | Number of races entered |\n",
    "| `total_points`       | bigint           | Total championship points |\n",
    "| `wins`               | bigint           | Number of race wins |\n",
    "| `podiums`            | bigint           | Number of podium finishes |\n",
    "| `points_finishes`    | bigint           | Number of points finishes |\n",
    "| `avg_finish_position`| double           | Average finish position |\n",
    "| `points_per_race`    | decimal(25,2)    | Points per race |\n",
    "| `processed_at`       | timestamp        | Data processed timestamp |\n",
    "\n",
    "Use these columns to guide your questions in Genie Room!"
   ]
  },
  {
   "cell_type": "markdown",
   "metadata": {
    "application/vnd.databricks.v1+cell": {
     "cellMetadata": {},
     "inputWidgets": {},
     "nuid": "419024be-63b3-4053-a9de-92f43b1be006",
     "showTitle": false,
     "tableResultSettingsMap": {},
     "title": ""
    }
   },
   "source": [
    "## How to Create Your Genie Room\n",
    "\n",
    "1. Click the **Genie Rooms** tab.\n",
    "![](./Images/Genie Location.png \"Genie Location.png\")\n",
    "2. Click **+New**.\n",
    "3. For your data source, select only the [f1_gold_driver_championship](#table) table.\n",
    "4. Name your room (e.g., \"F1 Championship Genie\").\n",
    "\n",
    "That's it! You're ready to start asking questions about F1 drivers and teams."
   ]
  },
  {
   "cell_type": "markdown",
   "metadata": {
    "application/vnd.databricks.v1+cell": {
     "cellMetadata": {},
     "inputWidgets": {},
     "nuid": "3e6380b2-c674-4ef6-af25-129086dd4f17",
     "showTitle": false,
     "tableResultSettingsMap": {},
     "title": ""
    }
   },
   "source": [
    "## Example Genie Room Configuration\n",
    "\n",
    "**Room Name:** F1 Championship Genie\n",
    "\n",
    "**Description:** Natural language analytics for Formula 1 driver and team standings.\n",
    "\n",
    "**Instructions for Genie:**\n",
    "You are an F1 analytics expert. Help users explore the [main.default.f1_gold_driver_championship](#table) table to answer questions about driver rankings, team performance, and championship standings. Always provide clear, concise answers and suggest follow-up questions.\n",
    "\n",
    "![](./Images/Room Name and Instructions.png \"Room Name and Instructions.png\")"
   ]
  },
  {
   "cell_type": "markdown",
   "metadata": {
    "application/vnd.databricks.v1+cell": {
     "cellMetadata": {},
     "inputWidgets": {},
     "nuid": "88afb014-ce5e-421e-8ad2-6090bc28cb28",
     "showTitle": false,
     "tableResultSettingsMap": {},
     "title": ""
    }
   },
   "source": [
    "## Sample Questions to Ask Genie\n",
    "\n",
    "* Who is leading the championship?\n",
    "* Which team has the most points?\n",
    "* Show the top 5 drivers by points.\n",
    "* What team is improving the most this season?\n",
    "* Who are the top rookie drivers?\n",
    "* Compare the top two teams' performance.\n",
    "* Which driver has gained the most positions in recent races?"
   ]
  },
  {
   "cell_type": "markdown",
   "metadata": {
    "application/vnd.databricks.v1+cell": {
     "cellMetadata": {},
     "inputWidgets": {},
     "nuid": "1e190a54-5c50-4629-9444-5c76a8b72747",
     "showTitle": false,
     "tableResultSettingsMap": {},
     "title": ""
    }
   },
   "source": [
    "## Next Steps & Tips\n",
    "\n",
    "* Start asking your own questions in Genie Room—try variations and follow-ups for deeper insights.\n",
    "* Use the table schema to guide your questions (e.g., ask about points, teams, or drivers).\n",
    "* Genie can suggest follow-up questions—use them to explore trends or compare results.\n",
    "* For more advanced analysis, try filtering by season, team, or driver.\n",
    "\n",
    "You're ready to explore F1 analytics with natural language!"
   ]
  },
  {
   "cell_type": "markdown",
   "metadata": {
    "application/vnd.databricks.v1+cell": {
     "cellMetadata": {},
     "inputWidgets": {},
     "nuid": "7e6ac368-c8b8-4c13-b248-16287be73c63",
     "showTitle": false,
     "tableResultSettingsMap": {},
     "title": ""
    }
   },
   "source": [
    "## 💡 Best Practices for Genie Rooms\n",
    "\n",
    "### Question Formulation 📝\n",
    "- ✅ **Be specific** about what you want to know\n",
    "- ✅ **Use natural language** (don't try to think like SQL)\n",
    "- ✅ **Ask follow-up questions** to dive deeper\n",
    "- ✅ **Specify time periods** or filters when relevant\n",
    "\n",
    "### Getting Better Results 🎯\n",
    "```\n",
    "Instead of: \"Show data\"\n",
    "Try: \"Show me the top 10 drivers by wins in the last 20 years\"\n",
    "\n",
    "Instead of: \"Compare drivers\"\n",
    "Try: \"Compare Hamilton and Verstappen's win percentages and podium rates\"\n",
    "\n",
    "Instead of: \"F1 trends\"\n",
    "Try: \"How has the average age of F1 winners changed since 2000?\"\n",
    "```\n",
    "\n",
    "### Iterative Exploration 🔄\n",
    "1. **Start broad:** \"Show me top F1 drivers\"\n",
    "2. **Get specific:** \"What about their performance in different decades?\"\n",
    "3. **Add context:** \"How does this compare to drivers from their home countries?\"\n",
    "4. **Find insights:** \"Which of these trends is most surprising?\"\n",
    "\n",
    "### Sharing Results 📤\n",
    "- **Export charts** for presentations\n",
    "- **Save conversations** for future reference\n",
    "- **Share Genie Room** with team members\n",
    "- **Create dashboards** from interesting queries"
   ]
  },
  {
   "cell_type": "markdown",
   "metadata": {
    "application/vnd.databricks.v1+cell": {
     "cellMetadata": {},
     "inputWidgets": {},
     "nuid": "e1c0c71d-0af8-4b54-b3be-638ae6628162",
     "showTitle": false,
     "tableResultSettingsMap": {},
     "title": ""
    }
   },
   "source": [
    "## ✅ Genie Rooms Complete!\n",
    "\n",
    "**🎉 Fantastic! You've mastered natural language F1 data exploration!**\n",
    "\n",
    "### What You've Accomplished:\n",
    "- ✅ **Understood Genie Rooms** and natural language querying\n",
    "- ✅ **Explored F1 conversations** across different user scenarios\n",
    "- ✅ **Learned best practices** for effective question formulation\n",
    "- ✅ **Discovered advanced features** (context, suggestions, visuals)\n",
    "- ✅ **Applied to real use cases** (executives, journalists, fans)\n",
    "\n",
    "### 🧞 Your Genie Room Capabilities:\n",
    "```\n",
    "🗣️ Natural Language Input\n",
    "    ↓\n",
    "🧠 AI Understanding & Query Generation\n",
    "    ↓\n",
    "📊 Automatic Data Analysis & Visualization\n",
    "    ↓\n",
    "💬 Conversational Results & Follow-up Suggestions\n",
    "```\n",
    "\n",
    "### 🎯 Sample Questions Ready to Use:\n",
    "- **Driver Analysis:** \"Who are the most successful drivers from each continent?\"\n",
    "- **Historical Trends:** \"How has F1 competitiveness evolved over decades?\"\n",
    "- **Comparative Studies:** \"Compare modern vs classic F1 eras\"\n",
    "- **Surprising Insights:** \"Show me the most interesting F1 statistics\""
   ]
  },
  {
   "cell_type": "markdown",
   "metadata": {
    "application/vnd.databricks.v1+cell": {
     "cellMetadata": {},
     "inputWidgets": {},
     "nuid": "52726ceb-abfb-4e2f-9116-31c8fee5356e",
     "showTitle": false,
     "tableResultSettingsMap": {},
     "title": ""
    }
   },
   "source": [
    "## 🚀 Next Steps\n",
    "\n",
    "### Immediate Actions:\n",
    "1. **🧞 Create your F1 Genie Room** using the setup guide\n",
    "2. **🗣️ Start with basic questions** and build complexity\n",
    "3. **📊 Export interesting visualizations** for reports\n",
    "4. **👥 Share with colleagues** for collaborative exploration\n",
    "\n",
    "### Advanced Exploration:\n",
    "- **🔗 Combine with dashboards** for comprehensive analytics\n",
    "- **🤖 Integration with AI Agents** for enhanced capabilities\n",
    "\n",
    "### Next Notebook:\n",
    "**➡️ 10_AI_Agent_Bricks**\n",
    "- AI-powered platform assistant\n",
    "- Intelligent workspace navigation\n",
    "- Productivity acceleration with AI\n",
    "\n",
    "**🧞 Ready to unlock F1 insights through conversation! 🏎️**"
   ]
  }
 ],
 "metadata": {
  "application/vnd.databricks.v1+notebook": {
   "computePreferences": null,
   "dashboards": [],
   "environmentMetadata": null,
   "inputWidgetPreferences": null,
   "language": "python",
   "notebookMetadata": {
    "mostRecentlyExecutedCommandWithImplicitDF": {
     "commandId": 6342691851376054,
     "dataframes": [
      "_sqldf"
     ]
    },
    "pythonIndentUnit": 4
   },
   "notebookName": "09_Genie_Room",
   "widgets": {}
  },
  "language_info": {
   "name": "python"
  }
 },
 "nbformat": 4,
 "nbformat_minor": 0
}
