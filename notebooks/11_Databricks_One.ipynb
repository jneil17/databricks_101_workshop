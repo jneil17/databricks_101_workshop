{
 "cells": [
  {
   "cell_type": "markdown",
   "metadata": {
    "application/vnd.databricks.v1+cell": {
     "cellMetadata": {},
     "inputWidgets": {},
     "nuid": "9db015f0-50ea-4ede-a264-da5fac00f76a",
     "showTitle": false,
     "tableResultSettingsMap": {},
     "title": ""
    }
   },
   "source": [
    "# 🏁 Databricks One: Business User Interface\n",
    "\n",
    "*Share your F1 analytics with business stakeholders through an intuitive, simplified interface*\n",
    "\n",
    "---\n",
    "\n",
    "## 🎯 What is Databricks One?\n",
    "\n",
    "Databricks One is a **simplified business user interface** that provides a single entry point for consuming data and AI assets without technical complexity. Perfect for sharing the F1 analytics you've built!\n",
    "\n",
    "### 🏆 **Your F1 Workshop Assets**\n",
    "Throughout this workshop, you've created:\n",
    "* 📊 **AI/BI Dashboards** - F1 performance metrics and race analytics\n",
    "* 🧞 **Genie Spaces** - Natural language queries for F1 data\n",
    "* 📦 **Custom Apps** - Interactive F1 analysis applications\n",
    "* 📈 **SQL Queries** - Race results and driver performance analysis\n",
    "\n",
    "### 🎯 **Why Databricks One?**\n",
    "* **Business-friendly interface** - No technical navigation required\n",
    "* **Consumer access** - Perfect for stakeholders who need insights, not development\n",
    "* **Single entry point** - All your F1 assets in one place\n",
    "* **Intuitive design** - Focus on insights, not infrastructure\n",
    "\n",
    "**Ready to set up business user access to your F1 analytics? Let's go!** 🚀"
   ]
  },
  {
   "cell_type": "markdown",
   "metadata": {
    "application/vnd.databricks.v1+cell": {
     "cellMetadata": {},
     "inputWidgets": {},
     "nuid": "6f3df1e8-5771-4631-a4ce-942aac46c425",
     "showTitle": false,
     "tableResultSettingsMap": {},
     "title": ""
    }
   },
   "source": [
    "## 🔧 Step 1: Enable Databricks One Preview\n",
    "\n",
    "![](./Images/Databricks One Previews Page.png \"Databricks One Previews Page.png\")\n",
    "\n",
    "---\n",
    "\n",
    "### 🔑 **Admin Setup Steps**\n",
    "\n",
    "1. **Navigate to Previews**\n",
    "   * Go to your workspace settings\n",
    "   * Click on \"Previews\" in the admin console\n",
    "\n",
    "2. **Enable Databricks One**\n",
    "   * Search for \"Databricks One\"\n",
    "   * Set the toggle to **On**\n",
    "   * Confirm the preview activation\n",
    "\n",
    "---\n",
    "\n",
    "### 👥 **User Access Entitlements**\n",
    "\n",
    "| **Entitlement** | **Databricks One UI** | **Lakehouse Workspace UI** |\n",
    "|---|---|---|\n",
    "| Consumer access | ✓ | ✗ |\n",
    "| Workspace access | ✓ | ✓ |\n",
    "| Databricks SQL access | ✓ | ✓ |\n",
    "\n",
    "### 🎯 **For F1 Business Users**\n",
    "* **Consumer access** - Perfect for stakeholders who only need to view F1 dashboards and insights\n",
    "* **Workspace access** - For users who might need to modify or create F1 analysis\n",
    "\n",
    "**ℹ️ Note:** Users with Consumer access only will see the simplified Databricks One interface - ideal for business stakeholders!"
   ]
  },
  {
   "cell_type": "markdown",
   "metadata": {
    "application/vnd.databricks.v1+cell": {
     "cellMetadata": {},
     "inputWidgets": {},
     "nuid": "5240102f-69b6-43a3-89a8-78584a09e080",
     "showTitle": false,
     "tableResultSettingsMap": {},
     "title": ""
    }
   },
   "source": [
    "## 🏠 Step 2: Access Databricks One Interface\n",
    "\n",
    "![](./Images/App Switcher.png \"App Switcher.png\")\n",
    "\n",
    "---\n",
    "\n",
    "### 🔄 **Two Ways to Access**\n",
    "\n",
    "#### **Method 1: App Switcher**\n",
    "* Click the **app switcher icon** 📱 in the upper-right corner\n",
    "* Select \"Databricks One\" from the dropdown\n",
    "* Switch between Lakehouse workspace and Databricks One views\n",
    "\n",
    "#### **Method 2: Direct URL**\n",
    "```\n",
    "https://<YOUR_WORKSPACE_URL>/one\n",
    "```\n",
    "\n",
    "---\n",
    "\n",
    "### 🧞 **Consumer Access Users**\n",
    "* Users with **Consumer access only** automatically land on Databricks One after login\n",
    "* No technical workspace navigation required\n",
    "* Perfect for F1 business stakeholders who need insights, not development tools\n",
    "\n",
    "### 🎯 **What Business Users See**\n",
    "* **Clean, simplified interface** - No clusters, notebooks, or technical concepts\n",
    "* **Asset-focused navigation** - Direct access to F1 dashboards, Genie spaces, and apps\n",
    "* **Search and Ask functionality** - Find F1 insights or ask natural language questions"
   ]
  },
  {
   "cell_type": "markdown",
   "metadata": {
    "application/vnd.databricks.v1+cell": {
     "cellMetadata": {},
     "inputWidgets": {},
     "nuid": "66f06d86-d88d-4acc-b5cd-ec2e96d69ac4",
     "showTitle": false,
     "tableResultSettingsMap": {},
     "title": ""
    }
   },
   "source": [
    "## 📊 Step 3: Explore Your F1 Analytics Assets\n",
    "\n",
    "![](./Images/Databricks One Landing Page.png \"Databricks One Landing Page.png\")\n",
    "\n",
    "---\n",
    "\n",
    "### 🏁 **Your F1 Workshop Assets**\n",
    "\n",
    "#### **📊 AI/BI Dashboards**\n",
    "* **F1 Race Performance Dashboard** - Driver standings, lap times, race results\n",
    "* **Constructor Championship Tracker** - Team performance metrics and trends\n",
    "* **Circuit Analysis Dashboard** - Track-specific performance insights\n",
    "\n",
    "#### **🧞 Genie Spaces**\n",
    "* **F1 Data Explorer** - Ask questions like \"Who won the most races in 2023?\"\n",
    "* **Driver Performance Analysis** - Natural language queries about driver statistics\n",
    "* **Race Strategy Insights** - Conversational analysis of pit stops and strategies\n",
    "\n",
    "#### **📦 Custom Apps**\n",
    "* **F1 Race Predictor** - Interactive race outcome predictions\n",
    "* **Driver Comparison Tool** - Side-by-side performance analysis\n",
    "* **Season Summary Generator** - Automated championship reports\n",
    "\n",
    "---\n",
    "\n",
    "### 🔍 **Business User Experience**\n",
    "\n",
    "![](./Images/Asset Interaction.png \"Asset Interaction.png\")\n",
    "\n",
    "* **Click to explore** - Direct access to F1 insights without technical navigation\n",
    "* **Ask natural questions** - \"Which driver has the best qualifying record?\"\n",
    "* **Filter and drill down** - Interactive exploration of race data\n",
    "* **Export insights** - Share F1 analysis with stakeholders"
   ]
  },
  {
   "cell_type": "markdown",
   "metadata": {
    "application/vnd.databricks.v1+cell": {
     "cellMetadata": {},
     "inputWidgets": {},
     "nuid": "fa4a248b-26df-4c06-8be5-cd12160d238c",
     "showTitle": false,
     "tableResultSettingsMap": {},
     "title": ""
    }
   },
   "source": [
    "## ✅ Databricks One Setup Complete!\n",
    "\n",
    "**🎉 Congratulations! You've successfully set up Databricks One for your F1 analytics!**\n",
    "\n",
    "**📷 [Screenshot Placeholder: Complete F1 Asset Collection]**  \n",
    "*Please add screenshot showing all F1 assets (dashboards, Genie spaces, apps) in Databricks One*\n",
    "\n",
    "---\n",
    "\n",
    "### 🏆 **What You've Accomplished**\n",
    "\n",
    "* ✅ **Enabled Databricks One preview** for your workspace\n",
    "* ✅ **Configured user access** with appropriate entitlements\n",
    "* ✅ **Set up business user interface** for F1 analytics consumption\n",
    "* ✅ **Made your F1 assets accessible** to non-technical stakeholders\n",
    "\n",
    "---\n",
    "\n",
    "### 🚀 **Next Steps**\n",
    "\n",
    "#### **For Administrators:**\n",
    "1. **Add business users** with Consumer access entitlements\n",
    "2. **Share F1 assets** with relevant stakeholder groups\n",
    "3. **Train business users** on the simplified interface\n",
    "4. **Monitor usage** and gather feedback\n",
    "\n",
    "#### **For Business Users:**\n",
    "1. **Explore F1 dashboards** to track race performance\n",
    "2. **Ask questions** using Genie spaces in natural language\n",
    "3. **Use custom apps** for interactive F1 analysis\n",
    "4. **Share insights** with your teams and stakeholders\n",
    "\n",
    "---\n",
    "\n",
    "### 🎯 **Key Benefits Achieved**\n",
    "* **Simplified access** to complex F1 analytics\n",
    "* **Business-friendly interface** without technical complexity\n",
    "* **Self-service insights** for F1 stakeholders\n",
    "* **Seamless consumption** of your workshop-built assets\n",
    "\n",
    "**🏁 Your F1 analytics are now ready for business consumption through Databricks One!**"
   ]
  }
 ],
 "metadata": {
  "application/vnd.databricks.v1+notebook": {
   "computePreferences": null,
   "dashboards": [],
   "environmentMetadata": null,
   "inputWidgetPreferences": null,
   "language": "python",
   "notebookMetadata": {
    "pythonIndentUnit": 4
   },
   "notebookName": "11_Databricks_One",
   "widgets": {}
  },
  "language_info": {
   "name": "python"
  }
 },
 "nbformat": 4,
 "nbformat_minor": 0
}
