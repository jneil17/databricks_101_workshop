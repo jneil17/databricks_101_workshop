{
 "cells": [
  {
   "cell_type": "markdown",
   "metadata": {
    "application/vnd.databricks.v1+cell": {
     "cellMetadata": {
      "byteLimit": 2048000,
      "rowLimit": 10000
     },
     "inputWidgets": {},
     "nuid": "29c33279-33ca-415c-834a-5393abb879ae",
     "showTitle": false,
     "tableResultSettingsMap": {},
     "title": ""
    }
   },
   "source": [
    "# 🗄️ Unity Catalog Demo: F1 Data Governance & Lineage\n",
    "*Complete Unity Catalog features demonstration in under 20 cells*\n",
    "\n",
    "## 🎯 What You'll Learn\n",
    "We'll create and evolve a comprehensive F1 driver analytics table that demonstrates:\n",
    "\n",
    "✅ **Data Lineage Tracking** - Visualize Bronze → Silver → Gold transformations  \n",
    "✅ **Table History & Versioning** - Track changes with Delta Lake operations (INSERT, UPDATE, DELETE, OPTIMIZE)   \n",
    "✅ **Governance Features** - Tags, comments, and metadata management  \n",
    "✅ **Impact Analysis** - Understand downstream dependencies  \n",
    "✅ **3-Level Namespace** - Catalog.schema.table organization"
   ]
  },
  {
   "cell_type": "markdown",
   "metadata": {
    "application/vnd.databricks.v1+cell": {
     "cellMetadata": {
      "byteLimit": 2048000,
      "rowLimit": 10000
     },
     "inputWidgets": {},
     "nuid": "7f382e48-b407-418b-96cc-2e9b6f7d5614",
     "showTitle": false,
     "tableResultSettingsMap": {},
     "title": ""
    }
   },
   "source": [
    "## 📊 Our F1 Medallion Architecture\n",
    "\n",
    "Let's go to Unity Catalog and take a look at the Lineage tab for main.default.f1_bronze_race_results. You should see something similar to below. Use the + signs to expand the lineage if you're not seeing all tables. If you double-click on a column, you can view column-level lineage as well. \n",
    "\n",
    "![](./Images/Lineage.png \"Lineage.png\")"
   ]
  },
  {
   "cell_type": "code",
   "execution_count": 0,
   "metadata": {
    "application/vnd.databricks.v1+cell": {
     "cellMetadata": {
      "byteLimit": 2048000,
      "implicitDf": true,
      "rowLimit": 10000
     },
     "inputWidgets": {},
     "nuid": "a3c9bf97-bc6e-453f-84ef-e8a8ff783ae9",
     "showTitle": false,
     "tableResultSettingsMap": {},
     "title": ""
    },
    "vscode": {
     "languageId": "sql"
    }
   },
   "outputs": [],
   "source": [
    "%sql\n",
    "-- Verify our F1 medallion architecture tables\n",
    "SHOW TABLES IN main.default LIKE 'f1_*';"
   ]
  },
  {
   "cell_type": "markdown",
   "metadata": {
    "application/vnd.databricks.v1+cell": {
     "cellMetadata": {
      "byteLimit": 2048000,
      "rowLimit": 10000
     },
     "inputWidgets": {},
     "nuid": "af03b350-64e1-4204-b239-b10252daed13",
     "showTitle": false,
     "tableResultSettingsMap": {},
     "title": ""
    },
    "vscode": {
     "languageId": "sql"
    }
   },
   "source": [
    "## 🏆 Creating Our Unity Catalog Demo Table\n",
    "\n",
    "We'll create `f1_driver_analytics_demo` - a comprehensive table that demonstrates:\n",
    "\n",
    "🔗 **Rich Lineage**: Combines data from multiple gold tables  \n",
    "📊 **Business Logic**: Advanced analytics and classifications  \n",
    "🗓️ **Table History**: We'll perform various operations to build history  \n",
    "🏷️ **Governance**: Tags, comments, and metadata\n",
    "\n",
    "This table will be our **main focus** for exploring Unity Catalog features in the UI."
   ]
  },
  {
   "cell_type": "code",
   "execution_count": 0,
   "metadata": {
    "application/vnd.databricks.v1+cell": {
     "cellMetadata": {
      "byteLimit": 2048000,
      "implicitDf": true,
      "rowLimit": 10000
     },
     "inputWidgets": {},
     "nuid": "53fefa77-f464-422c-b0f0-34bc440b2aa0",
     "showTitle": true,
     "tableResultSettingsMap": {},
     "title": "Build F1 Analytics Demo Table"
    }
   },
   "outputs": [],
   "source": [
    "%sql\n",
    "-- Create our main Unity Catalog demo table with rich lineage using SQL\n",
    "\n",
    "CREATE OR REPLACE TABLE main.default.f1_driver_analytics_demo AS\n",
    "SELECT\n",
    "  d.driver AS driver_name,\n",
    "  d.team AS team_name,\n",
    "  d.races_entered,\n",
    "  d.total_points AS driver_points,\n",
    "  d.wins AS driver_wins,\n",
    "  d.podiums AS driver_podiums,\n",
    "  COALESCE(t.total_points, 0) AS team_total_points,\n",
    "  COALESCE(t.wins, 0) AS team_wins,\n",
    "  CASE\n",
    "    WHEN d.wins >= 5 THEN 'Elite'\n",
    "    WHEN d.wins >= 2 THEN 'Winner'\n",
    "    WHEN d.podiums >= 5 THEN 'Podium_Regular'\n",
    "    WHEN d.points_per_race >= 10 THEN 'Strong'\n",
    "    ELSE 'Developing'\n",
    "  END AS performance_tier,\n",
    "  ROUND((CAST(d.wins AS DOUBLE) / d.races_entered) * 100, 2) AS win_rate_pct,\n",
    "  ROUND((CAST(d.podiums AS DOUBLE) / d.races_entered) * 100, 2) AS podium_rate_pct,\n",
    "  ROUND(d.points_per_race, 2) AS points_per_race,\n",
    "  CASE\n",
    "    WHEN COALESCE(t.wins, 0) >= 8 THEN 'Championship_Team'\n",
    "    WHEN COALESCE(t.wins, 0) >= 3 THEN 'Winning_Team'\n",
    "    ELSE 'Developing_Team'\n",
    "  END AS team_tier,\n",
    "  current_timestamp() AS created_at,\n",
    "  'initial_load' AS load_type\n",
    "FROM main.default.f1_gold_driver_championship d\n",
    "LEFT JOIN main.default.f1_gold_team_championship t\n",
    "  ON d.team = t.team;"
   ]
  },
  {
   "cell_type": "code",
   "execution_count": 0,
   "metadata": {
    "application/vnd.databricks.v1+cell": {
     "cellMetadata": {
      "byteLimit": 2048000,
      "implicitDf": true,
      "rowLimit": 10000
     },
     "inputWidgets": {},
     "nuid": "931e5040-e31b-40fe-a29b-6eb4190f170f",
     "showTitle": false,
     "tableResultSettingsMap": {},
     "title": ""
    }
   },
   "outputs": [],
   "source": [
    "%sql\n",
    "-- Preview the analytics view\n",
    "SELECT driver_name, team_name, performance_tier, win_rate_pct, team_tier\n",
    "FROM main.default.f1_driver_analytics_demo\n",
    "LIMIT 8;"
   ]
  },
  {
   "cell_type": "code",
   "execution_count": 0,
   "metadata": {
    "application/vnd.databricks.v1+cell": {
     "cellMetadata": {
      "byteLimit": 2048000,
      "implicitDf": true,
      "rowLimit": 10000
     },
     "inputWidgets": {},
     "nuid": "067efb49-328d-4d14-832d-6ac6b27b31c7",
     "showTitle": true,
     "tableResultSettingsMap": {},
     "title": "Add Comprehensive Governance"
    }
   },
   "outputs": [],
   "source": [
    "%sql\n",
    "-- Add rich metadata and governance to our demo table\n",
    "-- This showcases Unity Catalog's governance capabilities\n",
    "\n",
    "ALTER TABLE main.default.f1_driver_analytics_demo \n",
    "SET TBLPROPERTIES (\n",
    "  'comment' = 'Comprehensive F1 driver and team analytics for Unity Catalog lineage demonstration',\n",
    "  'data_classification' = 'public',\n",
    "  'business_domain' = 'sports_analytics',\n",
    "  'data_source' = 'gold_driver_championship,gold_team_championship',\n",
    "  'owner_team' = 'data_analytics',\n",
    "  'business_purpose' = 'driver_performance_analysis_and_team_insights',\n",
    "  'update_frequency' = 'after_each_race_weekend',\n",
    "  'data_quality_level' = 'gold',\n",
    "  'contains_pii' = 'false',\n",
    "  'retention_period' = '7_years',\n",
    "  'created_by' = 'unity_catalog_demo',\n",
    "  'version' = '1.0'\n",
    ");\n",
    "\n",
    "-- Add tags for better discoverability\n",
    "ALTER TABLE main.default.f1_driver_analytics_demo SET TAGS ('formula1' = 'motorsport', 'analytics' = 'performance', 'demo' = 'yes');"
   ]
  },
  {
   "cell_type": "markdown",
   "metadata": {
    "application/vnd.databricks.v1+cell": {
     "cellMetadata": {
      "byteLimit": 2048000,
      "rowLimit": 10000
     },
     "inputWidgets": {},
     "nuid": "67d6194b-19fc-4192-8849-1275b43f2982",
     "showTitle": false,
     "tableResultSettingsMap": {},
     "title": ""
    }
   },
   "source": [
    "You can see both the metadata and tags within the UI as well. If we navigate to the table in the Catalog UI, you'll see tags right there on the table metadata and further metadata on the Details tab.\n",
    "\n",
    "Table Tags:   \n",
    "![](./Images/Table Tags.png \"Table Tags.png\")\n",
    "\n",
    "Table Details Tab: \n",
    "![](./Images/Table Details.png \"Table Details.png\")"
   ]
  },
  {
   "cell_type": "code",
   "execution_count": 0,
   "metadata": {
    "application/vnd.databricks.v1+cell": {
     "cellMetadata": {
      "byteLimit": 2048000,
      "implicitDf": true,
      "rowLimit": 10000
     },
     "inputWidgets": {},
     "nuid": "b83f42b0-55b0-40c5-bc14-4ce3bed8cd01",
     "showTitle": false,
     "tableResultSettingsMap": {},
     "title": ""
    }
   },
   "outputs": [],
   "source": [
    "%sql\n",
    "-- Verify our demo table and its metadata\n",
    "-- The details below are seen partially in the Overview tab above as well as in Details\n",
    "DESCRIBE EXTENDED main.default.f1_driver_analytics_demo;"
   ]
  },
  {
   "cell_type": "markdown",
   "metadata": {
    "application/vnd.databricks.v1+cell": {
     "cellMetadata": {
      "byteLimit": 2048000,
      "rowLimit": 10000
     },
     "inputWidgets": {},
     "nuid": "ce9efe42-da45-458a-a411-22bc23705249",
     "showTitle": true,
     "tableResultSettingsMap": {},
     "title": "Table Operations - Part 1"
    }
   },
   "source": [
    "## 🗓️ Building Rich Table History\n",
    "\n",
    "Now we'll perform various operations to create a rich **Delta Lake history** that Unity Catalog can track:\n",
    "\n",
    "📝 **INSERT** - Add new driver records  \n",
    "🔄 **UPDATE** - Update records based on conditions  \n",
    "❌ **DELETE** - Remove test records  \n",
    "⚙️ **OPTIMIZE** - Compact files for performance\n",
    "\n",
    "Each operation creates a new version in Delta Lake, providing a complete audit trail!"
   ]
  },
  {
   "cell_type": "markdown",
   "metadata": {
    "application/vnd.databricks.v1+cell": {
     "cellMetadata": {
      "byteLimit": 2048000,
      "rowLimit": 10000
     },
     "inputWidgets": {},
     "nuid": "964fc35f-4523-4958-be34-46aebc31f03c",
     "showTitle": false,
     "tableResultSettingsMap": {},
     "title": ""
    }
   },
   "source": [
    "**Wait** until the stream is up and running before executing the code below. Once you execute the code below, check the stream and see if anything changed!"
   ]
  },
  {
   "cell_type": "code",
   "execution_count": 0,
   "metadata": {
    "application/vnd.databricks.v1+cell": {
     "cellMetadata": {
      "byteLimit": 2048000,
      "implicitDf": true,
      "rowLimit": 10000
     },
     "inputWidgets": {},
     "nuid": "c1c8cfd0-5e20-497a-b34e-c8363632cafb",
     "showTitle": true,
     "tableResultSettingsMap": {
      "0": {
       "dataGridStateBlob": "{\"version\":1,\"tableState\":{\"columnPinning\":{\"left\":[\"#row_number#\"],\"right\":[]},\"columnSizing\":{},\"columnVisibility\":{}},\"settings\":{\"columns\":{}},\"syncTimestamp\":1761726387569}",
       "filterBlob": null,
       "queryPlanFiltersBlob": null,
       "tableResultIndex": 0
      }
     },
     "title": "Insert New Driver Records"
    }
   },
   "outputs": [],
   "source": [
    "%sql\n",
    "-- INSERT operation: Add some new driver records to simulate data updates\n",
    "INSERT INTO main.default.f1_driver_analytics_demo\n",
    "VALUES \n",
    "  ('Test Driver 1', 'Test Team Alpha', 5, 45, 1, 2, 120, 3, 'Winner', 20.0, 40.0, 9.0, 'Winning_Team', current_timestamp(), 'manual_insert')"
   ]
  },
  {
   "cell_type": "code",
   "execution_count": 0,
   "metadata": {
    "application/vnd.databricks.v1+cell": {
     "cellMetadata": {
      "byteLimit": 2048000,
      "implicitDf": true,
      "rowLimit": 10000
     },
     "inputWidgets": {},
     "nuid": "16e82fec-8dae-41d1-86ce-3637b3f2c724",
     "showTitle": true,
     "tableResultSettingsMap": {},
     "title": "Update Records"
    }
   },
   "outputs": [],
   "source": [
    "%sql\n",
    "UPDATE main.default.f1_driver_analytics_demo SET team_tier = 'Developing Team' WHERE team_name = 'Test Team Alpha'"
   ]
  },
  {
   "cell_type": "code",
   "execution_count": 0,
   "metadata": {
    "application/vnd.databricks.v1+cell": {
     "cellMetadata": {
      "byteLimit": 2048000,
      "implicitDf": true,
      "rowLimit": 10000
     },
     "inputWidgets": {},
     "nuid": "39a9a649-7448-43d9-9914-9b7bfa46acba",
     "showTitle": true,
     "tableResultSettingsMap": {},
     "title": "Delete Records"
    }
   },
   "outputs": [],
   "source": [
    "%sql\n",
    "DELETE FROM main.default.f1_driver_analytics_demo WHERE team_name = 'Test Team Alpha'"
   ]
  },
  {
   "cell_type": "code",
   "execution_count": 0,
   "metadata": {
    "application/vnd.databricks.v1+cell": {
     "cellMetadata": {
      "byteLimit": 2048000,
      "implicitDf": true,
      "rowLimit": 10000
     },
     "inputWidgets": {},
     "nuid": "6dcdcafd-d20f-4611-b434-58067dc4e345",
     "showTitle": false,
     "tableResultSettingsMap": {},
     "title": ""
    }
   },
   "outputs": [],
   "source": [
    "%sql\n",
    "-- OPTIMIZE operation: Compact small files for better performance\n",
    "OPTIMIZE main.default.f1_driver_analytics_demo;"
   ]
  },
  {
   "cell_type": "code",
   "execution_count": 0,
   "metadata": {
    "application/vnd.databricks.v1+cell": {
     "cellMetadata": {
      "byteLimit": 2048000,
      "implicitDf": true,
      "rowLimit": 10000
     },
     "inputWidgets": {},
     "nuid": "bc8da10d-6b50-4516-8fa2-adfdd8be4f5b",
     "showTitle": false,
     "tableResultSettingsMap": {},
     "title": ""
    }
   },
   "outputs": [],
   "source": [
    "%sql\n",
    "-- Show table history (Delta Lake versions) - this is key for Unity Catalog! Pull this up in the UI as well. \n",
    "DESCRIBE HISTORY main.default.f1_driver_analytics_demo;"
   ]
  },
  {
   "cell_type": "markdown",
   "metadata": {
    "application/vnd.databricks.v1+cell": {
     "cellMetadata": {
      "byteLimit": 2048000,
      "rowLimit": 10000
     },
     "inputWidgets": {},
     "nuid": "d86b3312-202a-4ddd-a082-4d230b73fee4",
     "showTitle": true,
     "tableResultSettingsMap": {},
     "title": "Unity Catalog UI Exploration Guide"
    }
   },
   "source": [
    "## 🔍 Unity Catalog UI Exploration Guide\n",
    "\n",
    "### 🎯 **Main Focus Table**: `main.default.f1_driver_analytics_demo`\n",
    "\n",
    "Now explore this table in the **Unity Catalog UI** to see all the features we've demonstrated:\n",
    "\n",
    "### 📊 **1. Data Lineage Visualization**\n",
    "🔗 **Navigate to**: Catalog → main → default → f1_driver_analytics_demo  \n",
    "🔍 **Click**: \"Lineage\" tab  \n",
    "👁️ **Observe**: \n",
    "- **Upstream dependencies**: `gold_driver_championship` + `gold_team_championship`\n",
    "- **Column-level lineage**: Click any column to see its transformation path\n",
    "- **Transformation logic**: View the JOIN and business logic we applied in the source notebooks or queries\n",
    "\n",
    "### 🗓️ **2. Table History & Versioning**\n",
    "📊 **Click**: \"History\" tab  \n",
    "👁️ **Observe**:\n",
    "- **Version timeline**: See all our INSERT, OPTIMIZE operations\n",
    "- **Operation details**: Each version shows what changed\n",
    "- **Time travel**: You can query any previous version\n",
    "- **File statistics**: See how OPTIMIZE improved file structure\n",
    "\n",
    "### 🏷️ **3. Governance & Metadata**\n",
    "📝 **Click**: \"Details\" tab  \n",
    "👁️ **Observe**:\n",
    "- **Rich metadata**: All the properties we added\n",
    "- **Tags**: formula1=motorsport, analytics=performance, demo=yes\n",
    "- **Business context**: Owner team, data classification, retention period"
   ]
  },
  {
   "cell_type": "code",
   "execution_count": 0,
   "metadata": {
    "application/vnd.databricks.v1+cell": {
     "cellMetadata": {
      "byteLimit": 2048000,
      "implicitDf": true,
      "rowLimit": 10000
     },
     "inputWidgets": {},
     "nuid": "00a87051-4481-431a-9777-fd91dda45f79",
     "showTitle": true,
     "tableResultSettingsMap": {},
     "title": "Bonus: Add Column Masking for Data Governance"
    }
   },
   "outputs": [],
   "source": [
    "%sql\n",
    "-- Create a simple column masking function for data governance demonstration\n",
    "-- This showcases Unity Catalog's data protection capabilities\n",
    "\n",
    "-- Create a masking function to partially hide driver names\n",
    "CREATE OR REPLACE FUNCTION main.default.mask_driver_name(driver_name STRING)\n",
    "RETURNS STRING\n",
    "RETURN \n",
    "  CASE \n",
    "    WHEN IS_ACCOUNT_GROUP_MEMBER('admins') THEN driver_name  -- Admins see full name\n",
    "    WHEN driver_name IS NULL THEN NULL\n",
    "    ELSE CONCAT(LEFT(driver_name, 1), '***', RIGHT(driver_name, 1))  -- Others see masked\n",
    "  END;\n",
    "\n",
    "-- Apply the masking function to our demo table's driver_name column\n",
    "ALTER TABLE main.default.f1_driver_analytics_demo \n",
    "ALTER COLUMN driver_name SET MASK main.default.mask_driver_name;\n",
    "\n",
    "-- Test the masking function (you'll see masked names unless you're an account admin)\n",
    "SELECT driver_name, team_name, performance_tier, driver_points\n",
    "FROM main.default.f1_driver_analytics_demo \n",
    "ORDER BY driver_points DESC \n",
    "LIMIT 5;"
   ]
  },
  {
   "cell_type": "markdown",
   "metadata": {
    "application/vnd.databricks.v1+cell": {
     "cellMetadata": {
      "byteLimit": 2048000,
      "rowLimit": 10000
     },
     "inputWidgets": {},
     "nuid": "65e3d0c5-79b2-4446-b6aa-5ce632824ee7",
     "showTitle": true,
     "tableResultSettingsMap": {},
     "title": "Advanced Unity Catalog Features"
    }
   },
   "source": [
    "## 🚀 Advanced Unity Catalog Features to Explore\n",
    "\n",
    "### 🔍 **Search & Discovery**\n",
    "- **Global Search**: Use the search bar to find \"formula1\" related assets\n",
    "- **Tag-based Discovery**: Search by tags like \"analytics\" or \"performance\"\n",
    "- **Metadata Search**: Find tables by business purpose or owner team\n",
    "\n",
    "### 📊 **Impact Analysis**\n",
    "- **Downstream Dependencies**: See what would break if you change `gold_driver_championship`\n",
    "- **Usage Analytics**: View which notebooks and queries use our tables\n",
    "- **Schema Evolution**: Track how table schemas change over time with versioning\n",
    "\n",
    "### 🔒 **Data Governance**\n",
    "- **Access Control**: Set table and column-level permissions\n",
    "- **Data Classification**: Mark sensitive data with appropriate tags\n",
    "- **Audit Logging**: Track who accessed what data when ([system tables](https://docs.databricks.com/aws/en/admin/system-tables/audit-logs))\n",
    "- **Quality Monitoring**: Set up data quality rules and alerts ([automated data quality monitoring](https://docs.databricks.com/aws/en/lakehouse-monitoring/data-quality-monitoring))\n",
    "\n",
    "### 🌐 **Data Sharing**\n",
    "- **Delta Sharing**: Share tables across organizations securely\n",
    "- **Catalog Federation**: Mirror external data sources\n",
    "- **Multi-cloud**: Manage data across AWS, Azure, GCP\n",
    "\n",
    "### 🤖 **AI Integration**\n",
    "- **AI-Generated Comments**: Use the AI comment generator in the UI\n",
    "- **Intelligent Recommendations**: Get suggestions for related tables\n",
    "- **Automated PII Tagging**: AI-powered metadata enrichment for sensitive data masking"
   ]
  },
  {
   "cell_type": "markdown",
   "metadata": {
    "application/vnd.databricks.v1+cell": {
     "cellMetadata": {
      "byteLimit": 2048000,
      "rowLimit": 10000
     },
     "inputWidgets": {},
     "nuid": "2de767db-ccd8-456a-abd7-f825bbd4216e",
     "showTitle": true,
     "tableResultSettingsMap": {},
     "title": "Demo Summary & Next Steps"
    }
   },
   "source": [
    "## ✅ Unity Catalog Demo Complete!\n",
    "\n",
    "### 🏆 **What We've Accomplished**\n",
    "\n",
    "✅ **Rich Data Lineage**: Created `f1_driver_analytics_demo` with dependencies from 2 gold tables  \n",
    "✅ **Table History**: Built 6+ versions through INSERT, OPTIMIZE operations  \n",
    "✅ **Comprehensive Governance**: Added metadata, tags, and business context  \n",
    "✅ **Real-world Scenarios**: Simulated data updates and performance optimizations  \n",
    "✅ **Production-ready**: Demonstrated enterprise governance capabilities\n",
    "\n",
    "### 🚀 **Next Steps**\n",
    "1. **Explore the UI**: Navigate to [main.default.f1_driver_analytics_demo](#table) in Unity Catalog\n",
    "2. **Try AI Comments**: Use the AI comment generator on table columns\n",
    "3. **Set Permissions**: Configure access controls for your team\n",
    "4. **Create Dashboards**: Build analytics using this governed data\n",
    "5. **Expand Governance**: Add more tags and metadata to other tables\n",
    "\n",
    "---\n",
    "\n",
    "**📚 Learn More**: [Unity Catalog Documentation](https://docs.databricks.com/data-governance/unity-catalog/index.html)"
   ]
  }
 ],
 "metadata": {
  "application/vnd.databricks.v1+notebook": {
   "computePreferences": {
    "hardware": {
     "accelerator": null,
     "gpuPoolId": null,
     "memory": null
    }
   },
   "dashboards": [],
   "environmentMetadata": null,
   "inputWidgetPreferences": null,
   "language": "python",
   "notebookMetadata": {
    "mostRecentlyExecutedCommandWithImplicitDF": {
     "commandId": 7158679028975571,
     "dataframes": [
      "_sqldf"
     ]
    },
    "pythonIndentUnit": 2
   },
   "notebookName": "04_Unity_Catalog",
   "widgets": {}
  },
  "language_info": {
   "name": "python"
  }
 },
 "nbformat": 4,
 "nbformat_minor": 0
}
