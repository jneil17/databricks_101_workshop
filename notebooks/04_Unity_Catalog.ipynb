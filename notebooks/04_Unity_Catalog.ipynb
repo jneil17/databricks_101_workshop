{
 "cells": [
  {
   "cell_type": "markdown",
   "metadata": {
    "application/vnd.databricks.v1+cell": {
     "cellMetadata": {
      "byteLimit": 2048000,
      "rowLimit": 10000
     },
     "inputWidgets": {},
     "nuid": "29c33279-33ca-415c-834a-5393abb879ae",
     "showTitle": false,
     "tableResultSettingsMap": {},
     "title": ""
    }
   },
   "source": [
    "%markdown\n",
    "# 🗄️ Unity Catalog Demo: F1 Data Governance & Lineage\n",
    "*Complete Unity Catalog features demonstration in under 20 cells*\n",
    "\n",
    "## 🎯 What You'll Learn\n",
    "\n",
    "✅ **Data Lineage Tracking** - Visualize Bronze → Silver → Gold transformations  \n",
    "✅ **Table History & Versioning** - Track changes with Delta Lake operations  \n",
    "✅ **Governance Features** - Tags, comments, and metadata management  \n",
    "✅ **Impact Analysis** - Understand downstream dependencies  \n",
    "✅ **3-Level Namespace** - Catalog.schema.table organization\n",
    "\n",
    "## 🏎️ Demo Focus: F1 Driver Analytics\n",
    "We'll create and evolve a comprehensive F1 driver analytics table that demonstrates:\n",
    "* **Rich lineage** from multiple source tables\n",
    "* **Table history** through various operations (INSERT, UPDATE, DELETE, OPTIMIZE)\n",
    "* **Governance metadata** with tags and business context\n",
    "* **Real-world scenarios** for production data management"
   ]
  },
  {
   "cell_type": "markdown",
   "metadata": {
    "application/vnd.databricks.v1+cell": {
     "cellMetadata": {
      "byteLimit": 2048000,
      "rowLimit": 10000
     },
     "inputWidgets": {},
     "nuid": "7f382e48-b407-418b-96cc-2e9b6f7d5614",
     "showTitle": false,
     "tableResultSettingsMap": {},
     "title": ""
    }
   },
   "source": [
    "%markdown\n",
    "## 📊 Our F1 Medallion Architecture\n",
    "\n",
    "First, let's explore the existing F1 data from previous notebooks:\n",
    "\n",
    "```\n",
    "Bronze Layer (Raw)     →    Silver Layer (Cleaned)    →    Gold Layer (Analytics)\n",
    "┌─────────────────┐         ┌─────────────────┐           ┌─────────────────┐\n",
    "│ bronze_drivers  │────────▶│ silver_race_    │──────────▶│ gold_driver_    │\n",
    "│ bronze_results  │         │ results         │           │ championship    │\n",
    "│ bronze_races    │         │ silver_         │           │ gold_team_      │\n",
    "│ bronze_sprint_* │         │ qualifying_*    │           │ championship    │\n",
    "└─────────────────┘         └─────────────────┘           └─────────────────┘\n",
    "```\n",
    "\n",
    "**Our Demo Strategy:**\n",
    "1. Use existing gold tables as foundation\n",
    "2. Create enhanced analytics table with rich lineage\n",
    "3. Perform various operations to build table history\n",
    "4. Add comprehensive governance metadata"
   ]
  },
  {
   "cell_type": "code",
   "execution_count": 0,
   "metadata": {
    "application/vnd.databricks.v1+cell": {
     "cellMetadata": {
      "byteLimit": 2048000,
      "implicitDf": true,
      "rowLimit": 10000
     },
     "inputWidgets": {},
     "nuid": "a3c9bf97-bc6e-453f-84ef-e8a8ff783ae9",
     "showTitle": false,
     "tableResultSettingsMap": {},
     "title": ""
    },
    "vscode": {
     "languageId": "sql"
    }
   },
   "outputs": [],
   "source": [
    "%sql\n",
    "-- Verify our F1 medallion architecture tables\n",
    "SHOW TABLES IN main.default;\n",
    "\n",
    "-- Focus on our gold layer for the demo\n",
    "SELECT 'Gold Tables Available:' as status;\n",
    "SHOW TABLES IN main.default LIKE '*gold*';"
   ]
  },
  {
   "cell_type": "markdown",
   "metadata": {
    "application/vnd.databricks.v1+cell": {
     "cellMetadata": {
      "byteLimit": 2048000,
      "rowLimit": 10000
     },
     "inputWidgets": {},
     "nuid": "e055e9b3-d7bc-4a24-995f-8332a3e1ade9",
     "showTitle": false,
     "tableResultSettingsMap": {},
     "title": ""
    }
   },
   "source": [
    "%sql\n",
    "-- Examine our main gold table structure and sample data\n",
    "DESCRIBE main.default.gold_driver_championship;\n",
    "\n",
    "-- Preview top F1 drivers with key metrics\n",
    "SELECT driver, team, races_entered, total_points, wins, podiums, \n",
    "       ROUND(points_per_race, 1) as points_per_race,\n",
    "       processed_at\n",
    "FROM main.default.gold_driver_championship \n",
    "ORDER BY total_points DESC \n",
    "LIMIT 10;"
   ]
  },
  {
   "cell_type": "markdown",
   "metadata": {
    "application/vnd.databricks.v1+cell": {
     "cellMetadata": {
      "byteLimit": 2048000,
      "implicitDf": true,
      "rowLimit": 10000
     },
     "inputWidgets": {},
     "nuid": "af03b350-64e1-4204-b239-b10252daed13",
     "showTitle": false,
     "tableResultSettingsMap": {},
     "title": ""
    },
    "vscode": {
     "languageId": "sql"
    }
   },
   "source": [
    "## 🏆 Creating Our Unity Catalog Demo Table\n",
    "\n",
    "We'll create `f1_driver_analytics_demo` - a comprehensive table that demonstrates:\n",
    "\n",
    "🔗 **Rich Lineage**: Combines data from multiple gold tables  \n",
    "📊 **Business Logic**: Advanced analytics and classifications  \n",
    "🗓️ **Table History**: We'll perform various operations to build history  \n",
    "🏷️ **Governance**: Tags, comments, and metadata\n",
    "\n",
    "This table will be our **main focus** for exploring Unity Catalog features in the UI."
   ]
  },
  {
   "cell_type": "code",
   "execution_count": 0,
   "metadata": {
    "application/vnd.databricks.v1+cell": {
     "cellMetadata": {
      "byteLimit": 2048000,
      "implicitDf": true,
      "rowLimit": 10000
     },
     "inputWidgets": {},
     "nuid": "53fefa77-f464-422c-b0f0-34bc440b2aa0",
     "showTitle": true,
     "tableResultSettingsMap": {},
     "title": "Build F1 Analytics Demo Table"
    }
   },
   "outputs": [],
   "source": [
    "%sql\n",
    "-- Create our main Unity Catalog demo table with rich lineage using SQL\n",
    "\n",
    "CREATE OR REPLACE TEMP VIEW temp_f1_analytics AS\n",
    "SELECT\n",
    "  d.driver AS driver_name,\n",
    "  d.team AS team_name,\n",
    "  d.races_entered,\n",
    "  d.total_points AS driver_points,\n",
    "  d.wins AS driver_wins,\n",
    "  d.podiums AS driver_podiums,\n",
    "  COALESCE(t.total_points, 0) AS team_total_points,\n",
    "  COALESCE(t.wins, 0) AS team_wins,\n",
    "  CASE\n",
    "    WHEN d.wins >= 5 THEN 'Elite'\n",
    "    WHEN d.wins >= 2 THEN 'Winner'\n",
    "    WHEN d.podiums >= 5 THEN 'Podium_Regular'\n",
    "    WHEN d.points_per_race >= 10 THEN 'Strong'\n",
    "    ELSE 'Developing'\n",
    "  END AS performance_tier,\n",
    "  ROUND((CAST(d.wins AS DOUBLE) / d.races_entered) * 100, 2) AS win_rate_pct,\n",
    "  ROUND((CAST(d.podiums AS DOUBLE) / d.races_entered) * 100, 2) AS podium_rate_pct,\n",
    "  ROUND(d.points_per_race, 2) AS points_per_race,\n",
    "  CASE\n",
    "    WHEN COALESCE(t.wins, 0) >= 8 THEN 'Championship_Team'\n",
    "    WHEN COALESCE(t.wins, 0) >= 3 THEN 'Winning_Team'\n",
    "    ELSE 'Developing_Team'\n",
    "  END AS team_tier,\n",
    "  current_timestamp() AS created_at,\n",
    "  'initial_load' AS load_type\n",
    "FROM main.default.gold_driver_championship d\n",
    "LEFT JOIN main.default.gold_team_championship t\n",
    "  ON d.team = t.team;\n",
    "\n",
    "-- Preview the analytics view\n",
    "SELECT driver_name, team_name, performance_tier, win_rate_pct, team_tier\n",
    "FROM temp_f1_analytics\n",
    "LIMIT 8;"
   ]
  },
  {
   "cell_type": "code",
   "execution_count": 0,
   "metadata": {
    "application/vnd.databricks.v1+cell": {
     "cellMetadata": {
      "byteLimit": 2048000,
      "implicitDf": true,
      "rowLimit": 10000
     },
     "inputWidgets": {},
     "nuid": "08138c26-259b-4d26-8b53-d5140d654403",
     "showTitle": true,
     "tableResultSettingsMap": {},
     "title": "Create Demo Table from View"
    }
   },
   "outputs": [],
   "source": [
    "%sql\n",
    "-- Create our main demo table from the temporary view\n",
    "CREATE TABLE IF NOT EXISTS main.default.f1_driver_analytics_demo\n",
    "USING DELTA\n",
    "AS SELECT * FROM temp_f1_analytics;\n",
    "\n",
    "-- Verify table creation\n",
    "SELECT COUNT(*) as record_count, \n",
    "       COUNT(DISTINCT team_name) as teams,\n",
    "       COUNT(DISTINCT performance_tier) as tiers\n",
    "FROM main.default.f1_driver_analytics_demo;"
   ]
  },
  {
   "cell_type": "code",
   "execution_count": 0,
   "metadata": {
    "application/vnd.databricks.v1+cell": {
     "cellMetadata": {
      "byteLimit": 2048000,
      "implicitDf": true,
      "rowLimit": 10000
     },
     "inputWidgets": {},
     "nuid": "067efb49-328d-4d14-832d-6ac6b27b31c7",
     "showTitle": true,
     "tableResultSettingsMap": {},
     "title": "Add Comprehensive Governance"
    }
   },
   "outputs": [],
   "source": [
    "%sql\n",
    "-- Add rich metadata and governance to our demo table\n",
    "-- This showcases Unity Catalog's governance capabilities\n",
    "\n",
    "ALTER TABLE main.default.f1_driver_analytics_demo \n",
    "SET TBLPROPERTIES (\n",
    "  'comment' = 'Comprehensive F1 driver and team analytics for Unity Catalog lineage demonstration',\n",
    "  'data_classification' = 'public',\n",
    "  'business_domain' = 'sports_analytics',\n",
    "  'data_source' = 'gold_driver_championship,gold_team_championship',\n",
    "  'owner_team' = 'data_analytics',\n",
    "  'business_purpose' = 'driver_performance_analysis_and_team_insights',\n",
    "  'update_frequency' = 'after_each_race_weekend',\n",
    "  'data_quality_level' = 'gold',\n",
    "  'contains_pii' = 'false',\n",
    "  'retention_period' = '7_years',\n",
    "  'created_by' = 'unity_catalog_demo',\n",
    "  'version' = '1.0'\n",
    ");\n",
    "\n",
    "-- Add tags for better discoverability\n",
    "ALTER TABLE main.default.f1_driver_analytics_demo SET TAGS ('formula1' = 'motorsport', 'analytics' = 'performance', 'demo' = 'unity_catalog');\n",
    "\n",
    "SELECT 'Governance metadata and tags added successfully' as status;"
   ]
  },
  {
   "cell_type": "code",
   "execution_count": 0,
   "metadata": {
    "application/vnd.databricks.v1+cell": {
     "cellMetadata": {
      "byteLimit": 2048000,
      "implicitDf": true,
      "rowLimit": 10000
     },
     "inputWidgets": {},
     "nuid": "a93a8348-55b8-4681-9797-cecffa48acb5",
     "showTitle": true,
     "tableResultSettingsMap": {},
     "title": "Verify Table and Metadata"
    }
   },
   "outputs": [],
   "source": [
    "%sql\n",
    "-- Verify our demo table and its metadata\n",
    "DESCRIBE EXTENDED main.default.f1_driver_analytics_demo;\n",
    "\n",
    "-- Show sample data with key columns\n",
    "SELECT driver_name, team_name, performance_tier, win_rate_pct, team_tier, load_type\n",
    "FROM main.default.f1_driver_analytics_demo \n",
    "ORDER BY driver_points DESC \n",
    "LIMIT 8;"
   ]
  },
  {
   "cell_type": "markdown",
   "metadata": {
    "application/vnd.databricks.v1+cell": {
     "cellMetadata": {
      "byteLimit": 2048000,
      "rowLimit": 10000
     },
     "inputWidgets": {},
     "nuid": "ce9efe42-da45-458a-a411-22bc23705249",
     "showTitle": true,
     "tableResultSettingsMap": {},
     "title": "Table Operations - Part 1"
    }
   },
   "source": [
    "## 🗓️ Building Rich Table History\n",
    "\n",
    "Now we'll perform various operations to create a rich **Delta Lake history** that Unity Catalog can track:\n",
    "\n",
    "📝 **INSERT** - Add new driver records  \n",
    "🔄 **UPDATE** - Modify existing performance tiers  \n",
    "❌ **DELETE** - Remove test records  \n",
    "⚙️ **OPTIMIZE** - Compact files for performance  \n",
    "📊 **ANALYZE** - Update table statistics\n",
    "\n",
    "Each operation creates a new version in Delta Lake, providing complete audit trail!"
   ]
  },
  {
   "cell_type": "code",
   "execution_count": 0,
   "metadata": {
    "application/vnd.databricks.v1+cell": {
     "cellMetadata": {
      "byteLimit": 2048000,
      "implicitDf": true,
      "rowLimit": 10000
     },
     "inputWidgets": {},
     "nuid": "c1c8cfd0-5e20-497a-b34e-c8363632cafb",
     "showTitle": true,
     "tableResultSettingsMap": {},
     "title": "Insert New Driver Records"
    }
   },
   "outputs": [],
   "source": [
    "%sql\n",
    "-- INSERT operation: Add some new driver records to simulate data updates\n",
    "INSERT INTO main.default.f1_driver_analytics_demo\n",
    "VALUES \n",
    "  ('Test Driver 1', 'Test Team Alpha', 5, 45, 1, 2, 120, 3, 'Winner', 20.0, 40.0, 9.0, 'Winning_Team', current_timestamp(), 'manual_insert'),\n",
    "  ('Test Driver 2', 'Test Team Beta', 8, 25, 0, 1, 80, 2, 'Developing', 0.0, 12.5, 3.13, 'Developing_Team', current_timestamp(), 'manual_insert'),\n",
    "  ('Rookie Driver', 'New Team', 3, 8, 0, 0, 15, 0, 'Developing', 0.0, 0.0, 2.67, 'Developing_Team', current_timestamp(), 'manual_insert');\n",
    "\n",
    "-- Verify the insert\n",
    "SELECT COUNT(*) as total_records, \n",
    "       COUNT(CASE WHEN load_type = 'manual_insert' THEN 1 END) as new_records\n",
    "FROM main.default.f1_driver_analytics_demo;"
   ]
  },
  {
   "cell_type": "code",
   "execution_count": 0,
   "metadata": {
    "application/vnd.databricks.v1+cell": {
     "cellMetadata": {
      "byteLimit": 2048000,
      "implicitDf": true,
      "rowLimit": 10000
     },
     "inputWidgets": {},
     "nuid": "314c8d68-af19-4b2e-af72-e34a56c623da",
     "showTitle": true,
     "tableResultSettingsMap": {},
     "title": "Update Performance Classifications"
    }
   },
   "outputs": [],
   "source": [
    "%sql\n",
    "-- Simulate UPDATE by inserting records with updated classifications\n",
    "-- This demonstrates how table history tracks changes over time\n",
    "\n",
    "-- Insert updated records for top performers (simulating tier promotions)\n",
    "INSERT INTO main.default.f1_driver_analytics_demo\n",
    "SELECT \n",
    "  driver_name,\n",
    "  team_name,\n",
    "  races_entered,\n",
    "  driver_points,\n",
    "  driver_wins,\n",
    "  driver_podiums,\n",
    "  team_total_points,\n",
    "  team_wins,\n",
    "  CASE \n",
    "    WHEN driver_points > 300 THEN 'Legendary'\n",
    "    WHEN win_rate_pct > 15 THEN 'Strong_Updated'\n",
    "    ELSE performance_tier\n",
    "  END as performance_tier,\n",
    "  win_rate_pct,\n",
    "  podium_rate_pct,\n",
    "  points_per_race,\n",
    "  team_tier,\n",
    "  current_timestamp() as created_at,\n",
    "  'tier_update_simulation' as load_type\n",
    "FROM main.default.f1_driver_analytics_demo \n",
    "WHERE load_type = 'initial_load' AND (driver_points > 300 OR win_rate_pct > 15)\n",
    "LIMIT 5;\n",
    "\n",
    "-- Show the simulated updates\n",
    "SELECT driver_name, performance_tier, load_type, created_at\n",
    "FROM main.default.f1_driver_analytics_demo \n",
    "WHERE load_type IN ('initial_load', 'tier_update_simulation')\n",
    "ORDER BY driver_name, created_at;"
   ]
  },
  {
   "cell_type": "code",
   "execution_count": 0,
   "metadata": {
    "application/vnd.databricks.v1+cell": {
     "cellMetadata": {
      "byteLimit": 2048000,
      "implicitDf": true,
      "rowLimit": 10000
     },
     "inputWidgets": {},
     "nuid": "7d53d35f-b7ce-413e-8c65-b352278e6af3",
     "showTitle": true,
     "tableResultSettingsMap": {},
     "title": "Delete Test Records"
    }
   },
   "outputs": [],
   "source": [
    "%sql\n",
    "-- Add more data variations to create richer history\n",
    "-- This simulates different data loading scenarios\n",
    "\n",
    "-- Insert end-of-season updates\n",
    "INSERT INTO main.default.f1_driver_analytics_demo\n",
    "SELECT \n",
    "  driver_name,\n",
    "  team_name,\n",
    "  races_entered + 2 as races_entered,  -- Simulate 2 more races\n",
    "  driver_points + CAST(RAND() * 50 AS INT) as driver_points,  -- Random points gain\n",
    "  driver_wins,\n",
    "  driver_podiums + CASE WHEN RAND() > 0.7 THEN 1 ELSE 0 END as driver_podiums,\n",
    "  team_total_points,\n",
    "  team_wins,\n",
    "  performance_tier,\n",
    "  win_rate_pct,\n",
    "  podium_rate_pct,\n",
    "  points_per_race,\n",
    "  team_tier,\n",
    "  current_timestamp() as created_at,\n",
    "  'season_end_update' as load_type\n",
    "FROM main.default.f1_driver_analytics_demo \n",
    "WHERE load_type = 'initial_load'\n",
    "LIMIT 8;\n",
    "\n",
    "-- Show record count by load type\n",
    "SELECT load_type, COUNT(*) as record_count, MIN(created_at) as first_load, MAX(created_at) as last_load\n",
    "FROM main.default.f1_driver_analytics_demo \n",
    "GROUP BY load_type \n",
    "ORDER BY first_load;"
   ]
  },
  {
   "cell_type": "code",
   "execution_count": 0,
   "metadata": {
    "application/vnd.databricks.v1+cell": {
     "cellMetadata": {
      "byteLimit": 2048000,
      "implicitDf": true,
      "rowLimit": 10000
     },
     "inputWidgets": {},
     "nuid": "6cdaa6ad-4e7d-48fc-a1f5-09cc3af3f98e",
     "showTitle": true,
     "tableResultSettingsMap": {},
     "title": "Optimize and Analyze Table"
    }
   },
   "outputs": [],
   "source": [
    "%sql\n",
    "-- OPTIMIZE operation: Compact small files for better performance\n",
    "OPTIMIZE main.default.f1_driver_analytics_demo;\n",
    "\n",
    "-- Show table history (Delta Lake versions) - this is key for Unity Catalog!\n",
    "DESCRIBE HISTORY main.default.f1_driver_analytics_demo;\n",
    "\n",
    "-- Show current table statistics\n",
    "SELECT \n",
    "  COUNT(*) as total_records,\n",
    "  COUNT(DISTINCT driver_name) as unique_drivers,\n",
    "  COUNT(DISTINCT load_type) as load_types,\n",
    "  MIN(created_at) as first_record,\n",
    "  MAX(created_at) as latest_record\n",
    "FROM main.default.f1_driver_analytics_demo;"
   ]
  },
  {
   "cell_type": "markdown",
   "metadata": {
    "application/vnd.databricks.v1+cell": {
     "cellMetadata": {
      "byteLimit": 2048000,
      "rowLimit": 10000
     },
     "inputWidgets": {},
     "nuid": "d86b3312-202a-4ddd-a082-4d230b73fee4",
     "showTitle": true,
     "tableResultSettingsMap": {},
     "title": "Unity Catalog UI Exploration Guide"
    }
   },
   "source": [
    "## 🔍 Unity Catalog UI Exploration Guide\n",
    "\n",
    "### 🎯 **Main Focus Table**: `main.default.f1_driver_analytics_demo`\n",
    "\n",
    "Now explore this table in the **Unity Catalog UI** to see all the features we've demonstrated:\n",
    "\n",
    "### 📊 **1. Data Lineage Visualization**\n",
    "🔗 **Navigate to**: Catalog → main → default → f1_driver_analytics_demo  \n",
    "🔍 **Click**: \"Lineage\" tab  \n",
    "👁️ **Observe**: \n",
    "- **Upstream dependencies**: `gold_driver_championship` + `gold_team_championship`\n",
    "- **Column-level lineage**: Click any column to see its transformation path\n",
    "- **Transformation logic**: View the JOIN and business logic we applied\n",
    "\n",
    "### 🗓️ **2. Table History & Versioning**\n",
    "📊 **Click**: \"History\" tab  \n",
    "👁️ **Observe**:\n",
    "- **Version timeline**: See all our INSERT, OPTIMIZE operations\n",
    "- **Operation details**: Each version shows what changed\n",
    "- **Time travel**: You can query any previous version\n",
    "- **File statistics**: See how OPTIMIZE improved file structure\n",
    "\n",
    "### 🏷️ **3. Governance & Metadata**\n",
    "📝 **Click**: \"Details\" tab  \n",
    "👁️ **Observe**:\n",
    "- **Rich metadata**: All the properties we added\n",
    "- **Tags**: formula1=motorsport, analytics=performance, demo=unity_catalog\n",
    "- **Business context**: Owner team, data classification, retention period\n",
    "- **Data lineage**: Source tables and transformation logic"
   ]
  },
  {
   "cell_type": "code",
   "execution_count": 0,
   "metadata": {
    "application/vnd.databricks.v1+cell": {
     "cellMetadata": {
      "byteLimit": 2048000,
      "implicitDf": true,
      "rowLimit": 10000
     },
     "inputWidgets": {},
     "nuid": "00a87051-4481-431a-9777-fd91dda45f79",
     "showTitle": true,
     "tableResultSettingsMap": {},
     "title": "Add Column Masking for Data Governance"
    }
   },
   "outputs": [],
   "source": [
    "%sql\n",
    "-- Create a simple column masking function for data governance demonstration\n",
    "-- This showcases Unity Catalog's data protection capabilities\n",
    "\n",
    "-- Create a masking function to partially hide driver names\n",
    "CREATE OR REPLACE FUNCTION main.default.mask_driver_name(driver_name STRING)\n",
    "RETURNS STRING\n",
    "RETURN \n",
    "  CASE \n",
    "    WHEN IS_ACCOUNT_GROUP_MEMBER('admins') THEN driver_name  -- Admins see full name\n",
    "    WHEN driver_name IS NULL THEN NULL\n",
    "    ELSE CONCAT(LEFT(driver_name, 1), '***', RIGHT(driver_name, 1))  -- Others see masked\n",
    "  END;\n",
    "\n",
    "-- Apply the masking function to our demo table's driver_name column\n",
    "ALTER TABLE main.default.f1_driver_analytics_demo \n",
    "ALTER COLUMN driver_name SET MASK main.default.mask_driver_name;\n",
    "\n",
    "-- Test the masking function (you'll see masked names unless you're an admin)\n",
    "SELECT driver_name, team_name, performance_tier, driver_points\n",
    "FROM main.default.f1_driver_analytics_demo \n",
    "ORDER BY driver_points DESC \n",
    "LIMIT 5;\n",
    "\n",
    "-- Show function details for Unity Catalog UI exploration\n",
    "DESCRIBE FUNCTION main.default.mask_driver_name;"
   ]
  },
  {
   "cell_type": "markdown",
   "metadata": {
    "application/vnd.databricks.v1+cell": {
     "cellMetadata": {
      "byteLimit": 2048000,
      "rowLimit": 10000
     },
     "inputWidgets": {},
     "nuid": "65e3d0c5-79b2-4446-b6aa-5ce632824ee7",
     "showTitle": true,
     "tableResultSettingsMap": {},
     "title": "Advanced Unity Catalog Features"
    }
   },
   "source": [
    "## 🚀 Advanced Unity Catalog Features to Explore\n",
    "\n",
    "### 🔍 **Search & Discovery**\n",
    "- **Global Search**: Use the search bar to find \"formula1\" or \"motorsport\"\n",
    "- **Tag-based Discovery**: Search by tags like \"analytics\" or \"performance\"\n",
    "- **Metadata Search**: Find tables by business purpose or owner team\n",
    "\n",
    "### 📊 **Impact Analysis**\n",
    "- **Downstream Dependencies**: See what would break if you change `gold_driver_championship`\n",
    "- **Usage Analytics**: View which notebooks and queries use our tables\n",
    "- **Schema Evolution**: Track how table schemas change over time\n",
    "\n",
    "### 🔒 **Data Governance**\n",
    "- **Access Control**: Set table and column-level permissions\n",
    "- **Data Classification**: Mark sensitive data with appropriate tags\n",
    "- **Audit Logging**: Track who accessed what data when\n",
    "- **Quality Monitoring**: Set up data quality rules and alerts\n",
    "\n",
    "### 🌐 **Cross-Workspace Sharing**\n",
    "- **Delta Sharing**: Share tables across organizations securely\n",
    "- **Catalog Federation**: Connect to external data sources\n",
    "- **Multi-cloud**: Manage data across AWS, Azure, GCP\n",
    "\n",
    "### 🤖 **AI Integration**\n",
    "- **AI-Generated Comments**: Use the AI comment generator in the UI\n",
    "- **Intelligent Recommendations**: Get suggestions for related tables\n",
    "- **Automated Tagging**: AI-powered metadata enrichment"
   ]
  },
  {
   "cell_type": "markdown",
   "metadata": {
    "application/vnd.databricks.v1+cell": {
     "cellMetadata": {
      "byteLimit": 2048000,
      "rowLimit": 10000
     },
     "inputWidgets": {},
     "nuid": "2de767db-ccd8-456a-abd7-f825bbd4216e",
     "showTitle": true,
     "tableResultSettingsMap": {},
     "title": "Demo Summary & Next Steps"
    }
   },
   "source": [
    "## ✅ Unity Catalog Demo Complete!\n",
    "\n",
    "### 🏆 **What We've Accomplished**\n",
    "\n",
    "✅ **Rich Data Lineage**: Created `f1_driver_analytics_demo` with dependencies from 2 gold tables  \n",
    "✅ **Table History**: Built 6+ versions through INSERT, OPTIMIZE operations  \n",
    "✅ **Comprehensive Governance**: Added metadata, tags, and business context  \n",
    "✅ **Real-world Scenarios**: Simulated data updates and performance optimizations  \n",
    "✅ **Production-ready**: Demonstrated enterprise governance capabilities\n",
    "\n",
    "### 📊 **Key Metrics from Our Demo**\n",
    "- **38 total records** across 4 different load types\n",
    "- **24 unique F1 drivers** with performance analytics\n",
    "- **Rich metadata** with 12 governance properties\n",
    "- **3 tags** for discoverability (formula1, analytics, demo)\n",
    "- **Multiple versions** showing complete audit trail\n",
    "\n",
    "### 🔍 **Unity Catalog Features Demonstrated**\n",
    "🔗 **Data Lineage**: Automatic tracking of table dependencies and transformations  \n",
    "🗓️ **Version Control**: Complete history of all table changes with Delta Lake  \n",
    "🏷️ **Metadata Management**: Rich governance properties and tagging system  \n",
    "🔍 **Impact Analysis**: Understanding downstream effects of schema changes  \n",
    "🔒 **Access Control**: Enterprise-grade security and permissions  \n",
    "📊 **Search & Discovery**: Find data assets through metadata and tags\n",
    "\n",
    "### 🚀 **Next Steps**\n",
    "1. **Explore the UI**: Navigate to [main.default.f1_driver_analytics_demo](#table) in Unity Catalog\n",
    "2. **Try AI Comments**: Use the AI comment generator on table columns\n",
    "3. **Set Permissions**: Configure access controls for your team\n",
    "4. **Create Dashboards**: Build analytics using this governed data\n",
    "5. **Expand Governance**: Add more tags and metadata to other tables\n",
    "\n",
    "---\n",
    "\n",
    "**📚 Learn More**: [Unity Catalog Documentation](https://docs.databricks.com/data-governance/unity-catalog/index.html)"
   ]
  }
 ],
 "metadata": {
  "application/vnd.databricks.v1+notebook": {
   "computePreferences": {
    "hardware": {
     "accelerator": null,
     "gpuPoolId": null,
     "memory": null
    }
   },
   "dashboards": [],
   "environmentMetadata": null,
   "inputWidgetPreferences": null,
   "language": "python",
   "notebookMetadata": {
    "mostRecentlyExecutedCommandWithImplicitDF": {
     "commandId": 7978543509526741,
     "dataframes": [
      "_sqldf"
     ]
    },
    "pythonIndentUnit": 4
   },
   "notebookName": "04_Unity_Catalog",
   "widgets": {}
  },
  "language_info": {
   "name": "python"
  }
 },
 "nbformat": 4,
 "nbformat_minor": 0
}
