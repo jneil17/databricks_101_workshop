{
 "cells": [
  {
   "cell_type": "markdown",
   "metadata": {
    "application/vnd.databricks.v1+cell": {
     "cellMetadata": {},
     "inputWidgets": {},
     "nuid": "29c33279-33ca-415c-834a-5393abb879ae",
     "showTitle": false,
     "tableResultSettingsMap": {},
     "title": ""
    }
   },
   "source": [
    "# 🗄️ Unity Catalog Demo: Data Governance & Lineage\n",
    "*Explore Unity Catalog features with Formula 1 data lineage in 5 minutes*\n",
    "\n",
    "---\n",
    "\n",
    "## 🎯 Learning Objectives\n",
    "\n",
    "By the end of this demo, you'll understand:\n",
    "- ✅ **Unity Catalog's 3-level namespace** (catalog.schema.table)\n",
    "- ✅ **Data lineage tracking** and visualization\n",
    "- ✅ **Governance features** for enterprise data management\n",
    "- ✅ **Best practices** for organizing data assets\n",
    "\n",
    "---"
   ]
  },
  {
   "cell_type": "markdown",
   "metadata": {
    "application/vnd.databricks.v1+cell": {
     "cellMetadata": {},
     "inputWidgets": {},
     "nuid": "7f382e48-b407-418b-96cc-2e9b6f7d5614",
     "showTitle": false,
     "tableResultSettingsMap": {},
     "title": ""
    }
   },
   "source": [
    "## 📊 What We'll Explore\n",
    "\n",
    "**Data Lineage Demo Pipeline:**\n",
    "```\n",
    "🔍 Unity Catalog Features:\n",
    "├── 📋 Data Discovery (search and explore tables)\n",
    "├── 📈 Lineage Visualization (track data flow)\n",
    "├── 🔒 Governance Controls (permissions and security)\n",
    "├── 📝 Metadata Management (descriptions and tags)\n",
    "└── 🔍 Impact Analysis (understand dependencies)\n",
    "```\n",
    "\n",
    "### 🎯 Using Our F1 Data\n",
    "We'll explore the data pipeline we created in previous notebooks:\n",
    "- **Bronze Tables** → **Silver Tables** → **Gold Tables**\n",
    "- **Data lineage** from raw CSV files to analytics\n",
    "- **Impact analysis** for schema changes\n",
    "- **Governance** for production data assets\n",
    "\n",
    "First, let's verify that we have our F1 data tables from the setup and medallion notebooks:"
   ]
  },
  {
   "cell_type": "code",
   "execution_count": 0,
   "metadata": {
    "application/vnd.databricks.v1+cell": {
     "cellMetadata": {},
     "inputWidgets": {},
     "nuid": "a3c9bf97-bc6e-453f-84ef-e8a8ff783ae9",
     "showTitle": false,
     "tableResultSettingsMap": {},
     "title": ""
    },
    "vscode": {
     "languageId": "sql"
    }
   },
   "outputs": [],
   "source": [
    "-- Let's explore our F1 data catalog structure\n",
    "\n",
    "-- Show all tables in our schema\n",
    "SHOW TABLES IN main.default;"
   ]
  },
  {
   "cell_type": "markdown",
   "metadata": {
    "application/vnd.databricks.v1+cell": {
     "cellMetadata": {},
     "inputWidgets": {},
     "nuid": "e055e9b3-d7bc-4a24-995f-8332a3e1ade9",
     "showTitle": false,
     "tableResultSettingsMap": {},
     "title": ""
    }
   },
   "source": [
    "## 🔍 Data Discovery and Metadata\n",
    "\n",
    "Unity Catalog provides rich metadata and discovery capabilities. Let's explore our F1 tables:"
   ]
  },
  {
   "cell_type": "code",
   "execution_count": 0,
   "metadata": {
    "application/vnd.databricks.v1+cell": {
     "cellMetadata": {},
     "inputWidgets": {},
     "nuid": "af03b350-64e1-4204-b239-b10252daed13",
     "showTitle": false,
     "tableResultSettingsMap": {},
     "title": ""
    },
    "vscode": {
     "languageId": "sql"
    }
   },
   "outputs": [],
   "source": [
    "-- Explore detailed table information\n",
    "\n",
    "-- Get detailed info for our gold table\n",
    "DESCRIBE EXTENDED main.default.gold_driver_standings;\n",
    "\n",
    "-- Get table statistics\n",
    "DESCRIBE DETAIL main.default.gold_driver_standings;"
   ]
  },
  {
   "cell_type": "markdown",
   "metadata": {
    "application/vnd.databricks.v1+cell": {
     "cellMetadata": {},
     "inputWidgets": {},
     "nuid": "335e82c9-bd59-45c2-8d6c-6cac820e8b79",
     "showTitle": false,
     "tableResultSettingsMap": {},
     "title": ""
    }
   },
   "source": [
    "## 🔄 Creating Lineage Demo Tables\n",
    "\n",
    "Let's create a set of tables that demonstrate Unity Catalog's lineage tracking capabilities.\n",
    "We'll create 5 tables with clear dependencies between them:\n",
    "\n",
    "1. `lineage_drivers_source` - Base driver information\n",
    "2. `lineage_results_source` - Base race results \n",
    "3. `lineage_driver_performance` - Joins the two sources\n",
    "4. `lineage_career_stats` - Aggregates performance data\n",
    "5. `lineage_championship_tiers` - Classifies drivers by performance\n",
    "\n",
    "These tables will provide a clean demonstration of data lineage in Unity Catalog."
   ]
  },
  {
   "cell_type": "code",
   "execution_count": 0,
   "metadata": {
    "application/vnd.databricks.v1+cell": {
     "cellMetadata": {},
     "inputWidgets": {},
     "nuid": "345fe500-acec-4807-800d-129fc074a2f1",
     "showTitle": false,
     "tableResultSettingsMap": {},
     "title": ""
    },
    "vscode": {
     "languageId": "sql"
    }
   },
   "outputs": [],
   "source": [
    "-- 1. Create the first source table - driver information\n",
    "CREATE OR REPLACE TABLE main.default.lineage_drivers_source AS\n",
    "SELECT\n",
    "  driver_id,\n",
    "  full_name,\n",
    "  nationality,\n",
    "  date_of_birth,\n",
    "  current_age\n",
    "FROM main.default.silver_drivers;\n",
    "\n",
    "-- 2. Create the second source table - race results\n",
    "CREATE OR REPLACE TABLE main.default.lineage_results_source AS\n",
    "SELECT\n",
    "  race_id,\n",
    "  driver_id,\n",
    "  finish_position,\n",
    "  points,\n",
    "  race_time\n",
    "FROM main.default.silver_results\n",
    "WHERE finish_position IS NOT NULL;\n",
    "\n",
    "-- Show table counts to verify\n",
    "SELECT 'lineage_drivers_source' as table_name, COUNT(*) as row_count FROM main.default.lineage_drivers_source\n",
    "UNION ALL\n",
    "SELECT 'lineage_results_source' as table_name, COUNT(*) as row_count FROM main.default.lineage_results_source;"
   ]
  },
  {
   "cell_type": "code",
   "execution_count": 0,
   "metadata": {
    "application/vnd.databricks.v1+cell": {
     "cellMetadata": {},
     "inputWidgets": {},
     "nuid": "2c4dfcee-b77e-4a44-aefc-08e7d34a8cfd",
     "showTitle": false,
     "tableResultSettingsMap": {},
     "title": ""
    },
    "vscode": {
     "languageId": "sql"
    }
   },
   "outputs": [],
   "source": [
    "-- 3. Create the joined performance table\n",
    "CREATE OR REPLACE TABLE main.default.lineage_driver_performance AS\n",
    "SELECT\n",
    "  d.driver_id,\n",
    "  d.full_name,\n",
    "  d.nationality,\n",
    "  r.race_id,\n",
    "  r.finish_position,\n",
    "  r.points,\n",
    "  CASE \n",
    "    WHEN r.finish_position = 1 THEN 'Win'\n",
    "    WHEN r.finish_position = 2 THEN 'Runner-up'\n",
    "    WHEN r.finish_position = 3 THEN 'Podium'\n",
    "    WHEN r.finish_position <= 10 THEN 'Points'\n",
    "    ELSE 'Non-points'\n",
    "  END AS result_type,\n",
    "  CASE\n",
    "    WHEN r.finish_position = 1 THEN 25\n",
    "    WHEN r.finish_position = 2 THEN 18\n",
    "    WHEN r.finish_position = 3 THEN 15\n",
    "    ELSE r.points\n",
    "  END AS normalized_points\n",
    "FROM main.default.lineage_drivers_source d\n",
    "JOIN main.default.lineage_results_source r ON d.driver_id = r.driver_id;\n",
    "\n",
    "-- 4. Create career statistics aggregation\n",
    "CREATE OR REPLACE TABLE main.default.lineage_career_stats AS\n",
    "SELECT\n",
    "  driver_id,\n",
    "  full_name,\n",
    "  nationality,\n",
    "  COUNT(*) AS total_races,\n",
    "  SUM(CASE WHEN result_type = 'Win' THEN 1 ELSE 0 END) AS total_wins,\n",
    "  SUM(CASE WHEN result_type IN ('Win', 'Runner-up', 'Podium') THEN 1 ELSE 0 END) AS total_podiums,\n",
    "  SUM(normalized_points) AS career_points,\n",
    "  ROUND(SUM(normalized_points) / COUNT(*), 2) AS points_per_race\n",
    "FROM main.default.lineage_driver_performance\n",
    "GROUP BY driver_id, full_name, nationality;\n",
    "\n",
    "-- 5. Create championship tier classification\n",
    "CREATE OR REPLACE TABLE main.default.lineage_championship_tiers AS\n",
    "SELECT\n",
    "  driver_id,\n",
    "  full_name,\n",
    "  nationality,\n",
    "  total_races,\n",
    "  total_wins,\n",
    "  total_podiums,\n",
    "  career_points,\n",
    "  points_per_race,\n",
    "  CASE\n",
    "    WHEN total_wins >= 20 THEN 'Legend'\n",
    "    WHEN total_wins >= 10 THEN 'Champion'\n",
    "    WHEN total_wins >= 5 THEN 'Race Winner'\n",
    "    WHEN total_podiums >= 10 THEN 'Podium Regular'\n",
    "    WHEN total_podiums >= 1 THEN 'Podium Achiever'\n",
    "    WHEN points_per_race >= 1 THEN 'Points Scorer'\n",
    "    ELSE 'Competitor'\n",
    "  END AS driver_tier\n",
    "FROM main.default.lineage_career_stats\n",
    "WHERE total_races >= 10\n",
    "ORDER BY career_points DESC;\n",
    "\n",
    "-- Show final classification counts\n",
    "SELECT driver_tier, COUNT(*) as driver_count \n",
    "FROM main.default.lineage_championship_tiers\n",
    "GROUP BY driver_tier\n",
    "ORDER BY COUNT(*) DESC;"
   ]
  },
  {
   "cell_type": "markdown",
   "metadata": {
    "application/vnd.databricks.v1+cell": {
     "cellMetadata": {},
     "inputWidgets": {},
     "nuid": "e8a441f6-4503-46a0-b48a-31829d38d30f",
     "showTitle": false,
     "tableResultSettingsMap": {},
     "title": ""
    }
   },
   "source": [
    "## ? Data Lineage Visualization\n",
    "\n",
    "Now that we've created our lineage demo tables, let's view the full lineage:\n",
    "\n",
    "**[Screenshot: Unity Catalog Lineage Graph]**\n",
    "*📁 Image location: `images/03_lineage_graph.png`*\n",
    "*Screenshot guidance: Show the Unity Catalog lineage view with F1 tables connected, displaying the flow from Bronze → Silver → Gold*\n",
    "\n",
    "### 🔄 Our Lineage Demo Pipeline:\n",
    "\n",
    "```\n",
    "Source Tables                        Joined Data                        Analytics                      Classification\n",
    "┌─────────────────────┐          ┌─────────────────────┐          ┌─────────────────────┐          ┌─────────────────────┐\n",
    "│                     │          │                     │          │                     │          │                     │\n",
    "│ lineage_drivers_    │───┐      │ lineage_driver_     │──────────┤ lineage_career_     │──────────┤ lineage_championship│\n",
    "│ source              │   │      │ performance         │          │ stats               │          │ _tiers              │\n",
    "│                     │   │      │                     │          │                     │          │                     │\n",
    "└─────────────────────┘   │      └─────────────────────┘          └─────────────────────┘          └─────────────────────┘\n",
    "                          │                  ▲\n",
    "                          │                  │\n",
    "┌─────────────────────┐   │                  │\n",
    "│                     │   │                  │\n",
    "│ lineage_results_    │───┘                  │\n",
    "│ source              │                      │\n",
    "│                     │                      │\n",
    "└─────────────────────┘                      │\n",
    "```\n",
    "\n",
    "### 🔍 How to Explore This Lineage:\n",
    "\n",
    "#### 1. **Navigate to Unity Catalog UI**\n",
    "- Click **\"Catalog\"** in the left sidebar\n",
    "- Navigate to **main** → **default** → **lineage_championship_tiers**\n",
    "- Click the **\"Lineage\"** tab\n",
    "\n",
    "#### 2. **Explore Lineage Graph**\n",
    "- **Upstream dependencies** - see source tables\n",
    "- **Transformation logic** - view the JOIN operations\n",
    "- **Column-level lineage** - trace individual metrics\n",
    "- **Downstream usage** - find dashboards and queries using this data\n",
    "\n",
    "#### 3. **Impact Analysis**\n",
    "- **Schema changes** - understand what would break\n",
    "- **Dependency mapping** - see all affected assets\n",
    "- **Change propagation** - track impact of modifications"
   ]
  },
  {
   "cell_type": "code",
   "execution_count": 0,
   "metadata": {
    "application/vnd.databricks.v1+cell": {
     "cellMetadata": {},
     "inputWidgets": {},
     "nuid": "6be2d3bc-e900-41d9-bed3-9efe5077032e",
     "showTitle": false,
     "tableResultSettingsMap": {},
     "title": ""
    },
    "vscode": {
     "languageId": "sql"
    }
   },
   "outputs": [],
   "source": [
    "-- Query to view our driver classification tiers\n",
    "SELECT \n",
    "  full_name, \n",
    "  nationality, \n",
    "  total_races, \n",
    "  total_wins, \n",
    "  total_podiums, \n",
    "  ROUND(points_per_race, 1) as avg_points, \n",
    "  driver_tier\n",
    "FROM main.default.lineage_championship_tiers\n",
    "WHERE driver_tier IN ('Legend', 'Champion', 'Race Winner')\n",
    "ORDER BY career_points DESC\n",
    "LIMIT 20;"
   ]
  },
  {
   "cell_type": "code",
   "execution_count": 0,
   "metadata": {
    "application/vnd.databricks.v1+cell": {
     "cellMetadata": {},
     "inputWidgets": {},
     "nuid": "83de2a4b-393f-403b-b390-39f2dd59208c",
     "showTitle": false,
     "tableResultSettingsMap": {},
     "title": ""
    },
    "vscode": {
     "languageId": "sql"
    }
   },
   "outputs": [],
   "source": [
    "-- 3. Create the joined performance table\n",
    "CREATE OR REPLACE TABLE main.default.lineage_driver_performance AS\n",
    "SELECT\n",
    "  d.driver_id,\n",
    "  d.full_name,\n",
    "  d.nationality,\n",
    "  r.race_id,\n",
    "  r.finish_position,\n",
    "  r.points,\n",
    "  CASE \n",
    "    WHEN r.finish_position = 1 THEN 'Win'\n",
    "    WHEN r.finish_position = 2 THEN 'Runner-up'\n",
    "    WHEN r.finish_position = 3 THEN 'Podium'\n",
    "    WHEN r.finish_position <= 10 THEN 'Points'\n",
    "    ELSE 'Non-points'\n",
    "  END AS result_type,\n",
    "  CASE\n",
    "    WHEN r.finish_position = 1 THEN 25\n",
    "    WHEN r.finish_position = 2 THEN 18\n",
    "    WHEN r.finish_position = 3 THEN 15\n",
    "    ELSE r.points\n",
    "  END AS normalized_points\n",
    "FROM main.default.lineage_drivers_source d\n",
    "JOIN main.default.lineage_results_source r ON d.driver_id = r.driver_id;\n",
    "\n",
    "-- 4. Create career statistics aggregation\n",
    "CREATE OR REPLACE TABLE main.default.lineage_career_stats AS\n",
    "SELECT\n",
    "  driver_id,\n",
    "  full_name,\n",
    "  nationality,\n",
    "  COUNT(*) AS total_races,\n",
    "  SUM(CASE WHEN result_type = 'Win' THEN 1 ELSE 0 END) AS total_wins,\n",
    "  SUM(CASE WHEN result_type IN ('Win', 'Runner-up', 'Podium') THEN 1 ELSE 0 END) AS total_podiums,\n",
    "  SUM(normalized_points) AS career_points,\n",
    "  ROUND(SUM(normalized_points) / COUNT(*), 2) AS points_per_race\n",
    "FROM main.default.lineage_driver_performance\n",
    "GROUP BY driver_id, full_name, nationality;\n",
    "\n",
    "-- 5. Create championship tier classification\n",
    "CREATE OR REPLACE TABLE main.default.lineage_championship_tiers AS\n",
    "SELECT\n",
    "  driver_id,\n",
    "  full_name,\n",
    "  nationality,\n",
    "  total_races,\n",
    "  total_wins,\n",
    "  total_podiums,\n",
    "  career_points,\n",
    "  points_per_race,\n",
    "  CASE\n",
    "    WHEN total_wins >= 20 THEN 'Legend'\n",
    "    WHEN total_wins >= 10 THEN 'Champion'\n",
    "    WHEN total_wins >= 5 THEN 'Race Winner'\n",
    "    WHEN total_podiums >= 10 THEN 'Podium Regular'\n",
    "    WHEN total_podiums >= 1 THEN 'Podium Achiever'\n",
    "    WHEN points_per_race >= 1 THEN 'Points Scorer'\n",
    "    ELSE 'Competitor'\n",
    "  END AS driver_tier\n",
    "FROM main.default.lineage_career_stats\n",
    "WHERE total_races >= 10\n",
    "ORDER BY career_points DESC;\n",
    "\n",
    "-- Show final classification counts\n",
    "SELECT driver_tier, COUNT(*) as driver_count \n",
    "FROM main.default.lineage_championship_tiers\n",
    "GROUP BY driver_tier\n",
    "ORDER BY COUNT(*) DESC;"
   ]
  },
  {
   "cell_type": "code",
   "execution_count": 0,
   "metadata": {
    "application/vnd.databricks.v1+cell": {
     "cellMetadata": {},
     "inputWidgets": {},
     "nuid": "ed8637e2-e4ba-4775-b688-a37cb052cb1a",
     "showTitle": false,
     "tableResultSettingsMap": {},
     "title": ""
    },
    "vscode": {
     "languageId": "sql"
    }
   },
   "outputs": [],
   "source": [
    "-- Add metadata to our tables for better governance and discoverability\n",
    "-- This SQL approach is more straightforward than using Python for SQL operations\n",
    "\n",
    "-- Gold layer tables\n",
    "ALTER TABLE main.default.gold_driver_standings \n",
    "SET TBLPROPERTIES ('comment' = 'Comprehensive F1 driver career statistics and performance metrics aggregated from race results');\n",
    "\n",
    "ALTER TABLE main.default.gold_season_stats \n",
    "SET TBLPROPERTIES ('comment' = 'Annual Formula 1 season-level analytics including driver counts, races, and completion rates');\n",
    "\n",
    "-- Silver layer tables\n",
    "ALTER TABLE main.default.silver_drivers \n",
    "SET TBLPROPERTIES ('comment' = 'Cleaned and validated F1 driver information with standardized names and data types');\n",
    "\n",
    "ALTER TABLE main.default.silver_races \n",
    "SET TBLPROPERTIES ('comment' = 'Processed F1 race information with validated dates and circuit details');\n",
    "\n",
    "ALTER TABLE main.default.silver_results \n",
    "SET TBLPROPERTIES ('comment' = 'Clean race results with calculated fields for winners, podiums, and performance metrics');"
   ]
  },
  {
   "cell_type": "markdown",
   "metadata": {
    "application/vnd.databricks.v1+cell": {
     "cellMetadata": {},
     "inputWidgets": {},
     "nuid": "8f345ac7-682a-42f3-97fb-6ca9058ab1e3",
     "showTitle": false,
     "tableResultSettingsMap": {},
     "title": ""
    }
   },
   "source": [
    "## 🔒 Governance and Security Features\n",
    "\n",
    "Unity Catalog provides enterprise-grade governance capabilities:\n",
    "\n",
    "### 🛡️ Security Controls:\n",
    "- **Fine-grained access control** (table, column, row level)\n",
    "- **Dynamic data masking** for sensitive information\n",
    "- **Audit logging** for compliance and monitoring\n",
    "- **Attribute-based access control** (ABAC)\n",
    "\n",
    "### 📋 Data Classification:\n",
    "- **Sensitivity labels** (PII, confidential, public)\n",
    "- **Compliance tags** (GDPR, CCPA, SOX)\n",
    "- **Business classification** (finance, marketing, operations)\n",
    "- **Quality indicators** (bronze, silver, gold, certified)\n",
    "\n",
    "### 🔍 Monitoring and Auditing:\n",
    "- **Access patterns** and usage analytics\n",
    "- **Change history** and version control\n",
    "- **Performance metrics** and optimization recommendations\n",
    "- **Data freshness** and quality monitoring"
   ]
  },
  {
   "cell_type": "markdown",
   "metadata": {
    "application/vnd.databricks.v1+cell": {
     "cellMetadata": {},
     "inputWidgets": {},
     "nuid": "a89fab5e-a06e-4153-8d05-6beef99fa731",
     "showTitle": false,
     "tableResultSettingsMap": {},
     "title": ""
    }
   },
   "source": [
    "## ✅ Unity Catalog Demo Complete!\n",
    "\n",
    "**🎉 Great job! You've explored Unity Catalog's powerful governance features!**\n",
    "\n",
    "### What You've Learned:\n",
    "- ✅ **3-level namespace** organization (catalog.schema.table)\n",
    "- ✅ **Data lineage** visualization and impact analysis\n",
    "- ✅ **Metadata management** and table documentation\n",
    "- ✅ **Governance capabilities** for enterprise data management\n",
    "\n",
    "### ? Tables Created for Lineage Demo:\n",
    "1. `lineage_drivers_source`: Driver base information\n",
    "2. `lineage_results_source`: Race results base information\n",
    "3. `lineage_driver_performance`: Joined race performance data\n",
    "4. `lineage_career_stats`: Aggregated driver statistics\n",
    "5. `lineage_championship_tiers`: Driver classification by performance tier\n",
    "\n",
    "### ?🚀 Next Steps in Unity Catalog:\n",
    "1. **Explore the UI** - Navigate to Catalog → main → default\n",
    "2. **View Lineage** - Click on lineage_championship_tiers and explore its lineage\n",
    "3. **Search Data** - Use the search bar to find F1-related assets\n",
    "4. **Set up Permissions** - Configure access controls for your team\n",
    "5. **Add Tags** - Classify your data with business-relevant tags\n",
    "\n",
    "### 💡 Key Governance Benefits:\n",
    "- **Data Discovery** - Find relevant datasets quickly\n",
    "- **Impact Analysis** - Understand change consequences\n",
    "- **Compliance** - Meet regulatory requirements\n",
    "- **Quality** - Track data lineage and transformations\n",
    "- **Security** - Control access at granular levels\n",
    "\n",
    "**Continue to the next notebook:** `04_Job_Creation.ipynb`\n",
    "\n",
    "**🏁 Ready to automate your F1 pipeline? Let's create some jobs! 🚀**"
   ]
  }
 ],
 "metadata": {
  "application/vnd.databricks.v1+notebook": {
   "computePreferences": null,
   "dashboards": [],
   "environmentMetadata": null,
   "inputWidgetPreferences": null,
   "language": "python",
   "notebookMetadata": {
    "pythonIndentUnit": 4
   },
   "notebookName": "04_Unity_Catalog",
   "widgets": {}
  },
  "language_info": {
   "name": "python"
  }
 },
 "nbformat": 4,
 "nbformat_minor": 0
}
