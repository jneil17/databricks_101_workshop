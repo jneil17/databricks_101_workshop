{
 "cells": [
  {
   "cell_type": "markdown",
   "metadata": {
    "application/vnd.databricks.v1+cell": {
     "cellMetadata": {},
     "inputWidgets": {},
     "nuid": "b63d9fb3-4333-4e10-ab4d-c15d1542fe26",
     "showTitle": false,
     "tableResultSettingsMap": {},
     "title": ""
    }
   },
   "source": [
    "# 🏎️ Agent Bricks Setup Overview\n",
    "\n",
    "## 🏁 What is Agent Bricks?\n",
    "\n",
    "Agent Bricks provides a streamlined approach to build and optimize domain-specific, high-quality AI agent systems for common AI use cases. Like a well-tuned racing team, it handles the complex optimization work so you can focus on the problem, data, and metrics.\n",
    "\n",
    "**Key Benefits:**\n",
    "* Automated AI agent system building\n",
    "* Built-in model optimization and fine-tuning\n",
    "* Seamless integration with Databricks Data Intelligence Platform\n",
    "* One-click deployment\n",
    "\n",
    "![](./Images/Agent Bricks main interface.png \"Agent Bricks main interface.png\")"
   ]
  },
  {
   "cell_type": "markdown",
   "metadata": {
    "application/vnd.databricks.v1+cell": {
     "cellMetadata": {},
     "inputWidgets": {},
     "nuid": "d3f6b724-4030-417d-93b8-500be1004a68",
     "showTitle": false,
     "tableResultSettingsMap": {},
     "title": ""
    }
   },
   "source": [
    "## 🔧 Prerequisites & Requirements\n",
    "\n",
    "Before setting up Agent Bricks, ensure your workspace has:\n",
    "\n",
    "* **Mosaic AI Agent Bricks Preview (Beta)** enabled\n",
    "* **Serverless compute** enabled\n",
    "* **Unity Catalog** enabled\n",
    "* Access to foundation models in Unity Catalog through `system.ai` schema\n",
    "* Access to a serverless budget policy with nonzero budget\n",
    "* Workspace in supported regions: `us-east-1` or `us-west-2`\n",
    "\n",
    "*[📸 Screenshot Placeholder: Workspace settings showing enabled features]*"
   ]
  },
  {
   "cell_type": "markdown",
   "metadata": {
    "application/vnd.databricks.v1+cell": {
     "cellMetadata": {},
     "inputWidgets": {},
     "nuid": "27ac066a-16ac-4f66-a285-75b600e20a26",
     "showTitle": false,
     "tableResultSettingsMap": {},
     "title": ""
    }
   },
   "source": [
    "## ⚡ How Agent Bricks Works\n",
    "\n",
    "Agent Bricks follows a simple 3-step process:\n",
    "\n",
    "1. **Specify your problem** - Define your use case and point to your data\n",
    "2. **Automatic system building** - Agent Bricks builds the entire AI agent system automatically\n",
    "3. **Continuous optimization** - System gets refined for continuous improvement\n",
    "\n",
    "**Behind the scenes:**\n",
    "* Tries various AI models automatically\n",
    "* Fine-tunes models using your data\n",
    "* Optimizes systems using innovative AI techniques\n",
    "* Evaluates and offers the best built-out systems\n",
    "\n",
    "![](./Images/Agent Bricks workflow diagram.png \"Agent Bricks workflow diagram.png\")"
   ]
  },
  {
   "cell_type": "markdown",
   "metadata": {
    "application/vnd.databricks.v1+cell": {
     "cellMetadata": {},
     "inputWidgets": {},
     "nuid": "7fb999b9-f685-405d-b7fb-14285815f3ed",
     "showTitle": false,
     "tableResultSettingsMap": {},
     "title": ""
    }
   },
   "source": [
    "## 🏆 Supported Use Cases\n",
    "\n",
    "Agent Bricks currently supports these use cases:\n",
    "\n",
    "| Use Case | Description |\n",
    "|----------|-------------|\n",
    "| **🔍 Information Extraction** | Transform large volumes of unlabeled text documents into structured tables |\n",
    "| **🤖 Custom LLM** | Custom text generation tasks (summarization, classification, text transformation) |\n",
    "| **💬 Knowledge Assistant** | Turn documents into high-quality chatbots that answer questions and cite sources |\n",
    "| **👥 Multi-Agent Supervisor** | Design multi-agent AI systems bringing Genie spaces and agents together |\n",
    "\n",
    "*[📸 Screenshot Placeholder: Use case selection interface]*"
   ]
  },
  {
   "cell_type": "markdown",
   "metadata": {
    "application/vnd.databricks.v1+cell": {
     "cellMetadata": {},
     "inputWidgets": {},
     "nuid": "87ac750e-71cc-4274-9388-a604a79be56c",
     "showTitle": false,
     "tableResultSettingsMap": {},
     "title": ""
    }
   },
   "source": [
    "## 🚀 Getting Started\n",
    "\n",
    "### Next Steps:\n",
    "1. **Enable Agent Bricks Preview** in your workspace settings\n",
    "2. **Prepare your data** in Unity Catalog\n",
    "3. **Choose your use case** from the supported options above\n",
    "4. **Configure your agent** with your specific requirements\n",
    "5. **Deploy and test** your AI agent system\n",
    "\n",
    "### Important Notes:\n",
    "* Endpoints scale to zero after 3 days of inactivity\n",
    "* You're only billed for uptime\n",
    "* Continuous optimization runs in the background\n",
    "* Databricks will notify you of better model options at no additional charge\n",
    "\n",
    "---\n",
    "\n",
    "**📸 Ready to add screenshots? Complete this setup guide with your images!**"
   ]
  }
 ],
 "metadata": {
  "application/vnd.databricks.v1+notebook": {
   "computePreferences": null,
   "dashboards": [],
   "environmentMetadata": null,
   "inputWidgetPreferences": null,
   "language": "python",
   "notebookMetadata": {
    "pythonIndentUnit": 4
   },
   "notebookName": "10_Agent_Bricks",
   "widgets": {}
  },
  "language_info": {
   "name": "python"
  }
 },
 "nbformat": 4,
 "nbformat_minor": 0
}
