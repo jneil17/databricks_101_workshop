{
 "cells": [
  {
   "cell_type": "markdown",
   "metadata": {
    "application/vnd.databricks.v1+cell": {
     "cellMetadata": {},
     "inputWidgets": {},
     "nuid": "145c2067-08ca-46e5-a335-4680ab36eec6",
     "showTitle": false,
     "tableResultSettingsMap": {},
     "title": ""
    }
   },
   "source": [
    "# 🎯 Databricks Platform Tour\n",
    "*Navigate the Databricks workspace like a pro in 5 minutes*\n",
    "\n",
    "---\n",
    "\n",
    "## 🎯 Learning Objectives\n",
    "By the end of this tour, you'll know:\n",
    "- ✅ How to navigate the Databricks workspace interface\n",
    "- ✅ Where to find key features and tools\n",
    "- ✅ How to access data, compute, and development resources\n",
    "- ✅ Basic workspace organization principles\n",
    "\n",
    "---"
   ]
  },
  {
   "cell_type": "markdown",
   "metadata": {
    "application/vnd.databricks.v1+cell": {
     "cellMetadata": {},
     "inputWidgets": {},
     "nuid": "993b8ec9-4ce5-4523-af15-5e378472248e",
     "showTitle": false,
     "tableResultSettingsMap": {},
     "title": ""
    }
   },
   "source": [
    "## 🧭 Left Sidebar Navigation\n",
    "\n",
    "The left sidebar is your command center for navigating Databricks:\n",
    "\n",
    "### 📁 Workspace\n",
    "- Personal folder for your notebooks and files\n",
    "- Shared folders for team collaboration\n",
    "- Connect to Git repos\n",
    "- Sample notebooks and getting started guides\n",
    "- Trash for deleted items\n",
    "\n",
    "**[Screenshot: Workspace Navigation]**\n",
    "\n",
    "### 🗄️ Catalog\n",
    "- Browse data through Unity Catalog's 3-level namespace\n",
    "- Explore catalogs, schemas, and tables\n",
    "- View data lineage and governance information\n",
    "- Manage data permissions and access\n",
    "\n",
    "**[Screenshot: Unity Catalog Browser]**\n",
    "\n",
    "### ⚡ Compute\n",
    "- Create and manage compute clusters\n",
    "- Choose between all-purpose and job clusters\n",
    "- Use Serverless compute for instant start\n",
    "- Monitor cluster performance and utilization\n",
    "\n",
    "**[Screenshot: Compute Management]**\n",
    "\n",
    "### 🔄 Workflows\n",
    "- Schedule notebooks, queries, dashboard refreshes, etc as jobs\n",
    "- Create Delta Live Table pipelines for managed ETL\n",
    "- Set up multi-task workflows\n",
    "- Monitor job execution and history\n",
    "\n",
    "![](./Images/Lakeflow Jobs and Pipelines.png \"Lakeflow Jobs and Pipelines.png\")\n"
   ]
  },
  {
   "cell_type": "markdown",
   "metadata": {
    "application/vnd.databricks.v1+cell": {
     "cellMetadata": {},
     "inputWidgets": {},
     "nuid": "9a6cbe47-db8e-430c-94e8-a063491d0522",
     "showTitle": false,
     "tableResultSettingsMap": {},
     "title": ""
    }
   },
   "source": [
    "## 📊 Data Ingestion Options\n",
    "\n",
    "Databricks provides multiple ways to bring data into your lakehouse:\n",
    "\n",
    "### 🔄 Lakeflow Connect\n",
    "- Connect natively to external data sources, database or Saas application \n",
    "- Incremental ingestion + change tracking \n",
    "- Supported sources: SQL Server, Salesforce, Google Analytics, SharePoint, and more\n",
    "\n",
    "### 🔄 Lakehouse Federation\n",
    "- Query data in place without copying\n",
    "- Only for databases\n",
    "- Supported sources: Snowflake, Redshift, BigQuery, SQL Server, and more\n",
    "\n",
    "### 📈 Fivetran\n",
    "- Pre-built connectors for 100+ data sources\n",
    "- Automated schema migration and data synchronization\n",
    "- Incremental updates with change data capture\n",
    "\n",
    "### 🤝 Partner Connect\n",
    "- One-click integration with data tools\n",
    "- Simplified setup for Fivetran, dbt, and more\n",
    "- Pre-configured connections to your workspace\n",
    "\n",
    "### 🛠️ Custom Scripts\n",
    "- Python and SQL code for custom ingestion\n",
    "- API integrations with any data source\n",
    "- Volumes for file storage and processing\n",
    "\n",
    "![](./Images/Data Ingestion.png \"Data Ingestion.png\")"
   ]
  },
  {
   "cell_type": "markdown",
   "metadata": {
    "application/vnd.databricks.v1+cell": {
     "cellMetadata": {},
     "inputWidgets": {},
     "nuid": "bfafb855-0d42-438f-9670-790bfec0db7f",
     "showTitle": false,
     "tableResultSettingsMap": {},
     "title": ""
    }
   },
   "source": [
    "## 🤖 AI / ML Features\n",
    "\n",
    "Databricks offers comprehensive AI / ML capabilities:\n",
    "\n",
    "### 📊 Experiments\n",
    "- Track model training runs\n",
    "- Compare metrics across experiments\n",
    "- Visualize performance over time\n",
    "\n",
    "### 🔄 Models\n",
    "- Register models in Unity Catalog\n",
    "- Track model versions and lineage\n",
    "- Deploy models to serving endpoints\n",
    "\n",
    "### 📦 Feature Store\n",
    "- Centralized repository for ML features\n",
    "- Feature sharing across teams\n",
    "- Point-in-time lookups for training\n",
    "\n",
    "### ⚡ AutoML\n",
    "- Automated model training and tuning\n",
    "- No-code ML model creation\n",
    "- Transparent notebooks for each trial\n",
    "\n",
    "### ⚡ Agents\n",
    "- Low-code UI to build agents\n",
    "- Provide feedback for evaluation and higher accuracy\n",
    "- Chain agents together for multi-agent system\n",
    "\n",
    "**[Screenshot: ML Workspace Features]**"
   ]
  },
  {
   "cell_type": "markdown",
   "metadata": {
    "application/vnd.databricks.v1+cell": {
     "cellMetadata": {},
     "inputWidgets": {},
     "nuid": "a19edb49-36fa-4363-9bca-1a23139e1913",
     "showTitle": false,
     "tableResultSettingsMap": {},
     "title": ""
    }
   },
   "source": [
    "## 📊 SQL Editor & Analytics\n",
    "\n",
    "Powerful tools for data analysis and visualization:\n",
    "\n",
    "### 📝 SQL Editor\n",
    "- Interactive SQL query development\n",
    "- Query history and version control\n",
    "- Parameter support for dynamic queries\n",
    "- Query optimization suggestions\n",
    "\n",
    "### 📈 Visualizations\n",
    "- Rich chart library (bar, line, pie, scatter, etc.)\n",
    "- Custom visualization options\n",
    "- Geographic maps and heat maps\n",
    "- Interactive filtering and drill-downs\n",
    "\n",
    "### 📊 Dashboards\n",
    "- Combine multiple visualizations\n",
    "- Add text and image elements\n",
    "- Schedule automatic refreshes\n",
    "- Share with stakeholders\n",
    "\n",
    "### 📱 Alerts\n",
    "- Set thresholds for key metrics\n",
    "- Get notified when data changes\n",
    "- Email and webhook notifications\n",
    "\n",
    "![](./SQL Editor.png \"SQL Editor.png\")\n",
    "\n"
   ]
  },
  {
   "cell_type": "markdown",
   "metadata": {
    "application/vnd.databricks.v1+cell": {
     "cellMetadata": {},
     "inputWidgets": {},
     "nuid": "27fab11b-b742-41db-bd52-092475998f9e",
     "showTitle": false,
     "tableResultSettingsMap": {},
     "title": ""
    }
   },
   "source": [
    "## ✅ Platform Tour Complete!\n",
    "\n",
    "**🎉 Congratulations! You've completed the Databricks Platform tour!**\n",
    "\n",
    "### What You've Learned:\n",
    "- ✅ **Navigation** through the workspace interface\n",
    "- ✅ **Data ingestion** options for your lakehouse\n",
    "- ✅ **Machine learning** capabilities and tools\n",
    "- ✅ **SQL Editor & Analytics** for data exploration\n",
    "\n",
    "### 🚀 Next Steps:\n",
    "1. **Explore the Notebook Tour** to learn how to use notebooks effectively\n",
    "2. **Create a Serverless compute** resource for immediate development\n",
    "3. **Browse sample notebooks** for inspiration and learning\n",
    "4. **Check out Unity Catalog** to understand data governance\n",
    "\n",
    "**Continue to the next notebook:** [02_Notebook_Tour.ipynb](02_Notebook_Tour.ipynb)\n",
    "\n",
    "**🏁 Ready to build your first data pipeline? Let's go! 🚀**"
   ]
  }
 ],
 "metadata": {
  "application/vnd.databricks.v1+notebook": {
   "computePreferences": null,
   "dashboards": [],
   "environmentMetadata": null,
   "inputWidgetPreferences": null,
   "language": "python",
   "notebookMetadata": {
    "pythonIndentUnit": 2
   },
   "notebookName": "01_Platform_Tour",
   "widgets": {}
  },
  "language_info": {
   "name": "python"
  }
 },
 "nbformat": 4,
 "nbformat_minor": 0
}
