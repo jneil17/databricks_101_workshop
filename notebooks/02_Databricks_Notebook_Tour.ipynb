{
 "cells": [
  {
   "cell_type": "markdown",
   "metadata": {
    "application/vnd.databricks.v1+cell": {
     "cellMetadata": {
      "byteLimit": 2048000,
      "rowLimit": 10000
     },
     "inputWidgets": {},
     "nuid": "c1f8b357-08d5-44f8-872c-85d622a3ff1d",
     "showTitle": false,
     "tableResultSettingsMap": {},
     "title": ""
    }
   },
   "source": [
    "# 📓 Databricks Notebook Tour\n",
    "*Learn notebook basics in 5 minutes*\n",
    "\n",
    "---\n",
    "\n",
    "## 🎯 What You'll Learn\n",
    "\n",
    "**Core Notebook Skills:**\n",
    "* 🐍 **Python cells** - Run Python code\n",
    "* 📊 **SQL cells** - Query data with SQL  \n",
    "* 📝 **Markdown cells** - Add documentation\n",
    "* 🔧 **Magic commands** - Switch between languages\n",
    "* 📊 **display()** - Show data nicely\n",
    "\n",
    "**Let's get started!**"
   ]
  },
  {
   "cell_type": "markdown",
   "metadata": {
    "application/vnd.databricks.v1+cell": {
     "cellMetadata": {
      "byteLimit": 2048000,
      "rowLimit": 10000
     },
     "inputWidgets": {},
     "nuid": "0c7a042b-d7b6-41fd-a563-5ebe7691e705",
     "showTitle": false,
     "tableResultSettingsMap": {},
     "title": ""
    }
   },
   "source": [
    "## 🐍 Step 1: Python Cells\n",
    "\n",
    "This is a **Markdown cell** - great for documentation and explanations.\n",
    "\n",
    "Next, we'll see a **Python cell** in action:"
   ]
  },
  {
   "cell_type": "code",
   "execution_count": 0,
   "metadata": {
    "application/vnd.databricks.v1+cell": {
     "cellMetadata": {
      "byteLimit": 2048000,
      "rowLimit": 10000
     },
     "inputWidgets": {},
     "nuid": "cb79bd24-fe65-4650-8ebf-84d27d33b9ab",
     "showTitle": false,
     "tableResultSettingsMap": {},
     "title": ""
    }
   },
   "outputs": [],
   "source": [
    "# This is a Python cell - notice the language indicator\n",
    "# You can run Python code directly here\n",
    "\n",
    "# Simple variables and operations\n",
    "name = \"Databricks Notebook\"\n",
    "version = spark.version\n",
    "\n",
    "# Clean output with minimal printing\n",
    "print(f\"Welcome to {name}!\")\n",
    "print(f\"Spark version: {version}\")\n",
    "\n",
    "# Create simple data\n",
    "data = [(\"Alice\", 25), (\"Bob\", 30), (\"Charlie\", 35)]\n",
    "print(f\"Sample data: {data}\")"
   ]
  },
  {
   "cell_type": "markdown",
   "metadata": {
    "application/vnd.databricks.v1+cell": {
     "cellMetadata": {
      "byteLimit": 2048000,
      "rowLimit": 10000
     },
     "inputWidgets": {},
     "nuid": "d7a070ef-e388-4cf8-95c5-248b1ad0283d",
     "showTitle": true,
     "tableResultSettingsMap": {},
     "title": "Notebook Features Showcase"
    }
   },
   "source": [
    "## 📊 Step 2: SQL Cells\n",
    "\n",
    "Now let's try a **SQL cell** using the `%sql` magic command:"
   ]
  },
  {
   "cell_type": "code",
   "execution_count": 0,
   "metadata": {
    "application/vnd.databricks.v1+cell": {
     "cellMetadata": {
      "byteLimit": 2048000,
      "implicitDf": true,
      "rowLimit": 10000
     },
     "inputWidgets": {},
     "nuid": "b936fc25-b9f6-469a-a760-f852569de40a",
     "showTitle": true,
     "tableResultSettingsMap": {},
     "title": "dbutils and File System Demo"
    }
   },
   "outputs": [],
   "source": [
    "%sql\n",
    "-- This is a SQL cell - notice the %sql magic command\n",
    "-- You can run SQL queries directly\n",
    "\n",
    "SELECT 'Hello' as greeting, 'SQL' as language, 42 as number"
   ]
  },
  {
   "cell_type": "markdown",
   "metadata": {
    "application/vnd.databricks.v1+cell": {
     "cellMetadata": {
      "byteLimit": 2048000,
      "rowLimit": 10000
     },
     "inputWidgets": {},
     "nuid": "73075352-da8c-4813-abd4-86cc6840abd1",
     "showTitle": true,
     "tableResultSettingsMap": {},
     "title": "Magic Commands Demo"
    }
   },
   "source": [
    "## 📊 Step 3: Working with Data\n",
    "\n",
    "Let's create and display some data:"
   ]
  },
  {
   "cell_type": "code",
   "execution_count": 0,
   "metadata": {
    "application/vnd.databricks.v1+cell": {
     "cellMetadata": {
      "byteLimit": 2048000,
      "rowLimit": 10000
     },
     "inputWidgets": {},
     "nuid": "2c5562c3-554d-4e55-bbde-78e6db51558b",
     "showTitle": false,
     "tableResultSettingsMap": {},
     "title": ""
    }
   },
   "outputs": [],
   "source": [
    "# Create a simple DataFrame\n",
    "from pyspark.sql import Row\n",
    "\n",
    "# Sample data\n",
    "people = [\n",
    "    Row(name=\"Alice\", age=25, city=\"New York\"),\n",
    "    Row(name=\"Bob\", age=30, city=\"London\"),\n",
    "    Row(name=\"Charlie\", age=35, city=\"Tokyo\")\n",
    "]\n",
    "\n",
    "df = spark.createDataFrame(people)\n",
    "\n",
    "# Use display() for nice formatting (key notebook feature!)\n",
    "display(df)"
   ]
  },
  {
   "cell_type": "code",
   "execution_count": 0,
   "metadata": {
    "application/vnd.databricks.v1+cell": {
     "cellMetadata": {
      "byteLimit": 2048000,
      "implicitDf": true,
      "rowLimit": 10000
     },
     "inputWidgets": {},
     "nuid": "016e573f-3db0-457a-a29a-2b4fe21117a0",
     "showTitle": false,
     "tableResultSettingsMap": {},
     "title": ""
    }
   },
   "outputs": [],
   "source": [
    "%sql\n",
    "-- Create a temporary view and query it\n",
    "CREATE OR REPLACE TEMPORARY VIEW people AS\n",
    "SELECT 'Alice' as name, 25 as age, 'New York' as city\n",
    "UNION ALL\n",
    "SELECT 'Bob', 30, 'London'\n",
    "UNION ALL\n",
    "SELECT 'Charlie', 35, 'Tokyo';\n",
    "\n",
    "-- Query the data\n",
    "SELECT name, age, city,\n",
    "       CASE WHEN age >= 30 THEN 'Senior' ELSE 'Junior' END as category\n",
    "FROM people\n",
    "ORDER BY age;"
   ]
  },
  {
   "cell_type": "markdown",
   "metadata": {
    "application/vnd.databricks.v1+cell": {
     "cellMetadata": {
      "byteLimit": 2048000,
      "rowLimit": 10000
     },
     "inputWidgets": {},
     "nuid": "b2347647-8b73-498f-9596-c154fc774658",
     "showTitle": true,
     "tableResultSettingsMap": {},
     "title": "Tour Complete!"
    }
   },
   "source": [
    "## ✅ Notebook Tour Complete!\n",
    "\n",
    "**You've learned the essentials:**\n",
    "\n",
    "* 🐍 **Python cells** - Run code, create variables, process data\n",
    "* 📊 **SQL cells** - Use `%sql` magic command for queries\n",
    "* 📝 **Markdown cells** - Use `%md` for documentation\n",
    "* 📊 **display()** - Show DataFrames with nice formatting\n",
    "\n",
    "**Key Tips:**\n",
    "* Press **Shift+Enter** to run a cell\n",
    "* Use **+** button to add new cells\n",
    "* Magic commands (`%sql`, `%md`) must be first line\n",
    "* **display()** is better than **print()** for data\n",
    "\n",
    "**Ready to explore on your own!** 🚀"
   ]
  }
 ],
 "metadata": {
  "application/vnd.databricks.v1+notebook": {
   "computePreferences": null,
   "dashboards": [],
   "environmentMetadata": null,
   "inputWidgetPreferences": null,
   "language": "python",
   "notebookMetadata": {
    "mostRecentlyExecutedCommandWithImplicitDF": {
     "commandId": 4556706692983868,
     "dataframes": [
      "_sqldf"
     ]
    },
    "pythonIndentUnit": 4
   },
   "notebookName": "02_Databricks_Notebook_Tour",
   "widgets": {}
  },
  "language_info": {
   "name": "python"
  }
 },
 "nbformat": 4,
 "nbformat_minor": 0
}
