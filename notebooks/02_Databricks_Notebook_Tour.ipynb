{
 "cells": [
  {
   "cell_type": "markdown",
   "metadata": {
    "application/vnd.databricks.v1+cell": {
     "cellMetadata": {
      "byteLimit": 2048000,
      "rowLimit": 10000
     },
     "inputWidgets": {},
     "nuid": "c1f8b357-08d5-44f8-872c-85d622a3ff1d",
     "showTitle": false,
     "tableResultSettingsMap": {},
     "title": ""
    }
   },
   "source": [
    "# 📓 Databricks Notebook Tour\n",
    "*Learn notebook basics in 5 minutes*\n",
    "\n",
    "---\n",
    "\n",
    "## 🎯 What You'll Learn\n",
    "\n",
    "**Core Notebook Skills:**\n",
    "* 🐍 **Python cells** - Run Python code\n",
    "* 📊 **SQL cells** - Query data with SQL  \n",
    "* 📝 **Markdown cells** - Add documentation\n",
    "* 🔧 **Magic commands** - Switch between languages\n",
    "* 📊 **display()** - Show data nicely\n",
    "\n",
    "**Let's get started!**"
   ]
  },
  {
   "cell_type": "markdown",
   "metadata": {
    "application/vnd.databricks.v1+cell": {
     "cellMetadata": {
      "byteLimit": 2048000,
      "rowLimit": 10000
     },
     "inputWidgets": {},
     "nuid": "0c7a042b-d7b6-41fd-a563-5ebe7691e705",
     "showTitle": false,
     "tableResultSettingsMap": {},
     "title": ""
    }
   },
   "source": [
    "## 🐍 Step 1: Python Cells\n",
    "\n",
    "This is a **Markdown cell** - great for documentation and explanations.\n",
    "\n",
    "Next, we'll see a **Python cell** in action:"
   ]
  },
  {
   "cell_type": "code",
   "execution_count": 0,
   "metadata": {
    "application/vnd.databricks.v1+cell": {
     "cellMetadata": {
      "byteLimit": 2048000,
      "rowLimit": 10000
     },
     "inputWidgets": {},
     "nuid": "cb79bd24-fe65-4650-8ebf-84d27d33b9ab",
     "showTitle": false,
     "tableResultSettingsMap": {},
     "title": ""
    }
   },
   "outputs": [],
   "source": [
    "# This is a Python cell - run it with Shift+Enter or the ▶️ button\n",
    "\n",
    "# Get Spark version info\n",
    "print(f\"Running on Spark version: {spark.version}\")\n",
    "\n",
    "# Create a simple Python list\n",
    "data = [(\"Alice\", 25), (\"Bob\", 30), (\"Charlie\", 35)]\n",
    "\n",
    "# In Databricks, we prefer display() over print() for data visualization\n",
    "# We'll see this in action in the next example"
   ]
  },
  {
   "cell_type": "markdown",
   "metadata": {
    "application/vnd.databricks.v1+cell": {
     "cellMetadata": {
      "byteLimit": 2048000,
      "rowLimit": 10000
     },
     "inputWidgets": {},
     "nuid": "d7a070ef-e388-4cf8-95c5-248b1ad0283d",
     "showTitle": true,
     "tableResultSettingsMap": {},
     "title": "Notebook Features Showcase"
    }
   },
   "source": [
    "## 📊 Step 2: SQL Cells\n",
    "\n",
    "Now let's try a **SQL cell** using the `%sql` magic command:"
   ]
  },
  {
   "cell_type": "code",
   "execution_count": 0,
   "metadata": {
    "application/vnd.databricks.v1+cell": {
     "cellMetadata": {
      "byteLimit": 2048000,
      "implicitDf": true,
      "rowLimit": 10000
     },
     "inputWidgets": {},
     "nuid": "cbf0c79c-b569-45a7-a013-d0894a65c92e",
     "showTitle": false,
     "tableResultSettingsMap": {},
     "title": ""
    },
    "vscode": {
     "languageId": "sql"
    }
   },
   "outputs": [],
   "source": [
    "%sql\n",
    "-- This is a SQL cell - notice we're using the SQL language directly\n",
    "-- Databricks supports native SQL execution\n",
    "\n",
    "-- A simple query with literal values\n",
    "SELECT 'Hello' as greeting, 'SQL' as language, 42 as number"
   ]
  },
  {
   "cell_type": "markdown",
   "metadata": {
    "application/vnd.databricks.v1+cell": {
     "cellMetadata": {
      "byteLimit": 2048000,
      "rowLimit": 10000
     },
     "inputWidgets": {},
     "nuid": "104121c1-9b35-4aa8-9150-ce0563761566",
     "showTitle": false,
     "tableResultSettingsMap": {},
     "title": ""
    }
   },
   "source": [
    "Note that you can also change languages at the top. That's the default language setting if you're using one main language, but doesn't mean you have to stick to it within the notebook."
   ]
  },
  {
   "cell_type": "markdown",
   "metadata": {
    "application/vnd.databricks.v1+cell": {
     "cellMetadata": {
      "byteLimit": 2048000,
      "rowLimit": 10000
     },
     "inputWidgets": {},
     "nuid": "73075352-da8c-4813-abd4-86cc6840abd1",
     "showTitle": true,
     "tableResultSettingsMap": {},
     "title": "Magic Commands Demo"
    }
   },
   "source": [
    "## 📊 Step 3: Working with Data\n",
    "\n",
    "Let's create and display some data:"
   ]
  },
  {
   "cell_type": "code",
   "execution_count": 0,
   "metadata": {
    "application/vnd.databricks.v1+cell": {
     "cellMetadata": {
      "byteLimit": 2048000,
      "rowLimit": 10000
     },
     "inputWidgets": {},
     "nuid": "2c5562c3-554d-4e55-bbde-78e6db51558b",
     "showTitle": false,
     "tableResultSettingsMap": {},
     "title": ""
    }
   },
   "outputs": [],
   "source": [
    "# Creating a DataFrame from Python objects\n",
    "from pyspark.sql.types import StructType, StructField, StringType, IntegerType\n",
    "\n",
    "# Define schema for better control (best practice)\n",
    "schema = StructType([\n",
    "    StructField(\"name\", StringType(), False),\n",
    "    StructField(\"age\", IntegerType(), False),\n",
    "    StructField(\"city\", StringType(), True)\n",
    "])\n",
    "\n",
    "# Sample data as a list of tuples\n",
    "people_data = [\n",
    "    (\"Alice\", 25, \"New York\"),\n",
    "    (\"Bob\", 30, \"London\"),\n",
    "    (\"Charlie\", 35, \"Tokyo\")\n",
    "]\n",
    "\n",
    "# Create DataFrame with schema\n",
    "df = spark.createDataFrame(people_data, schema)\n",
    "\n",
    "# Use display() - Databricks' enhanced visualization function\n",
    "display(df)"
   ]
  },
  {
   "cell_type": "code",
   "execution_count": 0,
   "metadata": {
    "application/vnd.databricks.v1+cell": {
     "cellMetadata": {
      "byteLimit": 2048000,
      "implicitDf": true,
      "rowLimit": 10000
     },
     "inputWidgets": {},
     "nuid": "460a55a8-d0bf-4fca-8880-4ccbb4ed1e67",
     "showTitle": false,
     "tableResultSettingsMap": {},
     "title": ""
    },
    "vscode": {
     "languageId": "sql"
    }
   },
   "outputs": [],
   "source": [
    "%sql\n",
    "-- Create a temporary view - a SQL interface for our data\n",
    "-- Temporary views only exist for this notebook session\n",
    "CREATE OR REPLACE TEMPORARY VIEW people AS\n",
    "SELECT 'Alice' as name, 25 as age, 'New York' as city\n",
    "UNION ALL\n",
    "SELECT 'Bob', 30, 'London'\n",
    "UNION ALL\n",
    "SELECT 'Charlie', 35, 'Tokyo';\n",
    "\n",
    "-- Query with SQL transformation\n",
    "-- Adding derived column using CASE statement\n",
    "SELECT \n",
    "    name, \n",
    "    age, \n",
    "    city,\n",
    "    CASE \n",
    "        WHEN age >= 30 THEN 'Senior' \n",
    "        ELSE 'Junior' \n",
    "    END as category\n",
    "FROM people\n",
    "ORDER BY age;"
   ]
  },
  {
   "cell_type": "markdown",
   "metadata": {
    "application/vnd.databricks.v1+cell": {
     "cellMetadata": {
      "byteLimit": 2048000,
      "rowLimit": 10000
     },
     "inputWidgets": {},
     "nuid": "b2347647-8b73-498f-9596-c154fc774658",
     "showTitle": true,
     "tableResultSettingsMap": {},
     "title": "Tour Complete!"
    }
   },
   "source": [
    "## ✅ Notebook Tour Complete!\n",
    "\n",
    "**You've learned the essentials:**\n",
    "\n",
    "* 🐍 **Python cells** - Run code with Spark distributed processing\n",
    "* 📊 **SQL cells** - Query data directly with SQL syntax\n",
    "* 📝 **Markdown cells** - Add rich documentation with formatting\n",
    "* 📊 **display()** - Visualize DataFrames with interactive features\n",
    "\n",
    "**Pro Tips:**\n",
    "* Press **Shift+Enter** to run a cell and move to the next one\n",
    "* Use the **Command palette** (Cmd/Ctrl+Shift+P) for advanced functions\n",
    "* Notebooks save automatically - no need to manually save\n",
    "* Use **Cmd/Ctrl+Enter** to run a cell without moving to the next one\n",
    "* Click the **+** icon in the left gutter to add cells\n",
    "* The **Run All** button runs all cells in sequence\n",
    "\n",
    "**🔄 Best Practices:**\n",
    "* Use schemas for DataFrames when possible\n",
    "* Leverage display() for better visualizations\n",
    "* Document your work with Markdown\n",
    "* Use SQL for data queries (it's often more readable)\n",
    "\n",
    "**Ready to explore Databricks!** 🚀"
   ]
  }
 ],
 "metadata": {
  "application/vnd.databricks.v1+notebook": {
   "computePreferences": null,
   "dashboards": [],
   "environmentMetadata": null,
   "inputWidgetPreferences": null,
   "language": "python",
   "notebookMetadata": {
    "mostRecentlyExecutedCommandWithImplicitDF": {
     "commandId": 6342691851376018,
     "dataframes": [
      "_sqldf"
     ]
    },
    "pythonIndentUnit": 4
   },
   "notebookName": "02_Databricks_Notebook_Tour",
   "widgets": {}
  },
  "language_info": {
   "name": "python"
  }
 },
 "nbformat": 4,
 "nbformat_minor": 0
}
