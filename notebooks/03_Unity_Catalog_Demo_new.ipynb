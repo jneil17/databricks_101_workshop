{
 "cells": [
  {
   "cell_type": "markdown",
   "id": "d69fac7d",
   "metadata": {},
   "source": [
    "# 🗄️ Unity Catalog Demo: Data Governance & Lineage\n",
    "*Explore Unity Catalog features with Formula 1 data lineage in 5 minutes*\n",
    "\n",
    "---\n",
    "\n",
    "## 🎯 Learning Objectives\n",
    "\n",
    "By the end of this demo, you'll understand:\n",
    "- ✅ **Unity Catalog's 3-level namespace** (catalog.schema.table)\n",
    "- ✅ **Data lineage tracking** and visualization\n",
    "- ✅ **Governance features** for enterprise data management\n",
    "- ✅ **Best practices** for organizing data assets\n",
    "\n",
    "---"
   ]
  },
  {
   "cell_type": "markdown",
   "id": "95acdfb4",
   "metadata": {},
   "source": [
    "## 📊 What We'll Explore\n",
    "\n",
    "**Data Lineage Demo Pipeline:**\n",
    "```\n",
    "🔍 Unity Catalog Features:\n",
    "├── 📋 Data Discovery (search and explore tables)\n",
    "├── 📈 Lineage Visualization (track data flow)\n",
    "├── 🔒 Governance Controls (permissions and security)\n",
    "├── 📝 Metadata Management (descriptions and tags)\n",
    "└── 🔍 Impact Analysis (understand dependencies)\n",
    "```\n",
    "\n",
    "### 🎯 Using Our F1 Data\n",
    "We'll explore the data pipeline we created in Notebook 02:\n",
    "- **Bronze Tables** → **Silver Tables** → **Gold Tables**\n",
    "- **Data lineage** from raw CSV files to analytics\n",
    "- **Impact analysis** for schema changes\n",
    "- **Governance** for production data assets"
   ]
  },
  {
   "cell_type": "code",
   "execution_count": null,
   "id": "8e2f08db",
   "metadata": {},
   "outputs": [],
   "source": [
    "# Let's explore our F1 data catalog structure\n",
    "print(\"🗄️ Unity Catalog Structure for F1 Data:\")\n",
    "print(\"=\"*50)\n",
    "\n",
    "# Show all tables in our schema\n",
    "tables_df = spark.sql(\"SHOW TABLES IN main.default\")\n",
    "tables_df.show()\n",
    "\n",
    "print(f\"\\n📊 Total tables created: {tables_df.count()}\")"
   ]
  },
  {
   "cell_type": "markdown",
   "id": "e78c41a3",
   "metadata": {},
   "source": [
    "## 🔍 Data Discovery and Metadata\n",
    "\n",
    "Unity Catalog provides rich metadata and discovery capabilities. Let's explore our F1 tables:"
   ]
  },
  {
   "cell_type": "code",
   "execution_count": null,
   "id": "397c5791",
   "metadata": {},
   "outputs": [],
   "source": [
    "# Explore detailed table information\n",
    "print(\"📋 Detailed Table Information:\")\n",
    "print(\"=\"*60)\n",
    "\n",
    "# Get detailed info for our gold table\n",
    "print(\"\\n🥇 Gold Driver Standings Table:\")\n",
    "spark.sql(\"DESCRIBE EXTENDED main.default.gold_driver_standings\").show(50, False)\n",
    "\n",
    "print(\"\\n📊 Table Statistics:\")\n",
    "spark.sql(\"DESCRIBE DETAIL main.default.gold_driver_standings\").show(1, False)"
   ]
  },
  {
   "cell_type": "markdown",
   "id": "ae20961c",
   "metadata": {},
   "source": [
    "## 📈 Data Lineage Visualization\n",
    "\n",
    "**[Screenshot: Unity Catalog Lineage Graph]**\n",
    "*📁 Image location: `images/03_lineage_graph.png`*\n",
    "*Screenshot guidance: Show the Unity Catalog lineage view with F1 tables connected, displaying the flow from Bronze → Silver → Gold*\n",
    "\n",
    "### 🔄 Lineage Features to Explore:\n",
    "\n",
    "#### 1. **Navigate to Unity Catalog UI**\n",
    "- Click **\"Catalog\"** in the left sidebar\n",
    "- Navigate to **main** → **default** → **gold_driver_standings**\n",
    "- Click the **\"Lineage\"** tab\n",
    "\n",
    "#### 2. **Explore Lineage Graph**\n",
    "- **Upstream dependencies** - see bronze and silver tables\n",
    "- **Transformation logic** - view the JOIN operations\n",
    "- **Column-level lineage** - trace individual metrics\n",
    "- **Downstream usage** - find dashboards and queries using this data\n",
    "\n",
    "#### 3. **Impact Analysis**\n",
    "- **Schema changes** - understand what would break\n",
    "- **Dependency mapping** - see all affected assets\n",
    "- **Change propagation** - track impact of modifications"
   ]
  },
  {
   "cell_type": "code",
   "execution_count": null,
   "id": "b7dd333e",
   "metadata": {},
   "outputs": [],
   "source": [
    "# Let's add some metadata to our tables for better governance\n",
    "print(\"📝 Adding Metadata to F1 Tables:\")\n",
    "print(\"=\"*40)\n",
    "\n",
    "# Add table comments for better documentation\n",
    "table_comments = {\n",
    "    \"gold_driver_standings\": \"Comprehensive F1 driver career statistics and performance metrics aggregated from race results\",\n",
    "    \"gold_season_stats\": \"Annual Formula 1 season-level analytics including driver counts, races, and completion rates\",\n",
    "    \"silver_drivers\": \"Cleaned and validated F1 driver information with standardized names and data types\",\n",
    "    \"silver_races\": \"Processed F1 race information with validated dates and circuit details\",\n",
    "    \"silver_results\": \"Clean race results with calculated fields for winners, podiums, and performance metrics\"\n",
    "}\n",
    "\n",
    "for table_name, comment in table_comments.items():\n",
    "    try:\n",
    "        spark.sql(f\"ALTER TABLE main.default.{table_name} SET TBLPROPERTIES ('comment' = '{comment}')\")\n",
    "        print(f\"✅ Added comment to {table_name}\")\n",
    "    except Exception as e:\n",
    "        print(f\"⚠️ Could not add comment to {table_name}: {e}\")\n",
    "\n",
    "print(\"\\n💡 Now you can search for 'F1' or 'Formula' in Unity Catalog to find these tables!\")"
   ]
  },
  {
   "cell_type": "markdown",
   "id": "0e4b441f",
   "metadata": {},
   "source": [
    "## 🔒 Governance and Security Features\n",
    "\n",
    "Unity Catalog provides enterprise-grade governance capabilities:\n",
    "\n",
    "### 🛡️ Security Controls:\n",
    "- **Fine-grained access control** (table, column, row level)\n",
    "- **Dynamic data masking** for sensitive information\n",
    "- **Audit logging** for compliance and monitoring\n",
    "- **Attribute-based access control** (ABAC)\n",
    "\n",
    "### 📋 Data Classification:\n",
    "- **Sensitivity labels** (PII, confidential, public)\n",
    "- **Compliance tags** (GDPR, CCPA, SOX)\n",
    "- **Business classification** (finance, marketing, operations)\n",
    "- **Quality indicators** (bronze, silver, gold, certified)\n",
    "\n",
    "### 🔍 Monitoring and Auditing:\n",
    "- **Access patterns** and usage analytics\n",
    "- **Change history** and version control\n",
    "- **Performance metrics** and optimization recommendations\n",
    "- **Data freshness** and quality monitoring"
   ]
  },
  {
   "cell_type": "markdown",
   "id": "06e0609d",
   "metadata": {},
   "source": [
    "## ✅ Unity Catalog Demo Complete!\n",
    "\n",
    "**🎉 Great job! You've explored Unity Catalog's powerful governance features!**\n",
    "\n",
    "### What You've Learned:\n",
    "- ✅ **3-level namespace** organization (catalog.schema.table)\n",
    "- ✅ **Data lineage** visualization and impact analysis\n",
    "- ✅ **Metadata management** and table documentation\n",
    "- ✅ **Governance capabilities** for enterprise data management\n",
    "\n",
    "### 🚀 Next Steps in Unity Catalog:\n",
    "1. **Explore the UI** - Navigate to Catalog → main → default\n",
    "2. **View Lineage** - Click on any gold table and explore lineage\n",
    "3. **Search Data** - Use the search bar to find F1-related assets\n",
    "4. **Set up Permissions** - Configure access controls for your team\n",
    "5. **Add Tags** - Classify your data with business-relevant tags\n",
    "\n",
    "### 💡 Key Governance Benefits:\n",
    "- **Data Discovery** - Find relevant datasets quickly\n",
    "- **Impact Analysis** - Understand change consequences\n",
    "- **Compliance** - Meet regulatory requirements\n",
    "- **Quality** - Track data lineage and transformations\n",
    "- **Security** - Control access at granular levels\n",
    "\n",
    "**Continue to the next notebook:** `04_Job_Creation.ipynb`\n",
    "\n",
    "**🏁 Ready to automate your F1 pipeline? Let's create some jobs! 🚀**"
   ]
  }
 ],
 "metadata": {
  "language_info": {
   "name": "python"
  }
 },
 "nbformat": 4,
 "nbformat_minor": 5
}
