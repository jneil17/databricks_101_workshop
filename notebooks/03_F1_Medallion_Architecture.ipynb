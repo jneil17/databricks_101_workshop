{
 "cells": [
  {
   "cell_type": "markdown",
   "id": "2e00d021",
   "metadata": {},
   "source": [
    "# 📊 Building the Medallion Architecture\n",
    "*Create a complete F1 analytics pipeline using the data lake design pattern*\n",
    "\n",
    "---\n",
    "\n",
    "## 🎯 What We'll Build\n",
    "\n",
    "In this notebook, we'll build a complete data pipeline following the medallion architecture pattern:\n",
    "\n",
    "1. **Bronze Layer**: Raw data ingestion from Volume\n",
    "2. **Silver Layer**: Clean and transform the data\n",
    "3. **Gold Layer**: Create analytics-ready tables\n",
    "\n",
    "We'll use the F1 dataset that we prepared in the setup notebook to analyze Formula 1 racing history.\n",
    "\n",
    "**Let's get started!** 🚀"
   ]
  },
  {
   "cell_type": "markdown",
   "id": "c5c122ec",
   "metadata": {},
   "source": [
    "## 📋 Prerequisites\n",
    "\n",
    "Before running this notebook, make sure you've completed:\n",
    "1. The `00_Setup_Data.ipynb` notebook to download F1 data into the Volume\n",
    "2. Attached this notebook to a cluster with Spark 3.3+\n",
    "\n",
    "Let's first verify that our data is available in the Volume:"
   ]
  },
  {
   "cell_type": "code",
   "execution_count": null,
   "id": "c30ed7af",
   "metadata": {},
   "outputs": [],
   "source": [
    "# Check that our Volume exists and contains data\n",
    "import os\n",
    "\n",
    "volume_path = \"/Volumes/main/default/f1_raw_data/\"\n",
    "\n",
    "try:\n",
    "    files = os.listdir(volume_path)\n",
    "    print(f\"✅ Volume found with {len(files)} files:\")\n",
    "    \n",
    "    for file in files:\n",
    "        if file.endswith('.csv'):\n",
    "            file_path = os.path.join(volume_path, file)\n",
    "            file_size = os.path.getsize(file_path)\n",
    "            print(f\"  - {file}: {file_size:,} bytes\")\n",
    "            \n",
    "except Exception as e:\n",
    "    print(f\"❌ Error accessing volume: {str(e)}\")\n",
    "    print(\"Please run the 00_Setup_Data.ipynb notebook first to prepare the data.\")\n",
    "    raise Exception(\"Data volume not found or not accessible. Run setup notebook first.\")"
   ]
  },
  {
   "cell_type": "markdown",
   "id": "88116f4c",
   "metadata": {},
   "source": [
    "## 1️⃣ Bronze Layer: Raw Data Ingestion\n",
    "\n",
    "The Bronze layer represents the raw data ingested from source systems with minimal transformation.\n",
    "We'll create tables from the CSV files in our Volume using the COPY INTO command.\n",
    "\n",
    "Let's start by creating tables for races, drivers, and results:"
   ]
  },
  {
   "cell_type": "code",
   "execution_count": null,
   "id": "0245e160",
   "metadata": {
    "vscode": {
     "languageId": "sql"
    }
   },
   "outputs": [],
   "source": [
    "-- First, let's make sure we don't have any existing tables\n",
    "DROP TABLE IF EXISTS main.default.bronze_races;\n",
    "DROP TABLE IF EXISTS main.default.bronze_drivers;\n",
    "DROP TABLE IF EXISTS main.default.bronze_results;\n",
    "\n",
    "-- Create bronze_races table\n",
    "CREATE TABLE IF NOT EXISTS main.default.bronze_races (\n",
    "  raceId INT,\n",
    "  year INT,\n",
    "  round INT,\n",
    "  circuitId INT,\n",
    "  name STRING,\n",
    "  date DATE,\n",
    "  time STRING,\n",
    "  url STRING\n",
    ") USING DELTA;\n",
    "\n",
    "-- Create bronze_drivers table\n",
    "CREATE TABLE IF NOT EXISTS main.default.bronze_drivers (\n",
    "  driverId INT,\n",
    "  driverRef STRING,\n",
    "  number INT,\n",
    "  code STRING,\n",
    "  forename STRING,\n",
    "  surname STRING,\n",
    "  dob DATE,\n",
    "  nationality STRING,\n",
    "  url STRING\n",
    ") USING DELTA;\n",
    "\n",
    "-- Create bronze_results table\n",
    "CREATE TABLE IF NOT EXISTS main.default.bronze_results (\n",
    "  resultId INT,\n",
    "  raceId INT,\n",
    "  driverId INT,\n",
    "  constructorId INT,\n",
    "  number INT,\n",
    "  grid INT,\n",
    "  position INT,\n",
    "  positionText STRING,\n",
    "  positionOrder INT,\n",
    "  points FLOAT,\n",
    "  laps INT,\n",
    "  time STRING,\n",
    "  milliseconds INT,\n",
    "  fastestLap INT,\n",
    "  rank INT,\n",
    "  fastestLapTime STRING,\n",
    "  fastestLapSpeed FLOAT,\n",
    "  statusId INT\n",
    ") USING DELTA;"
   ]
  },
  {
   "cell_type": "code",
   "execution_count": null,
   "id": "7c68d9d6",
   "metadata": {
    "vscode": {
     "languageId": "sql"
    }
   },
   "outputs": [],
   "source": [
    "-- Load data into bronze_races using COPY INTO\n",
    "COPY INTO main.default.bronze_races\n",
    "FROM '/Volumes/main/default/f1_raw_data/races.csv'\n",
    "FILEFORMAT = CSV\n",
    "FORMAT_OPTIONS ('header' = 'true', 'inferSchema' = 'true')\n",
    "COPY_OPTIONS ('mergeSchema' = 'true');\n",
    "\n",
    "-- Check that data was loaded\n",
    "SELECT \n",
    "  'bronze_races' as table_name,\n",
    "  COUNT(*) as record_count,\n",
    "  MIN(year) as earliest_year,\n",
    "  MAX(year) as latest_year\n",
    "FROM main.default.bronze_races;"
   ]
  },
  {
   "cell_type": "code",
   "execution_count": null,
   "id": "e9a7daba",
   "metadata": {
    "vscode": {
     "languageId": "sql"
    }
   },
   "outputs": [],
   "source": [
    "-- Load data into bronze_drivers using COPY INTO\n",
    "COPY INTO main.default.bronze_drivers\n",
    "FROM '/Volumes/main/default/f1_raw_data/drivers.csv'\n",
    "FILEFORMAT = CSV\n",
    "FORMAT_OPTIONS ('header' = 'true', 'inferSchema' = 'true')\n",
    "COPY_OPTIONS ('mergeSchema' = 'true');\n",
    "\n",
    "-- Check that data was loaded\n",
    "SELECT \n",
    "  'bronze_drivers' as table_name,\n",
    "  COUNT(*) as record_count,\n",
    "  COUNT(DISTINCT nationality) as unique_nationalities,\n",
    "  MIN(dob) as earliest_dob,\n",
    "  MAX(dob) as latest_dob\n",
    "FROM main.default.bronze_drivers;"
   ]
  },
  {
   "cell_type": "code",
   "execution_count": null,
   "id": "c9403942",
   "metadata": {
    "vscode": {
     "languageId": "sql"
    }
   },
   "outputs": [],
   "source": [
    "-- Load data into bronze_results using COPY INTO\n",
    "COPY INTO main.default.bronze_results\n",
    "FROM '/Volumes/main/default/f1_raw_data/results.csv'\n",
    "FILEFORMAT = CSV\n",
    "FORMAT_OPTIONS ('header' = 'true', 'inferSchema' = 'true')\n",
    "COPY_OPTIONS ('mergeSchema' = 'true');\n",
    "\n",
    "-- Check that data was loaded\n",
    "SELECT \n",
    "  'bronze_results' as table_name,\n",
    "  COUNT(*) as record_count,\n",
    "  COUNT(DISTINCT raceId) as unique_races,\n",
    "  COUNT(DISTINCT driverId) as unique_drivers,\n",
    "  SUM(points) as total_points\n",
    "FROM main.default.bronze_results;"
   ]
  },
  {
   "cell_type": "markdown",
   "id": "b73a25e9",
   "metadata": {},
   "source": [
    "## 2️⃣ Silver Layer: Clean and Transform\n",
    "\n",
    "The Silver layer contains cleaner, more refined data. Here we'll:\n",
    "- Fix data types\n",
    "- Add full names for drivers\n",
    "- Standardize date/time formats\n",
    "- Remove/handle nulls and errors\n",
    "- Apply consistent naming conventions"
   ]
  },
  {
   "cell_type": "code",
   "execution_count": null,
   "id": "ab2b8b84",
   "metadata": {
    "vscode": {
     "languageId": "sql"
    }
   },
   "outputs": [],
   "source": [
    "-- First, drop any existing silver tables\n",
    "DROP TABLE IF EXISTS main.default.silver_races;\n",
    "DROP TABLE IF EXISTS main.default.silver_drivers;\n",
    "DROP TABLE IF EXISTS main.default.silver_results;\n",
    "\n",
    "-- Create silver_races with improved structure and data quality\n",
    "CREATE TABLE main.default.silver_races AS\n",
    "SELECT\n",
    "  raceId,\n",
    "  year,\n",
    "  round,\n",
    "  circuitId,\n",
    "  name as race_name,\n",
    "  -- Properly format date and handle nulls\n",
    "  date,\n",
    "  CASE \n",
    "    WHEN time IS NULL THEN '00:00:00' \n",
    "    ELSE time \n",
    "  END as start_time,\n",
    "  -- Extract and add useful derived columns\n",
    "  year as season,\n",
    "  CASE\n",
    "    WHEN year < 1970 THEN 'Early F1 Era'\n",
    "    WHEN year < 1980 THEN '70s Era'\n",
    "    WHEN year < 1990 THEN '80s Era'\n",
    "    WHEN year < 2000 THEN '90s Era'\n",
    "    WHEN year < 2010 THEN '2000s Era'\n",
    "    WHEN year < 2014 THEN 'Early 2010s'\n",
    "    WHEN year < 2022 THEN 'Hybrid Era'\n",
    "    ELSE 'Current Era'\n",
    "  END as f1_era,\n",
    "  -- Add metadata\n",
    "  current_timestamp() as processed_at\n",
    "FROM main.default.bronze_races\n",
    "WHERE year IS NOT NULL  -- Data quality: exclude rows with null year\n",
    "ORDER BY year, round;\n",
    "\n",
    "-- Check the results\n",
    "SELECT * FROM main.default.silver_races LIMIT 10;"
   ]
  },
  {
   "cell_type": "code",
   "execution_count": null,
   "id": "ffd06f86",
   "metadata": {
    "vscode": {
     "languageId": "sql"
    }
   },
   "outputs": [],
   "source": [
    "-- Create silver_drivers with cleaner structure\n",
    "CREATE TABLE main.default.silver_drivers AS\n",
    "SELECT\n",
    "  driverId,\n",
    "  driverRef as driver_ref,\n",
    "  -- Handle nulls in number and code fields\n",
    "  CAST(number AS INT) as driver_number,\n",
    "  code as driver_code,\n",
    "  -- Create full name\n",
    "  forename as first_name,\n",
    "  surname as last_name,\n",
    "  CONCAT(forename, ' ', surname) as full_name,\n",
    "  -- Clean date format\n",
    "  dob as date_of_birth,\n",
    "  -- Calculate age (simplified)\n",
    "  CAST(year(current_date()) - year(dob) AS INT) as current_age,\n",
    "  nationality,\n",
    "  -- Add metadata\n",
    "  current_timestamp() as processed_at\n",
    "FROM main.default.bronze_drivers\n",
    "-- Ensure we have at least a name\n",
    "WHERE forename IS NOT NULL AND surname IS NOT NULL;\n",
    "\n",
    "-- Check the results\n",
    "SELECT * FROM main.default.silver_drivers LIMIT 10;"
   ]
  },
  {
   "cell_type": "code",
   "execution_count": null,
   "id": "efc9a16d",
   "metadata": {
    "vscode": {
     "languageId": "sql"
    }
   },
   "outputs": [],
   "source": [
    "-- Create silver_results with clean, consistent structure\n",
    "CREATE TABLE main.default.silver_results AS\n",
    "SELECT\n",
    "  resultId as result_id,\n",
    "  raceId as race_id,\n",
    "  driverId as driver_id,\n",
    "  constructorId as constructor_id,\n",
    "  -- Handle nulls in numeric columns\n",
    "  CAST(COALESCE(number, -1) AS INT) as car_number,\n",
    "  CAST(grid AS INT) as starting_grid,\n",
    "  -- Clean position data\n",
    "  CASE \n",
    "    WHEN position = 'N' THEN NULL\n",
    "    WHEN position = 'R' THEN NULL\n",
    "    WHEN position = 'D' THEN NULL\n",
    "    ELSE CAST(position AS INT)\n",
    "  END as finish_position,\n",
    "  positionText as position_text,\n",
    "  positionOrder as position_order,\n",
    "  points,\n",
    "  laps,\n",
    "  -- Format time properly\n",
    "  time as race_time,\n",
    "  milliseconds as race_time_ms,\n",
    "  -- FastestLap info\n",
    "  CAST(COALESCE(fastestLap, -1) AS INT) as fastest_lap,\n",
    "  CAST(COALESCE(rank, -1) AS INT) as fastest_lap_rank,\n",
    "  fastestLapTime as fastest_lap_time,\n",
    "  CAST(COALESCE(fastestLapSpeed, -1) AS FLOAT) as fastest_lap_speed,\n",
    "  statusId as status_id,\n",
    "  -- Add metadata\n",
    "  current_timestamp() as processed_at\n",
    "FROM main.default.bronze_results;\n",
    "\n",
    "-- Check the results\n",
    "SELECT * FROM main.default.silver_results LIMIT 10;"
   ]
  },
  {
   "cell_type": "markdown",
   "id": "be28e7a5",
   "metadata": {},
   "source": [
    "## 3️⃣ Gold Layer: Analytics-Ready Tables\n",
    "\n",
    "The Gold layer contains business-level aggregations ready for analytics. \n",
    "Let's create tables that answer key questions about F1 racing."
   ]
  },
  {
   "cell_type": "code",
   "execution_count": null,
   "id": "43752656",
   "metadata": {
    "vscode": {
     "languageId": "sql"
    }
   },
   "outputs": [],
   "source": [
    "-- First, drop any existing gold tables\n",
    "DROP TABLE IF EXISTS main.default.gold_driver_standings;\n",
    "DROP TABLE IF EXISTS main.default.gold_season_stats;\n",
    "\n",
    "-- Create gold_driver_standings\n",
    "-- This will contain career statistics for all drivers\n",
    "CREATE TABLE main.default.gold_driver_standings AS\n",
    "SELECT \n",
    "  d.driver_id,\n",
    "  d.full_name,\n",
    "  d.nationality,\n",
    "  d.date_of_birth,\n",
    "  -- Career stats\n",
    "  COUNT(DISTINCT r.race_id) as total_races,\n",
    "  -- Count wins (position = 1)\n",
    "  SUM(CASE WHEN r.finish_position = 1 THEN 1 ELSE 0 END) as wins,\n",
    "  -- Count podiums (position <= 3)\n",
    "  SUM(CASE WHEN r.finish_position <= 3 THEN 1 ELSE 0 END) as podiums,\n",
    "  -- Total career points\n",
    "  SUM(r.points) as total_career_points,\n",
    "  -- Average points per race\n",
    "  ROUND(SUM(r.points) / COUNT(DISTINCT r.race_id), 2) as points_per_race,\n",
    "  -- Win percentage\n",
    "  ROUND(SUM(CASE WHEN r.finish_position = 1 THEN 1 ELSE 0 END) * 100.0 / \n",
    "        COUNT(DISTINCT r.race_id), 2) as win_percentage,\n",
    "  -- Career span\n",
    "  MIN(race.season) as career_start_year,\n",
    "  MAX(race.season) as career_end_year,\n",
    "  MAX(race.season) - MIN(race.season) + 1 as career_span_years,\n",
    "  -- Metadata\n",
    "  current_timestamp() as processed_at\n",
    "FROM main.default.silver_drivers d\n",
    "JOIN main.default.silver_results r ON d.driver_id = r.driver_id\n",
    "JOIN main.default.silver_races race ON r.race_id = race.raceId\n",
    "GROUP BY \n",
    "  d.driver_id,\n",
    "  d.full_name,\n",
    "  d.nationality,\n",
    "  d.date_of_birth\n",
    "-- Only include drivers with at least one race\n",
    "HAVING COUNT(DISTINCT r.race_id) >= 1\n",
    "ORDER BY total_career_points DESC;\n",
    "\n",
    "-- Check the results\n",
    "SELECT * FROM main.default.gold_driver_standings LIMIT 10;"
   ]
  },
  {
   "cell_type": "code",
   "execution_count": null,
   "id": "405433f5",
   "metadata": {
    "vscode": {
     "languageId": "sql"
    }
   },
   "outputs": [],
   "source": [
    "-- Create gold_season_stats\n",
    "-- This will contain statistics for each F1 season\n",
    "CREATE TABLE main.default.gold_season_stats AS\n",
    "WITH race_counts AS (\n",
    "  SELECT \n",
    "    season,\n",
    "    f1_era,\n",
    "    COUNT(*) as total_races\n",
    "  FROM main.default.silver_races\n",
    "  GROUP BY season, f1_era\n",
    "),\n",
    "season_drivers AS (\n",
    "  SELECT\n",
    "    race.season,\n",
    "    COUNT(DISTINCT r.driver_id) as unique_drivers,\n",
    "    COUNT(DISTINCT r.constructor_id) as unique_constructors\n",
    "  FROM main.default.silver_results r\n",
    "  JOIN main.default.silver_races race ON r.race_id = race.raceId\n",
    "  GROUP BY race.season\n",
    "),\n",
    "race_winners AS (\n",
    "  SELECT\n",
    "    race.season,\n",
    "    COUNT(DISTINCT r.driver_id) as unique_race_winners,\n",
    "    COUNT(DISTINCT r.constructor_id) as unique_winning_constructors\n",
    "  FROM main.default.silver_results r\n",
    "  JOIN main.default.silver_races race ON r.race_id = race.raceId\n",
    "  WHERE r.finish_position = 1\n",
    "  GROUP BY race.season\n",
    "),\n",
    "race_completion AS (\n",
    "  SELECT\n",
    "    race.season,\n",
    "    AVG(CASE WHEN r.finish_position IS NOT NULL THEN 1.0 ELSE 0.0 END) as completion_rate\n",
    "  FROM main.default.silver_results r\n",
    "  JOIN main.default.silver_races race ON r.race_id = race.raceId\n",
    "  GROUP BY race.season\n",
    "),\n",
    "season_points AS (\n",
    "  SELECT\n",
    "    race.season,\n",
    "    SUM(r.points) as total_points_awarded\n",
    "  FROM main.default.silver_results r\n",
    "  JOIN main.default.silver_races race ON r.race_id = race.raceId\n",
    "  GROUP BY race.season\n",
    ")\n",
    "SELECT\n",
    "  rc.season,\n",
    "  rc.f1_era,\n",
    "  rc.total_races,\n",
    "  sd.unique_drivers,\n",
    "  sd.unique_constructors,\n",
    "  COALESCE(rw.unique_race_winners, 0) as unique_race_winners,\n",
    "  COALESCE(rw.unique_winning_constructors, 0) as unique_winning_constructors,\n",
    "  ROUND(rcp.completion_rate, 3) as completion_rate,\n",
    "  COALESCE(sp.total_points_awarded, 0) as total_points_awarded,\n",
    "  current_timestamp() as processed_at\n",
    "FROM race_counts rc\n",
    "LEFT JOIN season_drivers sd ON rc.season = sd.season\n",
    "LEFT JOIN race_winners rw ON rc.season = rw.season\n",
    "LEFT JOIN race_completion rcp ON rc.season = rcp.season\n",
    "LEFT JOIN season_points sp ON rc.season = sp.season\n",
    "ORDER BY rc.season;\n",
    "\n",
    "-- Check the results\n",
    "SELECT * FROM main.default.gold_season_stats ORDER BY season DESC LIMIT 10;"
   ]
  },
  {
   "cell_type": "markdown",
   "id": "0bba6429",
   "metadata": {},
   "source": [
    "## 4️⃣ Verify the Medallion Architecture\n",
    "\n",
    "Let's visualize our complete medallion architecture by checking record counts at each layer:"
   ]
  },
  {
   "cell_type": "code",
   "execution_count": null,
   "id": "120e52e3",
   "metadata": {},
   "outputs": [],
   "source": [
    "# Create a dataframe showing table counts at each layer\n",
    "from pyspark.sql.functions import col, lit\n",
    "\n",
    "# Function to get table record count\n",
    "def get_table_count(table_name):\n",
    "    return spark.sql(f\"SELECT COUNT(*) as count FROM main.default.{table_name}\").collect()[0].count\n",
    "\n",
    "# Collect counts for each layer\n",
    "bronze_counts = {\n",
    "    'bronze_races': get_table_count('bronze_races'),\n",
    "    'bronze_drivers': get_table_count('bronze_drivers'),\n",
    "    'bronze_results': get_table_count('bronze_results')\n",
    "}\n",
    "\n",
    "silver_counts = {\n",
    "    'silver_races': get_table_count('silver_races'),\n",
    "    'silver_drivers': get_table_count('silver_drivers'),\n",
    "    'silver_results': get_table_count('silver_results')\n",
    "}\n",
    "\n",
    "gold_counts = {\n",
    "    'gold_driver_standings': get_table_count('gold_driver_standings'),\n",
    "    'gold_season_stats': get_table_count('gold_season_stats')\n",
    "}\n",
    "\n",
    "# Create dataframe for visualization\n",
    "data = []\n",
    "\n",
    "# Add bronze layer\n",
    "for table, count in bronze_counts.items():\n",
    "    data.append((\"Bronze\", table, count))\n",
    "    \n",
    "# Add silver layer\n",
    "for table, count in silver_counts.items():\n",
    "    data.append((\"Silver\", table, count))\n",
    "    \n",
    "# Add gold layer\n",
    "for table, count in gold_counts.items():\n",
    "    data.append((\"Gold\", table, count))\n",
    "\n",
    "# Create dataframe\n",
    "medallion_df = spark.createDataFrame(data, [\"layer\", \"table\", \"record_count\"])\n",
    "\n",
    "# Display the results\n",
    "display(medallion_df.orderBy(\"layer\", \"table\"))\n",
    "\n",
    "# Calculate totals by layer\n",
    "layer_totals = medallion_df.groupBy(\"layer\").sum(\"record_count\").withColumnRenamed(\"sum(record_count)\", \"total_records\")\n",
    "display(layer_totals.orderBy(\"layer\"))"
   ]
  },
  {
   "cell_type": "markdown",
   "id": "d01c7a9b",
   "metadata": {},
   "source": [
    "## 5️⃣ Explore the Data Model\n",
    "\n",
    "Let's see some example queries that use our medallion architecture:"
   ]
  },
  {
   "cell_type": "code",
   "execution_count": null,
   "id": "50a5e51b",
   "metadata": {
    "vscode": {
     "languageId": "sql"
    }
   },
   "outputs": [],
   "source": [
    "-- Top 10 drivers of all time by wins\n",
    "SELECT \n",
    "  full_name,\n",
    "  nationality,\n",
    "  wins,\n",
    "  podiums,\n",
    "  total_races,\n",
    "  ROUND(win_percentage, 1) as win_pct,\n",
    "  total_career_points\n",
    "FROM main.default.gold_driver_standings\n",
    "ORDER BY wins DESC\n",
    "LIMIT 10;"
   ]
  },
  {
   "cell_type": "code",
   "execution_count": null,
   "id": "d61f148e",
   "metadata": {
    "vscode": {
     "languageId": "sql"
    }
   },
   "outputs": [],
   "source": [
    "-- Most competitive seasons (highest number of different winners)\n",
    "SELECT \n",
    "  season,\n",
    "  f1_era,\n",
    "  total_races,\n",
    "  unique_race_winners,\n",
    "  unique_winning_constructors,\n",
    "  ROUND(unique_race_winners * 100.0 / total_races, 1) as winner_diversity_pct\n",
    "FROM main.default.gold_season_stats\n",
    "WHERE total_races >= 10\n",
    "ORDER BY unique_race_winners DESC\n",
    "LIMIT 10;"
   ]
  },
  {
   "cell_type": "code",
   "execution_count": null,
   "id": "d726e9c9",
   "metadata": {
    "vscode": {
     "languageId": "sql"
    }
   },
   "outputs": [],
   "source": [
    "-- Countries with most F1 driver success\n",
    "SELECT\n",
    "  d.nationality,\n",
    "  COUNT(DISTINCT d.driver_id) as total_drivers,\n",
    "  SUM(d.wins) as total_wins,\n",
    "  SUM(d.podiums) as total_podiums,\n",
    "  ROUND(SUM(d.total_career_points), 0) as total_points,\n",
    "  MAX(d.full_name) as most_successful_driver,\n",
    "  MAX(d.wins) as most_wins_by_driver\n",
    "FROM main.default.gold_driver_standings d\n",
    "GROUP BY d.nationality\n",
    "HAVING SUM(d.wins) > 0\n",
    "ORDER BY total_wins DESC\n",
    "LIMIT 10;"
   ]
  },
  {
   "cell_type": "markdown",
   "id": "9d073694",
   "metadata": {},
   "source": [
    "## ✅ Medallion Architecture Complete!\n",
    "\n",
    "Congratulations! You've successfully:\n",
    "- ✅ Created a Bronze layer with raw F1 data\n",
    "- ✅ Built a Silver layer with cleaned and transformed data\n",
    "- ✅ Developed a Gold layer with analytics-ready tables\n",
    "- ✅ Verified and explored the complete medallion architecture\n",
    "\n",
    "### 📈 Your F1 Data Pipeline Architecture:\n",
    "\n",
    "```\n",
    "Volume: /Volumes/main/default/f1_raw_data/\n",
    "  ↓ COPY INTO\n",
    "Bronze Layer:\n",
    "  bronze_races, bronze_drivers, bronze_results\n",
    "  ↓ Clean & Transform\n",
    "Silver Layer:\n",
    "  silver_races, silver_drivers, silver_results\n",
    "  ↓ Aggregate & Model\n",
    "Gold Layer:\n",
    "  gold_driver_standings, gold_season_stats\n",
    "  ↓ Analytics & Dashboards\n",
    "```\n",
    "\n",
    "**Next Steps:**\n",
    "- Continue to [03_Unity_Catalog_Demo.ipynb](03_Unity_Catalog_Demo.ipynb) to learn about data governance and lineage\n",
    "- Create dashboards using the gold tables\n",
    "- Set up automated refresh jobs for this pipeline"
   ]
  }
 ],
 "metadata": {
  "language_info": {
   "name": "python"
  }
 },
 "nbformat": 4,
 "nbformat_minor": 5
}
